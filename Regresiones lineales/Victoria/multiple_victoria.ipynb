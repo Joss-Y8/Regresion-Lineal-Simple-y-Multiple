{
 "cells": [
  {
   "cell_type": "code",
   "execution_count": 1,
   "metadata": {},
   "outputs": [],
   "source": [
    "#importamos librerias \n",
    "import pandas as pd \n",
    "import numpy as np \n",
    "import matplotlib.pyplot as plt \n",
    "import seaborn as sns"
   ]
  },
  {
   "cell_type": "code",
   "execution_count": 2,
   "metadata": {},
   "outputs": [
    {
     "data": {
      "text/html": [
       "<div>\n",
       "<style scoped>\n",
       "    .dataframe tbody tr th:only-of-type {\n",
       "        vertical-align: middle;\n",
       "    }\n",
       "\n",
       "    .dataframe tbody tr th {\n",
       "        vertical-align: top;\n",
       "    }\n",
       "\n",
       "    .dataframe thead th {\n",
       "        text-align: right;\n",
       "    }\n",
       "</style>\n",
       "<table border=\"1\" class=\"dataframe\">\n",
       "  <thead>\n",
       "    <tr style=\"text-align: right;\">\n",
       "      <th></th>\n",
       "      <th>listing_url</th>\n",
       "      <th>name</th>\n",
       "      <th>description</th>\n",
       "      <th>neighborhood_overview</th>\n",
       "      <th>picture_url</th>\n",
       "      <th>host_name</th>\n",
       "      <th>host_since</th>\n",
       "      <th>host_response_time</th>\n",
       "      <th>host_response_rate</th>\n",
       "      <th>host_is_superhost</th>\n",
       "      <th>...</th>\n",
       "      <th>review_scores_cleanliness</th>\n",
       "      <th>review_scores_checkin</th>\n",
       "      <th>review_scores_communication</th>\n",
       "      <th>review_scores_location</th>\n",
       "      <th>review_scores_value</th>\n",
       "      <th>calculated_host_listings_count</th>\n",
       "      <th>calculated_host_listings_count_entire_homes</th>\n",
       "      <th>calculated_host_listings_count_private_rooms</th>\n",
       "      <th>calculated_host_listings_count_shared_rooms</th>\n",
       "      <th>reviews_per_month</th>\n",
       "    </tr>\n",
       "  </thead>\n",
       "  <tbody>\n",
       "    <tr>\n",
       "      <th>0</th>\n",
       "      <td>https://www.airbnb.com/rooms/19898</td>\n",
       "      <td>Duchess Suite</td>\n",
       "      <td>No se proporciona descripción</td>\n",
       "      <td>No se proporcionan detalles</td>\n",
       "      <td>https://a0.muscache.com/pictures/101822/ae950f...</td>\n",
       "      <td>Ryan</td>\n",
       "      <td>2010-01-11</td>\n",
       "      <td>Desconocido</td>\n",
       "      <td>-%</td>\n",
       "      <td>f</td>\n",
       "      <td>...</td>\n",
       "      <td>5.00</td>\n",
       "      <td>5.00</td>\n",
       "      <td>5.00</td>\n",
       "      <td>4.90</td>\n",
       "      <td>4.80</td>\n",
       "      <td>1.0</td>\n",
       "      <td>0.0</td>\n",
       "      <td>0.0</td>\n",
       "      <td>0.0</td>\n",
       "      <td>1.90</td>\n",
       "    </tr>\n",
       "    <tr>\n",
       "      <th>1</th>\n",
       "      <td>https://www.airbnb.com/rooms/83515</td>\n",
       "      <td>GALLERY B&amp;B SUITE</td>\n",
       "      <td>A quiet and sunny suite with a private entranc...</td>\n",
       "      <td>Our property has gardens, an orchard, a pond a...</td>\n",
       "      <td>https://a0.muscache.com/pictures/6110737/930db...</td>\n",
       "      <td>Celia</td>\n",
       "      <td>2011-03-21</td>\n",
       "      <td>within an hour</td>\n",
       "      <td>100%</td>\n",
       "      <td>t</td>\n",
       "      <td>...</td>\n",
       "      <td>4.87</td>\n",
       "      <td>4.92</td>\n",
       "      <td>4.84</td>\n",
       "      <td>4.94</td>\n",
       "      <td>4.75</td>\n",
       "      <td>2.0</td>\n",
       "      <td>2.0</td>\n",
       "      <td>0.0</td>\n",
       "      <td>0.0</td>\n",
       "      <td>0.90</td>\n",
       "    </tr>\n",
       "    <tr>\n",
       "      <th>2</th>\n",
       "      <td>https://www.airbnb.com/rooms/168460</td>\n",
       "      <td>Perfectly located lovely home</td>\n",
       "      <td>Wonderful neighborhood, two blocks to inner ha...</td>\n",
       "      <td>Lovely neighborhood with friendly neighbors su...</td>\n",
       "      <td>https://a0.muscache.com/pictures/7a2bfc51-fd59...</td>\n",
       "      <td>Deborah</td>\n",
       "      <td>2011-07-10</td>\n",
       "      <td>Desconocido</td>\n",
       "      <td>-%</td>\n",
       "      <td>f</td>\n",
       "      <td>...</td>\n",
       "      <td>4.98</td>\n",
       "      <td>4.89</td>\n",
       "      <td>4.92</td>\n",
       "      <td>5.00</td>\n",
       "      <td>4.90</td>\n",
       "      <td>1.0</td>\n",
       "      <td>1.0</td>\n",
       "      <td>0.0</td>\n",
       "      <td>0.0</td>\n",
       "      <td>0.43</td>\n",
       "    </tr>\n",
       "    <tr>\n",
       "      <th>3</th>\n",
       "      <td>https://www.airbnb.com/rooms/185732</td>\n",
       "      <td>Romantic 2 bedroom private suite</td>\n",
       "      <td>The unit is a 2 bedroom suite sectioned off fr...</td>\n",
       "      <td>No se proporcionan detalles</td>\n",
       "      <td>https://a0.muscache.com/pictures/20829630/9356...</td>\n",
       "      <td>Peter</td>\n",
       "      <td>2011-07-27</td>\n",
       "      <td>a few days or more</td>\n",
       "      <td>10%</td>\n",
       "      <td>f</td>\n",
       "      <td>...</td>\n",
       "      <td>4.65</td>\n",
       "      <td>4.82</td>\n",
       "      <td>4.88</td>\n",
       "      <td>4.90</td>\n",
       "      <td>4.61</td>\n",
       "      <td>3.0</td>\n",
       "      <td>0.0</td>\n",
       "      <td>0.0</td>\n",
       "      <td>0.0</td>\n",
       "      <td>0.32</td>\n",
       "    </tr>\n",
       "    <tr>\n",
       "      <th>4</th>\n",
       "      <td>https://www.airbnb.com/rooms/193366</td>\n",
       "      <td>Tudor Cottage</td>\n",
       "      <td>In the historic Rockland area of Victoria, thi...</td>\n",
       "      <td>We are surrounded by heritage homes with lovel...</td>\n",
       "      <td>https://a0.muscache.com/pictures/6145514/1eb8d...</td>\n",
       "      <td>Sandra</td>\n",
       "      <td>2011-08-07</td>\n",
       "      <td>within a few hours</td>\n",
       "      <td>75%</td>\n",
       "      <td>f</td>\n",
       "      <td>...</td>\n",
       "      <td>4.78</td>\n",
       "      <td>4.92</td>\n",
       "      <td>4.89</td>\n",
       "      <td>4.88</td>\n",
       "      <td>4.76</td>\n",
       "      <td>1.0</td>\n",
       "      <td>1.0</td>\n",
       "      <td>0.0</td>\n",
       "      <td>0.0</td>\n",
       "      <td>1.01</td>\n",
       "    </tr>\n",
       "  </tbody>\n",
       "</table>\n",
       "<p>5 rows × 50 columns</p>\n",
       "</div>"
      ],
      "text/plain": [
       "                           listing_url                              name  \\\n",
       "0   https://www.airbnb.com/rooms/19898                     Duchess Suite   \n",
       "1   https://www.airbnb.com/rooms/83515                 GALLERY B&B SUITE   \n",
       "2  https://www.airbnb.com/rooms/168460     Perfectly located lovely home   \n",
       "3  https://www.airbnb.com/rooms/185732  Romantic 2 bedroom private suite   \n",
       "4  https://www.airbnb.com/rooms/193366                     Tudor Cottage   \n",
       "\n",
       "                                         description  \\\n",
       "0                      No se proporciona descripción   \n",
       "1  A quiet and sunny suite with a private entranc...   \n",
       "2  Wonderful neighborhood, two blocks to inner ha...   \n",
       "3  The unit is a 2 bedroom suite sectioned off fr...   \n",
       "4  In the historic Rockland area of Victoria, thi...   \n",
       "\n",
       "                               neighborhood_overview  \\\n",
       "0                        No se proporcionan detalles   \n",
       "1  Our property has gardens, an orchard, a pond a...   \n",
       "2  Lovely neighborhood with friendly neighbors su...   \n",
       "3                        No se proporcionan detalles   \n",
       "4  We are surrounded by heritage homes with lovel...   \n",
       "\n",
       "                                         picture_url host_name  host_since  \\\n",
       "0  https://a0.muscache.com/pictures/101822/ae950f...      Ryan  2010-01-11   \n",
       "1  https://a0.muscache.com/pictures/6110737/930db...     Celia  2011-03-21   \n",
       "2  https://a0.muscache.com/pictures/7a2bfc51-fd59...   Deborah  2011-07-10   \n",
       "3  https://a0.muscache.com/pictures/20829630/9356...     Peter  2011-07-27   \n",
       "4  https://a0.muscache.com/pictures/6145514/1eb8d...    Sandra  2011-08-07   \n",
       "\n",
       "   host_response_time host_response_rate host_is_superhost  ...  \\\n",
       "0         Desconocido                 -%                 f  ...   \n",
       "1      within an hour               100%                 t  ...   \n",
       "2         Desconocido                 -%                 f  ...   \n",
       "3  a few days or more                10%                 f  ...   \n",
       "4  within a few hours                75%                 f  ...   \n",
       "\n",
       "  review_scores_cleanliness review_scores_checkin review_scores_communication  \\\n",
       "0                      5.00                  5.00                        5.00   \n",
       "1                      4.87                  4.92                        4.84   \n",
       "2                      4.98                  4.89                        4.92   \n",
       "3                      4.65                  4.82                        4.88   \n",
       "4                      4.78                  4.92                        4.89   \n",
       "\n",
       "  review_scores_location review_scores_value calculated_host_listings_count  \\\n",
       "0                   4.90                4.80                            1.0   \n",
       "1                   4.94                4.75                            2.0   \n",
       "2                   5.00                4.90                            1.0   \n",
       "3                   4.90                4.61                            3.0   \n",
       "4                   4.88                4.76                            1.0   \n",
       "\n",
       "  calculated_host_listings_count_entire_homes  \\\n",
       "0                                         0.0   \n",
       "1                                         2.0   \n",
       "2                                         1.0   \n",
       "3                                         0.0   \n",
       "4                                         1.0   \n",
       "\n",
       "  calculated_host_listings_count_private_rooms  \\\n",
       "0                                          0.0   \n",
       "1                                          0.0   \n",
       "2                                          0.0   \n",
       "3                                          0.0   \n",
       "4                                          0.0   \n",
       "\n",
       "  calculated_host_listings_count_shared_rooms reviews_per_month  \n",
       "0                                         0.0              1.90  \n",
       "1                                         0.0              0.90  \n",
       "2                                         0.0              0.43  \n",
       "3                                         0.0              0.32  \n",
       "4                                         0.0              1.01  \n",
       "\n",
       "[5 rows x 50 columns]"
      ]
     },
     "execution_count": 2,
     "metadata": {},
     "output_type": "execute_result"
    }
   ],
   "source": [
    "#cargar archivo csv\n",
    "df=pd.read_csv('Victoria_limpio.csv')\n",
    "#eliminamos la columna unnamed \n",
    "df= df.drop(['Unnamed: 0'], axis=1)\n",
    "df.head(5)"
   ]
  },
  {
   "cell_type": "code",
   "execution_count": 3,
   "metadata": {},
   "outputs": [
    {
     "name": "stdout",
     "output_type": "stream",
     "text": [
      "<class 'pandas.core.frame.DataFrame'>\n",
      "RangeIndex: 3967 entries, 0 to 3966\n",
      "Data columns (total 50 columns):\n",
      " #   Column                                        Non-Null Count  Dtype  \n",
      "---  ------                                        --------------  -----  \n",
      " 0   listing_url                                   3967 non-null   object \n",
      " 1   name                                          3967 non-null   object \n",
      " 2   description                                   3967 non-null   object \n",
      " 3   neighborhood_overview                         3967 non-null   object \n",
      " 4   picture_url                                   3967 non-null   object \n",
      " 5   host_name                                     3967 non-null   object \n",
      " 6   host_since                                    3967 non-null   object \n",
      " 7   host_response_time                            3967 non-null   object \n",
      " 8   host_response_rate                            3967 non-null   object \n",
      " 9   host_is_superhost                             3967 non-null   object \n",
      " 10  host_identity_verified                        3967 non-null   object \n",
      " 11  neighbourhood                                 3967 non-null   object \n",
      " 12  neighbourhood_cleansed                        3967 non-null   object \n",
      " 13  property_type                                 3967 non-null   object \n",
      " 14  room_type                                     3967 non-null   object \n",
      " 15  bathrooms_text                                3967 non-null   object \n",
      " 16  amenities                                     3967 non-null   object \n",
      " 17  has_availability                              3967 non-null   object \n",
      " 18  first_review                                  3967 non-null   object \n",
      " 19  last_review                                   3967 non-null   object \n",
      " 20  instant_bookable                              3967 non-null   object \n",
      " 21  id                                            3967 non-null   int64  \n",
      " 22  latitude                                      3967 non-null   float64\n",
      " 23  longitude                                     3967 non-null   float64\n",
      " 24  accommodates                                  3967 non-null   float64\n",
      " 25  bathrooms                                     3967 non-null   float64\n",
      " 26  bedrooms                                      3967 non-null   float64\n",
      " 27  beds                                          3967 non-null   float64\n",
      " 28  price                                         3967 non-null   float64\n",
      " 29  minimum_nights                                3967 non-null   float64\n",
      " 30  maximum_nights                                3967 non-null   int64  \n",
      " 31  availability_30                               3967 non-null   int64  \n",
      " 32  availability_60                               3967 non-null   int64  \n",
      " 33  availability_90                               3967 non-null   int64  \n",
      " 34  availability_365                              3967 non-null   int64  \n",
      " 35  number_of_reviews                             3967 non-null   float64\n",
      " 36  number_of_reviews_ltm                         3967 non-null   float64\n",
      " 37  number_of_reviews_l30d                        3967 non-null   float64\n",
      " 38  review_scores_rating                          3967 non-null   float64\n",
      " 39  review_scores_accuracy                        3967 non-null   float64\n",
      " 40  review_scores_cleanliness                     3967 non-null   float64\n",
      " 41  review_scores_checkin                         3967 non-null   float64\n",
      " 42  review_scores_communication                   3967 non-null   float64\n",
      " 43  review_scores_location                        3967 non-null   float64\n",
      " 44  review_scores_value                           3967 non-null   float64\n",
      " 45  calculated_host_listings_count                3967 non-null   float64\n",
      " 46  calculated_host_listings_count_entire_homes   3967 non-null   float64\n",
      " 47  calculated_host_listings_count_private_rooms  3967 non-null   float64\n",
      " 48  calculated_host_listings_count_shared_rooms   3967 non-null   float64\n",
      " 49  reviews_per_month                             3967 non-null   float64\n",
      "dtypes: float64(23), int64(6), object(21)\n",
      "memory usage: 1.5+ MB\n"
     ]
    }
   ],
   "source": [
    "df.info()"
   ]
  },
  {
   "cell_type": "code",
   "execution_count": 4,
   "metadata": {},
   "outputs": [
    {
     "data": {
      "text/html": [
       "<div>\n",
       "<style scoped>\n",
       "    .dataframe tbody tr th:only-of-type {\n",
       "        vertical-align: middle;\n",
       "    }\n",
       "\n",
       "    .dataframe tbody tr th {\n",
       "        vertical-align: top;\n",
       "    }\n",
       "\n",
       "    .dataframe thead th {\n",
       "        text-align: right;\n",
       "    }\n",
       "</style>\n",
       "<table border=\"1\" class=\"dataframe\">\n",
       "  <thead>\n",
       "    <tr style=\"text-align: right;\">\n",
       "      <th></th>\n",
       "      <th>host_response_rate</th>\n",
       "      <th>host_is_superhost</th>\n",
       "      <th>host_identity_verified</th>\n",
       "      <th>property_type</th>\n",
       "      <th>room_type</th>\n",
       "      <th>instant_bookable</th>\n",
       "      <th>id</th>\n",
       "      <th>accommodates</th>\n",
       "      <th>bathrooms</th>\n",
       "      <th>bedrooms</th>\n",
       "      <th>price</th>\n",
       "      <th>review_scores_cleanliness</th>\n",
       "      <th>review_scores_value</th>\n",
       "      <th>calculated_host_listings_count</th>\n",
       "      <th>reviews_per_month</th>\n",
       "    </tr>\n",
       "  </thead>\n",
       "  <tbody>\n",
       "    <tr>\n",
       "      <th>0</th>\n",
       "      <td>-%</td>\n",
       "      <td>f</td>\n",
       "      <td>f</td>\n",
       "      <td>Private room in rental unit</td>\n",
       "      <td>Private room</td>\n",
       "      <td>f</td>\n",
       "      <td>19898</td>\n",
       "      <td>1.0</td>\n",
       "      <td>1.0</td>\n",
       "      <td>1.0</td>\n",
       "      <td>188.5</td>\n",
       "      <td>5.00</td>\n",
       "      <td>4.80</td>\n",
       "      <td>1.0</td>\n",
       "      <td>1.90</td>\n",
       "    </tr>\n",
       "    <tr>\n",
       "      <th>1</th>\n",
       "      <td>100%</td>\n",
       "      <td>t</td>\n",
       "      <td>t</td>\n",
       "      <td>Entire guest suite</td>\n",
       "      <td>Entire home/apt</td>\n",
       "      <td>t</td>\n",
       "      <td>83515</td>\n",
       "      <td>2.0</td>\n",
       "      <td>1.0</td>\n",
       "      <td>1.0</td>\n",
       "      <td>175.0</td>\n",
       "      <td>4.87</td>\n",
       "      <td>4.75</td>\n",
       "      <td>2.0</td>\n",
       "      <td>0.90</td>\n",
       "    </tr>\n",
       "    <tr>\n",
       "      <th>2</th>\n",
       "      <td>-%</td>\n",
       "      <td>f</td>\n",
       "      <td>f</td>\n",
       "      <td>Entire townhouse</td>\n",
       "      <td>Entire home/apt</td>\n",
       "      <td>f</td>\n",
       "      <td>168460</td>\n",
       "      <td>3.0</td>\n",
       "      <td>1.0</td>\n",
       "      <td>2.0</td>\n",
       "      <td>200.0</td>\n",
       "      <td>4.98</td>\n",
       "      <td>4.90</td>\n",
       "      <td>1.0</td>\n",
       "      <td>0.43</td>\n",
       "    </tr>\n",
       "    <tr>\n",
       "      <th>3</th>\n",
       "      <td>10%</td>\n",
       "      <td>f</td>\n",
       "      <td>t</td>\n",
       "      <td>Private room in home</td>\n",
       "      <td>Private room</td>\n",
       "      <td>f</td>\n",
       "      <td>185732</td>\n",
       "      <td>5.0</td>\n",
       "      <td>1.0</td>\n",
       "      <td>2.0</td>\n",
       "      <td>199.0</td>\n",
       "      <td>4.65</td>\n",
       "      <td>4.61</td>\n",
       "      <td>3.0</td>\n",
       "      <td>0.32</td>\n",
       "    </tr>\n",
       "    <tr>\n",
       "      <th>4</th>\n",
       "      <td>75%</td>\n",
       "      <td>f</td>\n",
       "      <td>t</td>\n",
       "      <td>Entire guest suite</td>\n",
       "      <td>Entire home/apt</td>\n",
       "      <td>t</td>\n",
       "      <td>193366</td>\n",
       "      <td>6.0</td>\n",
       "      <td>1.0</td>\n",
       "      <td>2.0</td>\n",
       "      <td>135.0</td>\n",
       "      <td>4.78</td>\n",
       "      <td>4.76</td>\n",
       "      <td>1.0</td>\n",
       "      <td>1.01</td>\n",
       "    </tr>\n",
       "    <tr>\n",
       "      <th>...</th>\n",
       "      <td>...</td>\n",
       "      <td>...</td>\n",
       "      <td>...</td>\n",
       "      <td>...</td>\n",
       "      <td>...</td>\n",
       "      <td>...</td>\n",
       "      <td>...</td>\n",
       "      <td>...</td>\n",
       "      <td>...</td>\n",
       "      <td>...</td>\n",
       "      <td>...</td>\n",
       "      <td>...</td>\n",
       "      <td>...</td>\n",
       "      <td>...</td>\n",
       "      <td>...</td>\n",
       "    </tr>\n",
       "    <tr>\n",
       "      <th>3962</th>\n",
       "      <td>100%</td>\n",
       "      <td>f</td>\n",
       "      <td>t</td>\n",
       "      <td>Entire rental unit</td>\n",
       "      <td>Entire home/apt</td>\n",
       "      <td>t</td>\n",
       "      <td>1297151447049091869</td>\n",
       "      <td>4.0</td>\n",
       "      <td>1.0</td>\n",
       "      <td>1.0</td>\n",
       "      <td>178.0</td>\n",
       "      <td>5.00</td>\n",
       "      <td>4.80</td>\n",
       "      <td>1.0</td>\n",
       "      <td>1.90</td>\n",
       "    </tr>\n",
       "    <tr>\n",
       "      <th>3963</th>\n",
       "      <td>-%</td>\n",
       "      <td>f</td>\n",
       "      <td>t</td>\n",
       "      <td>Entire home</td>\n",
       "      <td>Entire home/apt</td>\n",
       "      <td>f</td>\n",
       "      <td>1297951442048266188</td>\n",
       "      <td>4.0</td>\n",
       "      <td>1.0</td>\n",
       "      <td>1.0</td>\n",
       "      <td>242.0</td>\n",
       "      <td>5.00</td>\n",
       "      <td>4.80</td>\n",
       "      <td>2.0</td>\n",
       "      <td>1.90</td>\n",
       "    </tr>\n",
       "    <tr>\n",
       "      <th>3964</th>\n",
       "      <td>-%</td>\n",
       "      <td>f</td>\n",
       "      <td>f</td>\n",
       "      <td>Entire guesthouse</td>\n",
       "      <td>Entire home/apt</td>\n",
       "      <td>f</td>\n",
       "      <td>1298057658412712726</td>\n",
       "      <td>4.0</td>\n",
       "      <td>1.0</td>\n",
       "      <td>2.0</td>\n",
       "      <td>155.5</td>\n",
       "      <td>5.00</td>\n",
       "      <td>4.80</td>\n",
       "      <td>1.0</td>\n",
       "      <td>1.90</td>\n",
       "    </tr>\n",
       "    <tr>\n",
       "      <th>3965</th>\n",
       "      <td>-%</td>\n",
       "      <td>f</td>\n",
       "      <td>t</td>\n",
       "      <td>Entire home</td>\n",
       "      <td>Entire home/apt</td>\n",
       "      <td>f</td>\n",
       "      <td>1298245712044358317</td>\n",
       "      <td>4.0</td>\n",
       "      <td>1.0</td>\n",
       "      <td>1.0</td>\n",
       "      <td>242.0</td>\n",
       "      <td>5.00</td>\n",
       "      <td>4.80</td>\n",
       "      <td>2.0</td>\n",
       "      <td>1.90</td>\n",
       "    </tr>\n",
       "    <tr>\n",
       "      <th>3966</th>\n",
       "      <td>-%</td>\n",
       "      <td>f</td>\n",
       "      <td>t</td>\n",
       "      <td>Entire rental unit</td>\n",
       "      <td>Entire home/apt</td>\n",
       "      <td>f</td>\n",
       "      <td>1298767818701196083</td>\n",
       "      <td>4.0</td>\n",
       "      <td>1.0</td>\n",
       "      <td>2.0</td>\n",
       "      <td>300.0</td>\n",
       "      <td>5.00</td>\n",
       "      <td>4.80</td>\n",
       "      <td>1.0</td>\n",
       "      <td>1.90</td>\n",
       "    </tr>\n",
       "  </tbody>\n",
       "</table>\n",
       "<p>3967 rows × 15 columns</p>\n",
       "</div>"
      ],
      "text/plain": [
       "     host_response_rate host_is_superhost host_identity_verified  \\\n",
       "0                    -%                 f                      f   \n",
       "1                  100%                 t                      t   \n",
       "2                    -%                 f                      f   \n",
       "3                   10%                 f                      t   \n",
       "4                   75%                 f                      t   \n",
       "...                 ...               ...                    ...   \n",
       "3962               100%                 f                      t   \n",
       "3963                 -%                 f                      t   \n",
       "3964                 -%                 f                      f   \n",
       "3965                 -%                 f                      t   \n",
       "3966                 -%                 f                      t   \n",
       "\n",
       "                    property_type        room_type instant_bookable  \\\n",
       "0     Private room in rental unit     Private room                f   \n",
       "1              Entire guest suite  Entire home/apt                t   \n",
       "2                Entire townhouse  Entire home/apt                f   \n",
       "3            Private room in home     Private room                f   \n",
       "4              Entire guest suite  Entire home/apt                t   \n",
       "...                           ...              ...              ...   \n",
       "3962           Entire rental unit  Entire home/apt                t   \n",
       "3963                  Entire home  Entire home/apt                f   \n",
       "3964            Entire guesthouse  Entire home/apt                f   \n",
       "3965                  Entire home  Entire home/apt                f   \n",
       "3966           Entire rental unit  Entire home/apt                f   \n",
       "\n",
       "                       id  accommodates  bathrooms  bedrooms  price  \\\n",
       "0                   19898           1.0        1.0       1.0  188.5   \n",
       "1                   83515           2.0        1.0       1.0  175.0   \n",
       "2                  168460           3.0        1.0       2.0  200.0   \n",
       "3                  185732           5.0        1.0       2.0  199.0   \n",
       "4                  193366           6.0        1.0       2.0  135.0   \n",
       "...                   ...           ...        ...       ...    ...   \n",
       "3962  1297151447049091869           4.0        1.0       1.0  178.0   \n",
       "3963  1297951442048266188           4.0        1.0       1.0  242.0   \n",
       "3964  1298057658412712726           4.0        1.0       2.0  155.5   \n",
       "3965  1298245712044358317           4.0        1.0       1.0  242.0   \n",
       "3966  1298767818701196083           4.0        1.0       2.0  300.0   \n",
       "\n",
       "      review_scores_cleanliness  review_scores_value  \\\n",
       "0                          5.00                 4.80   \n",
       "1                          4.87                 4.75   \n",
       "2                          4.98                 4.90   \n",
       "3                          4.65                 4.61   \n",
       "4                          4.78                 4.76   \n",
       "...                         ...                  ...   \n",
       "3962                       5.00                 4.80   \n",
       "3963                       5.00                 4.80   \n",
       "3964                       5.00                 4.80   \n",
       "3965                       5.00                 4.80   \n",
       "3966                       5.00                 4.80   \n",
       "\n",
       "      calculated_host_listings_count  reviews_per_month  \n",
       "0                                1.0               1.90  \n",
       "1                                2.0               0.90  \n",
       "2                                1.0               0.43  \n",
       "3                                3.0               0.32  \n",
       "4                                1.0               1.01  \n",
       "...                              ...                ...  \n",
       "3962                             1.0               1.90  \n",
       "3963                             2.0               1.90  \n",
       "3964                             1.0               1.90  \n",
       "3965                             2.0               1.90  \n",
       "3966                             1.0               1.90  \n",
       "\n",
       "[3967 rows x 15 columns]"
      ]
     },
     "execution_count": 4,
     "metadata": {},
     "output_type": "execute_result"
    }
   ],
   "source": [
    "f1=df.iloc[ :  , [8,9,10,13,14,20,21,24,25,26,28,40,44,45,49] ]\n",
    "f1"
   ]
  },
  {
   "cell_type": "code",
   "execution_count": 5,
   "metadata": {},
   "outputs": [
    {
     "name": "stdout",
     "output_type": "stream",
     "text": [
      "<class 'pandas.core.frame.DataFrame'>\n",
      "RangeIndex: 3967 entries, 0 to 3966\n",
      "Data columns (total 15 columns):\n",
      " #   Column                          Non-Null Count  Dtype  \n",
      "---  ------                          --------------  -----  \n",
      " 0   host_response_rate              3967 non-null   object \n",
      " 1   host_is_superhost               3967 non-null   object \n",
      " 2   host_identity_verified          3967 non-null   object \n",
      " 3   property_type                   3967 non-null   object \n",
      " 4   room_type                       3967 non-null   object \n",
      " 5   instant_bookable                3967 non-null   object \n",
      " 6   id                              3967 non-null   int64  \n",
      " 7   accommodates                    3967 non-null   float64\n",
      " 8   bathrooms                       3967 non-null   float64\n",
      " 9   bedrooms                        3967 non-null   float64\n",
      " 10  price                           3967 non-null   float64\n",
      " 11  review_scores_cleanliness       3967 non-null   float64\n",
      " 12  review_scores_value             3967 non-null   float64\n",
      " 13  calculated_host_listings_count  3967 non-null   float64\n",
      " 14  reviews_per_month               3967 non-null   float64\n",
      "dtypes: float64(8), int64(1), object(6)\n",
      "memory usage: 465.0+ KB\n"
     ]
    }
   ],
   "source": [
    "f1.info()"
   ]
  },
  {
   "cell_type": "code",
   "execution_count": 6,
   "metadata": {},
   "outputs": [
    {
     "name": "stderr",
     "output_type": "stream",
     "text": [
      "C:\\Users\\josse\\AppData\\Local\\Temp\\ipykernel_1328\\2464637102.py:3: FutureWarning: Downcasting behavior in `replace` is deprecated and will be removed in a future version. To retain the old behavior, explicitly call `result.infer_objects(copy=False)`. To opt-in to the future behavior, set `pd.set_option('future.no_silent_downcasting', True)`\n",
      "  f1['host_is_superhost'] = f1['host_is_superhost'].replace({'f': 0, 't': 1})\n",
      "C:\\Users\\josse\\AppData\\Local\\Temp\\ipykernel_1328\\2464637102.py:3: SettingWithCopyWarning: \n",
      "A value is trying to be set on a copy of a slice from a DataFrame.\n",
      "Try using .loc[row_indexer,col_indexer] = value instead\n",
      "\n",
      "See the caveats in the documentation: https://pandas.pydata.org/pandas-docs/stable/user_guide/indexing.html#returning-a-view-versus-a-copy\n",
      "  f1['host_is_superhost'] = f1['host_is_superhost'].replace({'f': 0, 't': 1})\n",
      "C:\\Users\\josse\\AppData\\Local\\Temp\\ipykernel_1328\\2464637102.py:4: FutureWarning: Downcasting behavior in `replace` is deprecated and will be removed in a future version. To retain the old behavior, explicitly call `result.infer_objects(copy=False)`. To opt-in to the future behavior, set `pd.set_option('future.no_silent_downcasting', True)`\n",
      "  f1['host_identity_verified'] = f1['host_identity_verified'].replace({'f': 0, 't': 1})\n",
      "C:\\Users\\josse\\AppData\\Local\\Temp\\ipykernel_1328\\2464637102.py:4: SettingWithCopyWarning: \n",
      "A value is trying to be set on a copy of a slice from a DataFrame.\n",
      "Try using .loc[row_indexer,col_indexer] = value instead\n",
      "\n",
      "See the caveats in the documentation: https://pandas.pydata.org/pandas-docs/stable/user_guide/indexing.html#returning-a-view-versus-a-copy\n",
      "  f1['host_identity_verified'] = f1['host_identity_verified'].replace({'f': 0, 't': 1})\n",
      "C:\\Users\\josse\\AppData\\Local\\Temp\\ipykernel_1328\\2464637102.py:5: FutureWarning: Downcasting behavior in `replace` is deprecated and will be removed in a future version. To retain the old behavior, explicitly call `result.infer_objects(copy=False)`. To opt-in to the future behavior, set `pd.set_option('future.no_silent_downcasting', True)`\n",
      "  f1['instant_bookable'] = f1['instant_bookable'].replace({'f': 0, 't': 1})\n",
      "C:\\Users\\josse\\AppData\\Local\\Temp\\ipykernel_1328\\2464637102.py:5: SettingWithCopyWarning: \n",
      "A value is trying to be set on a copy of a slice from a DataFrame.\n",
      "Try using .loc[row_indexer,col_indexer] = value instead\n",
      "\n",
      "See the caveats in the documentation: https://pandas.pydata.org/pandas-docs/stable/user_guide/indexing.html#returning-a-view-versus-a-copy\n",
      "  f1['instant_bookable'] = f1['instant_bookable'].replace({'f': 0, 't': 1})\n",
      "C:\\Users\\josse\\AppData\\Local\\Temp\\ipykernel_1328\\2464637102.py:19: SettingWithCopyWarning: \n",
      "A value is trying to be set on a copy of a slice from a DataFrame.\n",
      "Try using .loc[row_indexer,col_indexer] = value instead\n",
      "\n",
      "See the caveats in the documentation: https://pandas.pydata.org/pandas-docs/stable/user_guide/indexing.html#returning-a-view-versus-a-copy\n",
      "  f1['property_type'] = f1['property_type'].map(frecuencias)\n",
      "C:\\Users\\josse\\AppData\\Local\\Temp\\ipykernel_1328\\2464637102.py:23: SettingWithCopyWarning: \n",
      "A value is trying to be set on a copy of a slice from a DataFrame.\n",
      "Try using .loc[row_indexer,col_indexer] = value instead\n",
      "\n",
      "See the caveats in the documentation: https://pandas.pydata.org/pandas-docs/stable/user_guide/indexing.html#returning-a-view-versus-a-copy\n",
      "  f1['host_response_rate'] = f1['host_response_rate'].astype(str).str.rstrip('%')\n",
      "C:\\Users\\josse\\AppData\\Local\\Temp\\ipykernel_1328\\2464637102.py:24: SettingWithCopyWarning: \n",
      "A value is trying to be set on a copy of a slice from a DataFrame.\n",
      "Try using .loc[row_indexer,col_indexer] = value instead\n",
      "\n",
      "See the caveats in the documentation: https://pandas.pydata.org/pandas-docs/stable/user_guide/indexing.html#returning-a-view-versus-a-copy\n",
      "  f1['host_response_rate'] = pd.to_numeric(f1['host_response_rate'], errors='coerce').fillna(0)\n",
      "C:\\Users\\josse\\AppData\\Local\\Temp\\ipykernel_1328\\2464637102.py:26: SettingWithCopyWarning: \n",
      "A value is trying to be set on a copy of a slice from a DataFrame.\n",
      "Try using .loc[row_indexer,col_indexer] = value instead\n",
      "\n",
      "See the caveats in the documentation: https://pandas.pydata.org/pandas-docs/stable/user_guide/indexing.html#returning-a-view-versus-a-copy\n",
      "  f1['room_type'] = f1['room_type'].map({\n",
      "C:\\Users\\josse\\AppData\\Local\\Temp\\ipykernel_1328\\2464637102.py:33: SettingWithCopyWarning: \n",
      "A value is trying to be set on a copy of a slice from a DataFrame.\n",
      "Try using .loc[row_indexer,col_indexer] = value instead\n",
      "\n",
      "See the caveats in the documentation: https://pandas.pydata.org/pandas-docs/stable/user_guide/indexing.html#returning-a-view-versus-a-copy\n",
      "  f1['price'] = f1['price'].astype(str).str.rstrip('$')\n",
      "C:\\Users\\josse\\AppData\\Local\\Temp\\ipykernel_1328\\2464637102.py:34: SettingWithCopyWarning: \n",
      "A value is trying to be set on a copy of a slice from a DataFrame.\n",
      "Try using .loc[row_indexer,col_indexer] = value instead\n",
      "\n",
      "See the caveats in the documentation: https://pandas.pydata.org/pandas-docs/stable/user_guide/indexing.html#returning-a-view-versus-a-copy\n",
      "  f1['price'] = pd.to_numeric(f1['price'], errors='coerce').fillna(0)\n"
     ]
    }
   ],
   "source": [
    "#convertimos las variables de tipo object a tipo numérico \n",
    "#convertimos string a tipos numéricos\n",
    "f1['host_is_superhost'] = f1['host_is_superhost'].replace({'f': 0, 't': 1})\n",
    "f1['host_identity_verified'] = f1['host_identity_verified'].replace({'f': 0, 't': 1})\n",
    "f1['instant_bookable'] = f1['instant_bookable'].replace({'f': 0, 't': 1})\n",
    "\n",
    "#from sklearn.preprocessing import LabelEncoder\n",
    "\n",
    "#encoder = LabelEncoder()\n",
    "#df['property_type'] = encoder.fit_transform(df['property_type'])\n",
    "\n",
    "#from sklearn.preprocessing import LabelEncoder\n",
    "\n",
    "#encoder = LabelEncoder()\n",
    "#f1['property_type'] = encoder.fit_transform(f1['property_type'])\n",
    "#f1['property_type'] = f1['property_type'].astype(float)\n",
    "\n",
    "frecuencias = f1['property_type'].value_counts()\n",
    "f1['property_type'] = f1['property_type'].map(frecuencias)\n",
    "#print(f1[['property_type']])\n",
    "\n",
    "\n",
    "f1['host_response_rate'] = f1['host_response_rate'].astype(str).str.rstrip('%')\n",
    "f1['host_response_rate'] = pd.to_numeric(f1['host_response_rate'], errors='coerce').fillna(0)\n",
    "\n",
    "f1['room_type'] = f1['room_type'].map({\n",
    "    'Entire home/apt': 1,\n",
    "    'Private room': 2,\n",
    "    'Shared room': 3,\n",
    "    'Hotel room': 4\n",
    "})\n",
    "\n",
    "f1['price'] = f1['price'].astype(str).str.rstrip('$')\n",
    "f1['price'] = pd.to_numeric(f1['price'], errors='coerce').fillna(0)"
   ]
  },
  {
   "cell_type": "markdown",
   "metadata": {},
   "source": [
    "**DECLARACIÓN DE VARIABLES DEPENDIENTES E INDEPENDIENTES**"
   ]
  },
  {
   "cell_type": "code",
   "execution_count": 62,
   "metadata": {},
   "outputs": [
    {
     "name": "stdout",
     "output_type": "stream",
     "text": [
      "      property_type\n",
      "0                16\n",
      "1               884\n",
      "2                43\n",
      "3               298\n",
      "4               884\n",
      "...             ...\n",
      "3962            345\n",
      "3963            909\n",
      "3964            188\n",
      "3965            909\n",
      "3966            345\n",
      "\n",
      "[3967 rows x 1 columns]\n"
     ]
    }
   ],
   "source": [
    "print(f1[['property_type']])"
   ]
  },
  {
   "cell_type": "code",
   "execution_count": 64,
   "metadata": {},
   "outputs": [
    {
     "data": {
      "text/plain": [
       "property_type\n",
       "Entire home                           909\n",
       "Entire guest suite                    884\n",
       "Entire condo                          410\n",
       "Entire rental unit                    345\n",
       "Private room in home                  298\n",
       "                                     ... \n",
       "Shared room in guest suite              1\n",
       "Campsite                                1\n",
       "Private room in religious building      1\n",
       "Shared room in condo                    1\n",
       "Shared room in rental unit              1\n",
       "Name: count, Length: 62, dtype: int64"
      ]
     },
     "execution_count": 64,
     "metadata": {},
     "output_type": "execute_result"
    }
   ],
   "source": [
    "frecuencias"
   ]
  },
  {
   "cell_type": "code",
   "execution_count": 7,
   "metadata": {},
   "outputs": [],
   "source": [
    "#declaración de las variables independientes que se van a comparar con cada variable independiente \n",
    "Vars_Indep= f1[['host_response_rate', 'host_is_superhost', 'room_type', 'host_identity_verified', 'property_type', 'instant_bookable', 'instant_bookable', 'bathrooms']]\n"
   ]
  },
  {
   "cell_type": "code",
   "execution_count": 8,
   "metadata": {},
   "outputs": [],
   "source": [
    "#Declaración de variables dependientes\n",
    "Var_Dep= f1['id']\n",
    "Var_Dep2= f1['host_response_rate']\n",
    "Var_Dep3= f1['host_is_superhost']\n",
    "Var_Dep4= f1['calculated_host_listings_count']\n",
    "Var_Dep5= f1['room_type']\n",
    "Var_Dep6= f1['accommodates']\n",
    "Var_Dep7= f1['bedrooms']\n",
    "Var_Dep8= f1['price']\n",
    "Var_Dep9= f1['review_scores_value']\n",
    "Var_Dep10= f1['reviews_per_month']"
   ]
  },
  {
   "cell_type": "code",
   "execution_count": 9,
   "metadata": {},
   "outputs": [],
   "source": [
    "#Se define model como la función de regresión lineal\n",
    "from sklearn.linear_model import LinearRegression\n",
    "model= LinearRegression()\n",
    "model2=LinearRegression()\n",
    "model3= LinearRegression()\n",
    "model4=LinearRegression()\n",
    "model5= LinearRegression()\n",
    "model6=LinearRegression()\n",
    "model7= LinearRegression()\n",
    "model8=LinearRegression()\n",
    "model9= LinearRegression()\n",
    "model10=LinearRegression()"
   ]
  },
  {
   "cell_type": "code",
   "execution_count": 10,
   "metadata": {},
   "outputs": [
    {
     "data": {
      "text/plain": [
       "sklearn.linear_model._base.LinearRegression"
      ]
     },
     "execution_count": 10,
     "metadata": {},
     "output_type": "execute_result"
    }
   ],
   "source": [
    "#Verificamos la función relacionada al modelo\n",
    "type(model)\n",
    "type(model2)\n",
    "type(model3)\n",
    "type(model4)\n",
    "type(model5)\n",
    "type(model6)\n",
    "type(model7)\n",
    "type(model8)\n",
    "type(model9)\n",
    "type(model10)"
   ]
  },
  {
   "cell_type": "code",
   "execution_count": 11,
   "metadata": {},
   "outputs": [
    {
     "data": {
      "text/html": [
       "<style>#sk-container-id-1 {\n",
       "  /* Definition of color scheme common for light and dark mode */\n",
       "  --sklearn-color-text: #000;\n",
       "  --sklearn-color-text-muted: #666;\n",
       "  --sklearn-color-line: gray;\n",
       "  /* Definition of color scheme for unfitted estimators */\n",
       "  --sklearn-color-unfitted-level-0: #fff5e6;\n",
       "  --sklearn-color-unfitted-level-1: #f6e4d2;\n",
       "  --sklearn-color-unfitted-level-2: #ffe0b3;\n",
       "  --sklearn-color-unfitted-level-3: chocolate;\n",
       "  /* Definition of color scheme for fitted estimators */\n",
       "  --sklearn-color-fitted-level-0: #f0f8ff;\n",
       "  --sklearn-color-fitted-level-1: #d4ebff;\n",
       "  --sklearn-color-fitted-level-2: #b3dbfd;\n",
       "  --sklearn-color-fitted-level-3: cornflowerblue;\n",
       "\n",
       "  /* Specific color for light theme */\n",
       "  --sklearn-color-text-on-default-background: var(--sg-text-color, var(--theme-code-foreground, var(--jp-content-font-color1, black)));\n",
       "  --sklearn-color-background: var(--sg-background-color, var(--theme-background, var(--jp-layout-color0, white)));\n",
       "  --sklearn-color-border-box: var(--sg-text-color, var(--theme-code-foreground, var(--jp-content-font-color1, black)));\n",
       "  --sklearn-color-icon: #696969;\n",
       "\n",
       "  @media (prefers-color-scheme: dark) {\n",
       "    /* Redefinition of color scheme for dark theme */\n",
       "    --sklearn-color-text-on-default-background: var(--sg-text-color, var(--theme-code-foreground, var(--jp-content-font-color1, white)));\n",
       "    --sklearn-color-background: var(--sg-background-color, var(--theme-background, var(--jp-layout-color0, #111)));\n",
       "    --sklearn-color-border-box: var(--sg-text-color, var(--theme-code-foreground, var(--jp-content-font-color1, white)));\n",
       "    --sklearn-color-icon: #878787;\n",
       "  }\n",
       "}\n",
       "\n",
       "#sk-container-id-1 {\n",
       "  color: var(--sklearn-color-text);\n",
       "}\n",
       "\n",
       "#sk-container-id-1 pre {\n",
       "  padding: 0;\n",
       "}\n",
       "\n",
       "#sk-container-id-1 input.sk-hidden--visually {\n",
       "  border: 0;\n",
       "  clip: rect(1px 1px 1px 1px);\n",
       "  clip: rect(1px, 1px, 1px, 1px);\n",
       "  height: 1px;\n",
       "  margin: -1px;\n",
       "  overflow: hidden;\n",
       "  padding: 0;\n",
       "  position: absolute;\n",
       "  width: 1px;\n",
       "}\n",
       "\n",
       "#sk-container-id-1 div.sk-dashed-wrapped {\n",
       "  border: 1px dashed var(--sklearn-color-line);\n",
       "  margin: 0 0.4em 0.5em 0.4em;\n",
       "  box-sizing: border-box;\n",
       "  padding-bottom: 0.4em;\n",
       "  background-color: var(--sklearn-color-background);\n",
       "}\n",
       "\n",
       "#sk-container-id-1 div.sk-container {\n",
       "  /* jupyter's `normalize.less` sets `[hidden] { display: none; }`\n",
       "     but bootstrap.min.css set `[hidden] { display: none !important; }`\n",
       "     so we also need the `!important` here to be able to override the\n",
       "     default hidden behavior on the sphinx rendered scikit-learn.org.\n",
       "     See: https://github.com/scikit-learn/scikit-learn/issues/21755 */\n",
       "  display: inline-block !important;\n",
       "  position: relative;\n",
       "}\n",
       "\n",
       "#sk-container-id-1 div.sk-text-repr-fallback {\n",
       "  display: none;\n",
       "}\n",
       "\n",
       "div.sk-parallel-item,\n",
       "div.sk-serial,\n",
       "div.sk-item {\n",
       "  /* draw centered vertical line to link estimators */\n",
       "  background-image: linear-gradient(var(--sklearn-color-text-on-default-background), var(--sklearn-color-text-on-default-background));\n",
       "  background-size: 2px 100%;\n",
       "  background-repeat: no-repeat;\n",
       "  background-position: center center;\n",
       "}\n",
       "\n",
       "/* Parallel-specific style estimator block */\n",
       "\n",
       "#sk-container-id-1 div.sk-parallel-item::after {\n",
       "  content: \"\";\n",
       "  width: 100%;\n",
       "  border-bottom: 2px solid var(--sklearn-color-text-on-default-background);\n",
       "  flex-grow: 1;\n",
       "}\n",
       "\n",
       "#sk-container-id-1 div.sk-parallel {\n",
       "  display: flex;\n",
       "  align-items: stretch;\n",
       "  justify-content: center;\n",
       "  background-color: var(--sklearn-color-background);\n",
       "  position: relative;\n",
       "}\n",
       "\n",
       "#sk-container-id-1 div.sk-parallel-item {\n",
       "  display: flex;\n",
       "  flex-direction: column;\n",
       "}\n",
       "\n",
       "#sk-container-id-1 div.sk-parallel-item:first-child::after {\n",
       "  align-self: flex-end;\n",
       "  width: 50%;\n",
       "}\n",
       "\n",
       "#sk-container-id-1 div.sk-parallel-item:last-child::after {\n",
       "  align-self: flex-start;\n",
       "  width: 50%;\n",
       "}\n",
       "\n",
       "#sk-container-id-1 div.sk-parallel-item:only-child::after {\n",
       "  width: 0;\n",
       "}\n",
       "\n",
       "/* Serial-specific style estimator block */\n",
       "\n",
       "#sk-container-id-1 div.sk-serial {\n",
       "  display: flex;\n",
       "  flex-direction: column;\n",
       "  align-items: center;\n",
       "  background-color: var(--sklearn-color-background);\n",
       "  padding-right: 1em;\n",
       "  padding-left: 1em;\n",
       "}\n",
       "\n",
       "\n",
       "/* Toggleable style: style used for estimator/Pipeline/ColumnTransformer box that is\n",
       "clickable and can be expanded/collapsed.\n",
       "- Pipeline and ColumnTransformer use this feature and define the default style\n",
       "- Estimators will overwrite some part of the style using the `sk-estimator` class\n",
       "*/\n",
       "\n",
       "/* Pipeline and ColumnTransformer style (default) */\n",
       "\n",
       "#sk-container-id-1 div.sk-toggleable {\n",
       "  /* Default theme specific background. It is overwritten whether we have a\n",
       "  specific estimator or a Pipeline/ColumnTransformer */\n",
       "  background-color: var(--sklearn-color-background);\n",
       "}\n",
       "\n",
       "/* Toggleable label */\n",
       "#sk-container-id-1 label.sk-toggleable__label {\n",
       "  cursor: pointer;\n",
       "  display: flex;\n",
       "  width: 100%;\n",
       "  margin-bottom: 0;\n",
       "  padding: 0.5em;\n",
       "  box-sizing: border-box;\n",
       "  text-align: center;\n",
       "  align-items: start;\n",
       "  justify-content: space-between;\n",
       "  gap: 0.5em;\n",
       "}\n",
       "\n",
       "#sk-container-id-1 label.sk-toggleable__label .caption {\n",
       "  font-size: 0.6rem;\n",
       "  font-weight: lighter;\n",
       "  color: var(--sklearn-color-text-muted);\n",
       "}\n",
       "\n",
       "#sk-container-id-1 label.sk-toggleable__label-arrow:before {\n",
       "  /* Arrow on the left of the label */\n",
       "  content: \"▸\";\n",
       "  float: left;\n",
       "  margin-right: 0.25em;\n",
       "  color: var(--sklearn-color-icon);\n",
       "}\n",
       "\n",
       "#sk-container-id-1 label.sk-toggleable__label-arrow:hover:before {\n",
       "  color: var(--sklearn-color-text);\n",
       "}\n",
       "\n",
       "/* Toggleable content - dropdown */\n",
       "\n",
       "#sk-container-id-1 div.sk-toggleable__content {\n",
       "  max-height: 0;\n",
       "  max-width: 0;\n",
       "  overflow: hidden;\n",
       "  text-align: left;\n",
       "  /* unfitted */\n",
       "  background-color: var(--sklearn-color-unfitted-level-0);\n",
       "}\n",
       "\n",
       "#sk-container-id-1 div.sk-toggleable__content.fitted {\n",
       "  /* fitted */\n",
       "  background-color: var(--sklearn-color-fitted-level-0);\n",
       "}\n",
       "\n",
       "#sk-container-id-1 div.sk-toggleable__content pre {\n",
       "  margin: 0.2em;\n",
       "  border-radius: 0.25em;\n",
       "  color: var(--sklearn-color-text);\n",
       "  /* unfitted */\n",
       "  background-color: var(--sklearn-color-unfitted-level-0);\n",
       "}\n",
       "\n",
       "#sk-container-id-1 div.sk-toggleable__content.fitted pre {\n",
       "  /* unfitted */\n",
       "  background-color: var(--sklearn-color-fitted-level-0);\n",
       "}\n",
       "\n",
       "#sk-container-id-1 input.sk-toggleable__control:checked~div.sk-toggleable__content {\n",
       "  /* Expand drop-down */\n",
       "  max-height: 200px;\n",
       "  max-width: 100%;\n",
       "  overflow: auto;\n",
       "}\n",
       "\n",
       "#sk-container-id-1 input.sk-toggleable__control:checked~label.sk-toggleable__label-arrow:before {\n",
       "  content: \"▾\";\n",
       "}\n",
       "\n",
       "/* Pipeline/ColumnTransformer-specific style */\n",
       "\n",
       "#sk-container-id-1 div.sk-label input.sk-toggleable__control:checked~label.sk-toggleable__label {\n",
       "  color: var(--sklearn-color-text);\n",
       "  background-color: var(--sklearn-color-unfitted-level-2);\n",
       "}\n",
       "\n",
       "#sk-container-id-1 div.sk-label.fitted input.sk-toggleable__control:checked~label.sk-toggleable__label {\n",
       "  background-color: var(--sklearn-color-fitted-level-2);\n",
       "}\n",
       "\n",
       "/* Estimator-specific style */\n",
       "\n",
       "/* Colorize estimator box */\n",
       "#sk-container-id-1 div.sk-estimator input.sk-toggleable__control:checked~label.sk-toggleable__label {\n",
       "  /* unfitted */\n",
       "  background-color: var(--sklearn-color-unfitted-level-2);\n",
       "}\n",
       "\n",
       "#sk-container-id-1 div.sk-estimator.fitted input.sk-toggleable__control:checked~label.sk-toggleable__label {\n",
       "  /* fitted */\n",
       "  background-color: var(--sklearn-color-fitted-level-2);\n",
       "}\n",
       "\n",
       "#sk-container-id-1 div.sk-label label.sk-toggleable__label,\n",
       "#sk-container-id-1 div.sk-label label {\n",
       "  /* The background is the default theme color */\n",
       "  color: var(--sklearn-color-text-on-default-background);\n",
       "}\n",
       "\n",
       "/* On hover, darken the color of the background */\n",
       "#sk-container-id-1 div.sk-label:hover label.sk-toggleable__label {\n",
       "  color: var(--sklearn-color-text);\n",
       "  background-color: var(--sklearn-color-unfitted-level-2);\n",
       "}\n",
       "\n",
       "/* Label box, darken color on hover, fitted */\n",
       "#sk-container-id-1 div.sk-label.fitted:hover label.sk-toggleable__label.fitted {\n",
       "  color: var(--sklearn-color-text);\n",
       "  background-color: var(--sklearn-color-fitted-level-2);\n",
       "}\n",
       "\n",
       "/* Estimator label */\n",
       "\n",
       "#sk-container-id-1 div.sk-label label {\n",
       "  font-family: monospace;\n",
       "  font-weight: bold;\n",
       "  display: inline-block;\n",
       "  line-height: 1.2em;\n",
       "}\n",
       "\n",
       "#sk-container-id-1 div.sk-label-container {\n",
       "  text-align: center;\n",
       "}\n",
       "\n",
       "/* Estimator-specific */\n",
       "#sk-container-id-1 div.sk-estimator {\n",
       "  font-family: monospace;\n",
       "  border: 1px dotted var(--sklearn-color-border-box);\n",
       "  border-radius: 0.25em;\n",
       "  box-sizing: border-box;\n",
       "  margin-bottom: 0.5em;\n",
       "  /* unfitted */\n",
       "  background-color: var(--sklearn-color-unfitted-level-0);\n",
       "}\n",
       "\n",
       "#sk-container-id-1 div.sk-estimator.fitted {\n",
       "  /* fitted */\n",
       "  background-color: var(--sklearn-color-fitted-level-0);\n",
       "}\n",
       "\n",
       "/* on hover */\n",
       "#sk-container-id-1 div.sk-estimator:hover {\n",
       "  /* unfitted */\n",
       "  background-color: var(--sklearn-color-unfitted-level-2);\n",
       "}\n",
       "\n",
       "#sk-container-id-1 div.sk-estimator.fitted:hover {\n",
       "  /* fitted */\n",
       "  background-color: var(--sklearn-color-fitted-level-2);\n",
       "}\n",
       "\n",
       "/* Specification for estimator info (e.g. \"i\" and \"?\") */\n",
       "\n",
       "/* Common style for \"i\" and \"?\" */\n",
       "\n",
       ".sk-estimator-doc-link,\n",
       "a:link.sk-estimator-doc-link,\n",
       "a:visited.sk-estimator-doc-link {\n",
       "  float: right;\n",
       "  font-size: smaller;\n",
       "  line-height: 1em;\n",
       "  font-family: monospace;\n",
       "  background-color: var(--sklearn-color-background);\n",
       "  border-radius: 1em;\n",
       "  height: 1em;\n",
       "  width: 1em;\n",
       "  text-decoration: none !important;\n",
       "  margin-left: 0.5em;\n",
       "  text-align: center;\n",
       "  /* unfitted */\n",
       "  border: var(--sklearn-color-unfitted-level-1) 1pt solid;\n",
       "  color: var(--sklearn-color-unfitted-level-1);\n",
       "}\n",
       "\n",
       ".sk-estimator-doc-link.fitted,\n",
       "a:link.sk-estimator-doc-link.fitted,\n",
       "a:visited.sk-estimator-doc-link.fitted {\n",
       "  /* fitted */\n",
       "  border: var(--sklearn-color-fitted-level-1) 1pt solid;\n",
       "  color: var(--sklearn-color-fitted-level-1);\n",
       "}\n",
       "\n",
       "/* On hover */\n",
       "div.sk-estimator:hover .sk-estimator-doc-link:hover,\n",
       ".sk-estimator-doc-link:hover,\n",
       "div.sk-label-container:hover .sk-estimator-doc-link:hover,\n",
       ".sk-estimator-doc-link:hover {\n",
       "  /* unfitted */\n",
       "  background-color: var(--sklearn-color-unfitted-level-3);\n",
       "  color: var(--sklearn-color-background);\n",
       "  text-decoration: none;\n",
       "}\n",
       "\n",
       "div.sk-estimator.fitted:hover .sk-estimator-doc-link.fitted:hover,\n",
       ".sk-estimator-doc-link.fitted:hover,\n",
       "div.sk-label-container:hover .sk-estimator-doc-link.fitted:hover,\n",
       ".sk-estimator-doc-link.fitted:hover {\n",
       "  /* fitted */\n",
       "  background-color: var(--sklearn-color-fitted-level-3);\n",
       "  color: var(--sklearn-color-background);\n",
       "  text-decoration: none;\n",
       "}\n",
       "\n",
       "/* Span, style for the box shown on hovering the info icon */\n",
       ".sk-estimator-doc-link span {\n",
       "  display: none;\n",
       "  z-index: 9999;\n",
       "  position: relative;\n",
       "  font-weight: normal;\n",
       "  right: .2ex;\n",
       "  padding: .5ex;\n",
       "  margin: .5ex;\n",
       "  width: min-content;\n",
       "  min-width: 20ex;\n",
       "  max-width: 50ex;\n",
       "  color: var(--sklearn-color-text);\n",
       "  box-shadow: 2pt 2pt 4pt #999;\n",
       "  /* unfitted */\n",
       "  background: var(--sklearn-color-unfitted-level-0);\n",
       "  border: .5pt solid var(--sklearn-color-unfitted-level-3);\n",
       "}\n",
       "\n",
       ".sk-estimator-doc-link.fitted span {\n",
       "  /* fitted */\n",
       "  background: var(--sklearn-color-fitted-level-0);\n",
       "  border: var(--sklearn-color-fitted-level-3);\n",
       "}\n",
       "\n",
       ".sk-estimator-doc-link:hover span {\n",
       "  display: block;\n",
       "}\n",
       "\n",
       "/* \"?\"-specific style due to the `<a>` HTML tag */\n",
       "\n",
       "#sk-container-id-1 a.estimator_doc_link {\n",
       "  float: right;\n",
       "  font-size: 1rem;\n",
       "  line-height: 1em;\n",
       "  font-family: monospace;\n",
       "  background-color: var(--sklearn-color-background);\n",
       "  border-radius: 1rem;\n",
       "  height: 1rem;\n",
       "  width: 1rem;\n",
       "  text-decoration: none;\n",
       "  /* unfitted */\n",
       "  color: var(--sklearn-color-unfitted-level-1);\n",
       "  border: var(--sklearn-color-unfitted-level-1) 1pt solid;\n",
       "}\n",
       "\n",
       "#sk-container-id-1 a.estimator_doc_link.fitted {\n",
       "  /* fitted */\n",
       "  border: var(--sklearn-color-fitted-level-1) 1pt solid;\n",
       "  color: var(--sklearn-color-fitted-level-1);\n",
       "}\n",
       "\n",
       "/* On hover */\n",
       "#sk-container-id-1 a.estimator_doc_link:hover {\n",
       "  /* unfitted */\n",
       "  background-color: var(--sklearn-color-unfitted-level-3);\n",
       "  color: var(--sklearn-color-background);\n",
       "  text-decoration: none;\n",
       "}\n",
       "\n",
       "#sk-container-id-1 a.estimator_doc_link.fitted:hover {\n",
       "  /* fitted */\n",
       "  background-color: var(--sklearn-color-fitted-level-3);\n",
       "}\n",
       "</style><div id=\"sk-container-id-1\" class=\"sk-top-container\"><div class=\"sk-text-repr-fallback\"><pre>LinearRegression()</pre><b>In a Jupyter environment, please rerun this cell to show the HTML representation or trust the notebook. <br />On GitHub, the HTML representation is unable to render, please try loading this page with nbviewer.org.</b></div><div class=\"sk-container\" hidden><div class=\"sk-item\"><div class=\"sk-estimator fitted sk-toggleable\"><input class=\"sk-toggleable__control sk-hidden--visually\" id=\"sk-estimator-id-1\" type=\"checkbox\" checked><label for=\"sk-estimator-id-1\" class=\"sk-toggleable__label fitted sk-toggleable__label-arrow\"><div><div>LinearRegression</div></div><div><a class=\"sk-estimator-doc-link fitted\" rel=\"noreferrer\" target=\"_blank\" href=\"https://scikit-learn.org/1.6/modules/generated/sklearn.linear_model.LinearRegression.html\">?<span>Documentation for LinearRegression</span></a><span class=\"sk-estimator-doc-link fitted\">i<span>Fitted</span></span></div></label><div class=\"sk-toggleable__content fitted\"><pre>LinearRegression()</pre></div> </div></div></div></div>"
      ],
      "text/plain": [
       "LinearRegression()"
      ]
     },
     "execution_count": 11,
     "metadata": {},
     "output_type": "execute_result"
    }
   ],
   "source": [
    "#Ajustamos el modelo con las variables antes declaradas\n",
    "model.fit(X=Vars_Indep, y=Var_Dep)\n",
    "model2.fit(X=Vars_Indep, y=Var_Dep2)\n",
    "model3.fit(X=Vars_Indep, y=Var_Dep3)\n",
    "model4.fit(X=Vars_Indep, y=Var_Dep4)\n",
    "model5.fit(X=Vars_Indep, y=Var_Dep5)\n",
    "model6.fit(X=Vars_Indep, y=Var_Dep6)\n",
    "model7.fit(X=Vars_Indep, y=Var_Dep7)\n",
    "model8.fit(X=Vars_Indep, y=Var_Dep8)\n",
    "model9.fit(X=Vars_Indep, y=Var_Dep9)\n",
    "model10.fit(X=Vars_Indep, y=Var_Dep10)"
   ]
  },
  {
   "cell_type": "code",
   "execution_count": 12,
   "metadata": {},
   "outputs": [
    {
     "data": {
      "text/plain": [
       "{'fit_intercept': True,\n",
       " 'copy_X': True,\n",
       " 'n_jobs': None,\n",
       " 'positive': False,\n",
       " 'feature_names_in_': array(['host_response_rate', 'host_is_superhost', 'room_type',\n",
       "        'host_identity_verified', 'property_type', 'instant_bookable',\n",
       "        'instant_bookable', 'bathrooms'], dtype=object),\n",
       " 'n_features_in_': 8,\n",
       " 'coef_': array([ 1.89883517e+15, -1.58185850e+17,  2.32685117e+16, -1.08993291e+17,\n",
       "         1.21551983e+14,  7.55081553e+15,  7.55081553e+15,  0.00000000e+00]),\n",
       " 'rank_': 6,\n",
       " 'singular_': array([2.22257910e+04, 2.51484269e+03, 3.80569697e+01, 2.93055173e+01,\n",
       "        2.10544455e+01, 1.66829296e+01, 5.89993733e-14, 0.00000000e+00]),\n",
       " 'intercept_': np.float64(4.256801084334849e+17)}"
      ]
     },
     "execution_count": 12,
     "metadata": {},
     "output_type": "execute_result"
    }
   ],
   "source": [
    "#verificamos los coeficientes obtenidos para el modelo ajustado \n",
    "model.__dict__"
   ]
  },
  {
   "cell_type": "markdown",
   "metadata": {},
   "source": [
    "**Modelo matemático: y= 1.88341490e+15 + -1.57610566e+17 +-1.36480330e+17 + -1.04772873e+17 + 5.06801366e+15 + 2.14682284e+15 + 2.14682284e+15 + 0.00000000e+00 + 5.832595018560591e+17**"
   ]
  },
  {
   "cell_type": "code",
   "execution_count": 13,
   "metadata": {},
   "outputs": [
    {
     "data": {
      "text/plain": [
       "0.039118932483879876"
      ]
     },
     "execution_count": 13,
     "metadata": {},
     "output_type": "execute_result"
    }
   ],
   "source": [
    "#Evaluamos la eficiencia del modelo obtenido por medio del coeficiente R Determinación\n",
    "model.score(Vars_Indep,Var_Dep)"
   ]
  },
  {
   "cell_type": "code",
   "execution_count": 14,
   "metadata": {},
   "outputs": [
    {
     "data": {
      "text/plain": [
       "{'fit_intercept': True,\n",
       " 'copy_X': True,\n",
       " 'n_jobs': None,\n",
       " 'positive': False,\n",
       " 'feature_names_in_': array(['host_response_rate', 'host_is_superhost', 'room_type',\n",
       "        'host_identity_verified', 'property_type', 'instant_bookable',\n",
       "        'instant_bookable', 'bathrooms'], dtype=object),\n",
       " 'n_features_in_': 8,\n",
       " 'coef_': array([ 1.00000000e+00, -8.04525734e-16, -5.25851195e-14,  1.20943725e-13,\n",
       "         3.43384377e-17,  5.66608457e-15,  5.66608457e-15,  0.00000000e+00]),\n",
       " 'rank_': 6,\n",
       " 'singular_': array([2.22257910e+04, 2.51484269e+03, 3.80569697e+01, 2.93055173e+01,\n",
       "        2.10544455e+01, 1.66829296e+01, 5.89993733e-14, 0.00000000e+00]),\n",
       " 'intercept_': np.float64(-1.4637180356658064e-12)}"
      ]
     },
     "execution_count": 14,
     "metadata": {},
     "output_type": "execute_result"
    }
   ],
   "source": [
    "#verificamos los coeficientes obtenidos para el modelo ajustado \n",
    "model2.__dict__"
   ]
  },
  {
   "cell_type": "code",
   "execution_count": 15,
   "metadata": {},
   "outputs": [
    {
     "data": {
      "text/plain": [
       "1.0"
      ]
     },
     "execution_count": 15,
     "metadata": {},
     "output_type": "execute_result"
    }
   ],
   "source": [
    "#Evaluamos la eficiencia del modelo obtenido por medio del coeficiente R Determinación\n",
    "model2.score(Vars_Indep,Var_Dep2)"
   ]
  },
  {
   "cell_type": "code",
   "execution_count": 16,
   "metadata": {},
   "outputs": [
    {
     "data": {
      "text/plain": [
       "{'fit_intercept': True,\n",
       " 'copy_X': True,\n",
       " 'n_jobs': None,\n",
       " 'positive': False,\n",
       " 'feature_names_in_': array(['host_response_rate', 'host_is_superhost', 'room_type',\n",
       "        'host_identity_verified', 'property_type', 'instant_bookable',\n",
       "        'instant_bookable', 'bathrooms'], dtype=object),\n",
       " 'n_features_in_': 8,\n",
       " 'coef_': array([-8.16859625e-18,  1.00000000e+00,  1.77581796e-13, -2.21948999e-15,\n",
       "         2.42959553e-16,  8.76937757e-16, -9.27174658e-16,  0.00000000e+00]),\n",
       " 'rank_': 6,\n",
       " 'singular_': array([2.22257910e+04, 2.51484269e+03, 3.80569697e+01, 2.93055173e+01,\n",
       "        2.10544455e+01, 1.66829296e+01, 5.89993733e-14, 0.00000000e+00]),\n",
       " 'intercept_': np.float64(-3.3495428652940973e-13)}"
      ]
     },
     "execution_count": 16,
     "metadata": {},
     "output_type": "execute_result"
    }
   ],
   "source": [
    "#verificamos los coeficientes obtenidos para el modelo ajustado \n",
    "model3.__dict__"
   ]
  },
  {
   "cell_type": "code",
   "execution_count": 17,
   "metadata": {},
   "outputs": [
    {
     "data": {
      "text/plain": [
       "1.0"
      ]
     },
     "execution_count": 17,
     "metadata": {},
     "output_type": "execute_result"
    }
   ],
   "source": [
    "#Evaluamos la eficiencia del modelo obtenido por medio del coeficiente R Determinación\n",
    "model3.score(Vars_Indep,Var_Dep3)"
   ]
  },
  {
   "cell_type": "code",
   "execution_count": 18,
   "metadata": {},
   "outputs": [
    {
     "data": {
      "text/plain": [
       "{'fit_intercept': True,\n",
       " 'copy_X': True,\n",
       " 'n_jobs': None,\n",
       " 'positive': False,\n",
       " 'feature_names_in_': array(['host_response_rate', 'host_is_superhost', 'room_type',\n",
       "        'host_identity_verified', 'property_type', 'instant_bookable',\n",
       "        'instant_bookable', 'bathrooms'], dtype=object),\n",
       " 'n_features_in_': 8,\n",
       " 'coef_': array([ 3.63272294e-03, -2.36589254e-02,  5.42899011e-01,  1.05361303e-01,\n",
       "        -2.82485072e-04,  1.85984528e-01,  1.85984528e-01,  0.00000000e+00]),\n",
       " 'rank_': 6,\n",
       " 'singular_': array([2.22257910e+04, 2.51484269e+03, 3.80569697e+01, 2.93055173e+01,\n",
       "        2.10544455e+01, 1.66829296e+01, 5.89993733e-14, 0.00000000e+00]),\n",
       " 'intercept_': np.float64(0.6626589906813845)}"
      ]
     },
     "execution_count": 18,
     "metadata": {},
     "output_type": "execute_result"
    }
   ],
   "source": [
    "#verificamos los coeficientes obtenidos para el modelo ajustado \n",
    "model4.__dict__"
   ]
  },
  {
   "cell_type": "code",
   "execution_count": 19,
   "metadata": {},
   "outputs": [
    {
     "data": {
      "text/plain": [
       "0.11881620118897906"
      ]
     },
     "execution_count": 19,
     "metadata": {},
     "output_type": "execute_result"
    }
   ],
   "source": [
    "#Evaluamos la eficiencia del modelo obtenido por medio del coeficiente R Determinación\n",
    "model4.score(Vars_Indep,Var_Dep4)"
   ]
  },
  {
   "cell_type": "code",
   "execution_count": 20,
   "metadata": {},
   "outputs": [
    {
     "data": {
      "text/plain": [
       "{'fit_intercept': True,\n",
       " 'copy_X': True,\n",
       " 'n_jobs': None,\n",
       " 'positive': False,\n",
       " 'feature_names_in_': array(['host_response_rate', 'host_is_superhost', 'room_type',\n",
       "        'host_identity_verified', 'property_type', 'instant_bookable',\n",
       "        'instant_bookable', 'bathrooms'], dtype=object),\n",
       " 'n_features_in_': 8,\n",
       " 'coef_': array([ 4.38421758e-18, -7.46256355e-16,  1.00000000e+00, -7.49122262e-16,\n",
       "         1.19668435e-17,  2.76060380e-15, -2.56846672e-15,  0.00000000e+00]),\n",
       " 'rank_': 6,\n",
       " 'singular_': array([2.22257910e+04, 2.51484269e+03, 3.80569697e+01, 2.93055173e+01,\n",
       "        2.10544455e+01, 1.66829296e+01, 5.89993733e-14, 0.00000000e+00]),\n",
       " 'intercept_': np.float64(8.659739592076221e-15)}"
      ]
     },
     "execution_count": 20,
     "metadata": {},
     "output_type": "execute_result"
    }
   ],
   "source": [
    "#verificamos los coeficientes obtenidos para el modelo ajustado \n",
    "model5.__dict__"
   ]
  },
  {
   "cell_type": "code",
   "execution_count": 21,
   "metadata": {},
   "outputs": [
    {
     "data": {
      "text/plain": [
       "1.0"
      ]
     },
     "execution_count": 21,
     "metadata": {},
     "output_type": "execute_result"
    }
   ],
   "source": [
    "#Evaluamos la eficiencia del modelo obtenido por medio del coeficiente R Determinación\n",
    "model5.score(Vars_Indep,Var_Dep5)"
   ]
  },
  {
   "cell_type": "code",
   "execution_count": 22,
   "metadata": {},
   "outputs": [
    {
     "data": {
      "text/plain": [
       "{'fit_intercept': True,\n",
       " 'copy_X': True,\n",
       " 'n_jobs': None,\n",
       " 'positive': False,\n",
       " 'feature_names_in_': array(['host_response_rate', 'host_is_superhost', 'room_type',\n",
       "        'host_identity_verified', 'property_type', 'instant_bookable',\n",
       "        'instant_bookable', 'bathrooms'], dtype=object),\n",
       " 'n_features_in_': 8,\n",
       " 'coef_': array([ 9.73763161e-04, -2.48122221e-01, -1.32149431e+00,  2.25010037e-01,\n",
       "         4.09328708e-04,  1.35224481e-01,  1.35224481e-01,  0.00000000e+00]),\n",
       " 'rank_': 6,\n",
       " 'singular_': array([2.22257910e+04, 2.51484269e+03, 3.80569697e+01, 2.93055173e+01,\n",
       "        2.10544455e+01, 1.66829296e+01, 5.89993733e-14, 0.00000000e+00]),\n",
       " 'intercept_': np.float64(4.658864678348202)}"
      ]
     },
     "execution_count": 22,
     "metadata": {},
     "output_type": "execute_result"
    }
   ],
   "source": [
    "#verificamos los coeficientes obtenidos para el modelo ajustado \n",
    "model6.__dict__"
   ]
  },
  {
   "cell_type": "code",
   "execution_count": 23,
   "metadata": {},
   "outputs": [
    {
     "data": {
      "text/plain": [
       "0.1166735566958097"
      ]
     },
     "execution_count": 23,
     "metadata": {},
     "output_type": "execute_result"
    }
   ],
   "source": [
    "#Evaluamos la eficiencia del modelo obtenido por medio del coeficiente R Determinación\n",
    "model6.score(Vars_Indep,Var_Dep6)"
   ]
  },
  {
   "cell_type": "code",
   "execution_count": 24,
   "metadata": {},
   "outputs": [
    {
     "data": {
      "text/plain": [
       "{'fit_intercept': True,\n",
       " 'copy_X': True,\n",
       " 'n_jobs': None,\n",
       " 'positive': False,\n",
       " 'feature_names_in_': array(['host_response_rate', 'host_is_superhost', 'room_type',\n",
       "        'host_identity_verified', 'property_type', 'instant_bookable',\n",
       "        'instant_bookable', 'bathrooms'], dtype=object),\n",
       " 'n_features_in_': 8,\n",
       " 'coef_': array([-3.51725723e-04, -8.97592964e-02, -2.96071859e-01,  1.45990788e-01,\n",
       "         2.54463936e-04,  7.02331168e-04,  7.02331168e-04,  0.00000000e+00]),\n",
       " 'rank_': 6,\n",
       " 'singular_': array([2.22257910e+04, 2.51484269e+03, 3.80569697e+01, 2.93055173e+01,\n",
       "        2.10544455e+01, 1.66829296e+01, 5.89993733e-14, 0.00000000e+00]),\n",
       " 'intercept_': np.float64(1.577109097278981)}"
      ]
     },
     "execution_count": 24,
     "metadata": {},
     "output_type": "execute_result"
    }
   ],
   "source": [
    "#verificamos los coeficientes obtenidos para el modelo ajustado \n",
    "model7.__dict__"
   ]
  },
  {
   "cell_type": "code",
   "execution_count": 25,
   "metadata": {},
   "outputs": [
    {
     "data": {
      "text/plain": [
       "0.05969235115591642"
      ]
     },
     "execution_count": 25,
     "metadata": {},
     "output_type": "execute_result"
    }
   ],
   "source": [
    "#Evaluamos la eficiencia del modelo obtenido por medio del coeficiente R Determinación\n",
    "model7.score(Vars_Indep,Var_Dep7)"
   ]
  },
  {
   "cell_type": "code",
   "execution_count": 26,
   "metadata": {},
   "outputs": [
    {
     "data": {
      "text/plain": [
       "{'fit_intercept': True,\n",
       " 'copy_X': True,\n",
       " 'n_jobs': None,\n",
       " 'positive': False,\n",
       " 'feature_names_in_': array(['host_response_rate', 'host_is_superhost', 'room_type',\n",
       "        'host_identity_verified', 'property_type', 'instant_bookable',\n",
       "        'instant_bookable', 'bathrooms'], dtype=object),\n",
       " 'n_features_in_': 8,\n",
       " 'coef_': array([-2.04280224e-01,  2.15331576e+00, -4.19151249e+01,  5.75662641e+00,\n",
       "        -1.29786479e-02,  4.21544896e+00,  4.21544896e+00,  0.00000000e+00]),\n",
       " 'rank_': 6,\n",
       " 'singular_': array([2.22257910e+04, 2.51484269e+03, 3.80569697e+01, 2.93055173e+01,\n",
       "        2.10544455e+01, 1.66829296e+01, 5.89993733e-14, 0.00000000e+00]),\n",
       " 'intercept_': np.float64(218.5127235639036)}"
      ]
     },
     "execution_count": 26,
     "metadata": {},
     "output_type": "execute_result"
    }
   ],
   "source": [
    "#verificamos los coeficientes obtenidos para el modelo ajustado \n",
    "model8.__dict__"
   ]
  },
  {
   "cell_type": "code",
   "execution_count": 27,
   "metadata": {},
   "outputs": [
    {
     "data": {
      "text/plain": [
       "0.08098369541557104"
      ]
     },
     "execution_count": 27,
     "metadata": {},
     "output_type": "execute_result"
    }
   ],
   "source": [
    "#Evaluamos la eficiencia del modelo obtenido por medio del coeficiente R Determinación\n",
    "model8.score(Vars_Indep,Var_Dep8)"
   ]
  },
  {
   "cell_type": "code",
   "execution_count": 28,
   "metadata": {},
   "outputs": [
    {
     "data": {
      "text/plain": [
       "{'fit_intercept': True,\n",
       " 'copy_X': True,\n",
       " 'n_jobs': None,\n",
       " 'positive': False,\n",
       " 'feature_names_in_': array(['host_response_rate', 'host_is_superhost', 'room_type',\n",
       "        'host_identity_verified', 'property_type', 'instant_bookable',\n",
       "        'instant_bookable', 'bathrooms'], dtype=object),\n",
       " 'n_features_in_': 8,\n",
       " 'coef_': array([-1.24207706e-04,  3.39864566e-02, -7.89681346e-03, -1.34658447e-02,\n",
       "         3.29078330e-05, -1.19198956e-02, -1.19198956e-02,  0.00000000e+00]),\n",
       " 'rank_': 6,\n",
       " 'singular_': array([2.22257910e+04, 2.51484269e+03, 3.80569697e+01, 2.93055173e+01,\n",
       "        2.10544455e+01, 1.66829296e+01, 5.89993733e-14, 0.00000000e+00]),\n",
       " 'intercept_': np.float64(4.821322513574154)}"
      ]
     },
     "execution_count": 28,
     "metadata": {},
     "output_type": "execute_result"
    }
   ],
   "source": [
    "#verificamos los coeficientes obtenidos para el modelo ajustado \n",
    "model9.__dict__"
   ]
  },
  {
   "cell_type": "code",
   "execution_count": 29,
   "metadata": {},
   "outputs": [
    {
     "data": {
      "text/plain": [
       "0.036702722613694116"
      ]
     },
     "execution_count": 29,
     "metadata": {},
     "output_type": "execute_result"
    }
   ],
   "source": [
    "#Evaluamos la eficiencia del modelo obtenido por medio del coeficiente R Determinación\n",
    "model9.score(Vars_Indep,Var_Dep9)"
   ]
  },
  {
   "cell_type": "code",
   "execution_count": 30,
   "metadata": {},
   "outputs": [
    {
     "data": {
      "text/plain": [
       "{'fit_intercept': True,\n",
       " 'copy_X': True,\n",
       " 'n_jobs': None,\n",
       " 'positive': False,\n",
       " 'feature_names_in_': array(['host_response_rate', 'host_is_superhost', 'room_type',\n",
       "        'host_identity_verified', 'property_type', 'instant_bookable',\n",
       "        'instant_bookable', 'bathrooms'], dtype=object),\n",
       " 'n_features_in_': 8,\n",
       " 'coef_': array([ 2.79241265e-03,  5.54298890e-01, -2.52093413e-01, -7.60088891e-02,\n",
       "         4.12854458e-05, -1.54416604e-02, -1.54416604e-02,  0.00000000e+00]),\n",
       " 'rank_': 6,\n",
       " 'singular_': array([2.22257910e+04, 2.51484269e+03, 3.80569697e+01, 2.93055173e+01,\n",
       "        2.10544455e+01, 1.66829296e+01, 5.89993733e-14, 0.00000000e+00]),\n",
       " 'intercept_': np.float64(1.3771784020693367)}"
      ]
     },
     "execution_count": 30,
     "metadata": {},
     "output_type": "execute_result"
    }
   ],
   "source": [
    "#verificamos los coeficientes obtenidos para el modelo ajustado \n",
    "model10.__dict__"
   ]
  },
  {
   "cell_type": "markdown",
   "metadata": {},
   "source": [
    "**Modelo matemático: y= 2.78938456e-03 + 5.53593527e-01 + -2.61858104e-01 + -7.51179183e-02 + 3.36057982e-04 + -1.61960510e-02 + -1.61960510e-02 + 0.00000000e+00 + 1.4164638948616772**"
   ]
  },
  {
   "cell_type": "code",
   "execution_count": 31,
   "metadata": {},
   "outputs": [
    {
     "data": {
      "text/plain": [
       "0.09110951437551351"
      ]
     },
     "execution_count": 31,
     "metadata": {},
     "output_type": "execute_result"
    }
   ],
   "source": [
    "#Evaluamos la eficiencia del modelo obtenido por medio del coeficiente R Determinación\n",
    "model10.score(Vars_Indep,Var_Dep10)"
   ]
  },
  {
   "cell_type": "code",
   "execution_count": 32,
   "metadata": {},
   "outputs": [
    {
     "data": {
      "text/plain": [
       "array([4.74161964e+17, 4.94206579e+17, 4.54175355e+17, ...,\n",
       "       4.71800393e+17, 4.50446081e+17, 3.81890763e+17], shape=(3967,))"
      ]
     },
     "execution_count": 32,
     "metadata": {},
     "output_type": "execute_result"
    }
   ],
   "source": [
    "#Predecimos los valores a partir de las variables independientes \n",
    "y_pred= model.predict(X=Vars_Indep)\n",
    "y_pred"
   ]
  },
  {
   "cell_type": "code",
   "execution_count": 33,
   "metadata": {},
   "outputs": [
    {
     "data": {
      "text/plain": [
       "array([-1.56833886e-12,  1.00000000e+02, -1.51482660e-12, ...,\n",
       "       -1.50984753e-12, -1.36414579e-12, -1.38351267e-12], shape=(3967,))"
      ]
     },
     "execution_count": 33,
     "metadata": {},
     "output_type": "execute_result"
    }
   ],
   "source": [
    "#Predecimos los valores a partir de las variables independientes \n",
    "y_pred2= model2.predict(X=Vars_Indep)\n",
    "y_pred2"
   ]
  },
  {
   "cell_type": "code",
   "execution_count": 34,
   "metadata": {},
   "outputs": [
    {
     "data": {
      "text/plain": [
       "array([ 2.40966583e-14,  1.00000000e+00, -1.46925230e-13, ...,\n",
       "       -1.11696095e-13,  6.12582531e-14, -7.57709347e-14], shape=(3967,))"
      ]
     },
     "execution_count": 34,
     "metadata": {},
     "output_type": "execute_result"
    }
   ],
   "source": [
    "#Predecimos los valores a partir de las variables independientes \n",
    "y_pred3= model3.predict(X=Vars_Indep)\n",
    "y_pred3"
   ]
  },
  {
   "cell_type": "code",
   "execution_count": 35,
   "metadata": {},
   "outputs": [
    {
     "data": {
      "text/plain": [
       "array([1.74393725, 1.77278493, 1.19341114, ..., 1.15245081, 1.05414038,\n",
       "       1.21346196], shape=(3967,))"
      ]
     },
     "execution_count": 35,
     "metadata": {},
     "output_type": "execute_result"
    }
   ],
   "source": [
    "#Predecimos los valores a partir de las variables independientes \n",
    "y_pred4= model4.predict(X=Vars_Indep)\n",
    "y_pred4"
   ]
  },
  {
   "cell_type": "code",
   "execution_count": 36,
   "metadata": {},
   "outputs": [
    {
     "data": {
      "text/plain": [
       "array([2., 1., 1., ..., 1., 1., 1.], shape=(3967,))"
      ]
     },
     "execution_count": 36,
     "metadata": {},
     "output_type": "execute_result"
    }
   ],
   "source": [
    "#Predecimos los valores a partir de las variables independientes \n",
    "y_pred5= model5.predict(X=Vars_Indep)\n",
    "y_pred5"
   ]
  },
  {
   "cell_type": "code",
   "execution_count": 37,
   "metadata": {},
   "outputs": [
    {
     "data": {
      "text/plain": [
       "array([2.02242531, 4.04393003, 3.3549715 , ..., 3.41432416, 3.9344602 ,\n",
       "       3.7035988 ], shape=(3967,))"
      ]
     },
     "execution_count": 37,
     "metadata": {},
     "output_type": "execute_result"
    }
   ],
   "source": [
    "#Predecimos los valores a partir de las variables independientes \n",
    "y_pred6= model6.predict(X=Vars_Indep)\n",
    "y_pred6"
   ]
  },
  {
   "cell_type": "code",
   "execution_count": 38,
   "metadata": {},
   "outputs": [
    {
     "data": {
      "text/plain": [
       "array([0.9890368 , 1.52844694, 1.29197919, ..., 1.32887646, 1.65833574,\n",
       "       1.51481808], shape=(3967,))"
      ]
     },
     "execution_count": 38,
     "metadata": {},
     "output_type": "execute_result"
    }
   ],
   "source": [
    "#Predecimos los valores a partir de las variables independientes \n",
    "y_pred7= model7.predict(X=Vars_Indep)\n",
    "y_pred7"
   ]
  },
  {
   "cell_type": "code",
   "execution_count": 39,
   "metadata": {},
   "outputs": [
    {
     "data": {
      "text/plain": [
       "array([134.47481543, 161.03729169, 176.03951682, ..., 174.15761288,\n",
       "       170.55663418, 177.87659157], shape=(3967,))"
      ]
     },
     "execution_count": 39,
     "metadata": {},
     "output_type": "execute_result"
    }
   ],
   "source": [
    "#Predecimos los valores a partir de las variables independientes \n",
    "y_pred8= model8.predict(X=Vars_Indep)\n",
    "y_pred8"
   ]
  },
  {
   "cell_type": "code",
   "execution_count": 40,
   "metadata": {},
   "outputs": [
    {
     "data": {
      "text/plain": [
       "array([4.80605541, 4.82677627, 4.81484074, ..., 4.81961237, 4.82987308,\n",
       "       4.81131306], shape=(3967,))"
      ]
     },
     "execution_count": 40,
     "metadata": {},
     "output_type": "execute_result"
    }
   ],
   "source": [
    "#Predecimos los valores a partir de las variables independientes \n",
    "y_pred9= model9.predict(X=Vars_Indep)\n",
    "y_pred9"
   ]
  },
  {
   "cell_type": "code",
   "execution_count": 41,
   "metadata": {},
   "outputs": [
    {
     "data": {
      "text/plain": [
       "array([0.87365214, 1.88822927, 1.12686026, ..., 1.13284665, 1.08660457,\n",
       "       1.06331958], shape=(3967,))"
      ]
     },
     "execution_count": 41,
     "metadata": {},
     "output_type": "execute_result"
    }
   ],
   "source": [
    "#Predecimos los valores a partir de las variables independientes \n",
    "y_pred10= model10.predict(X=Vars_Indep)\n",
    "y_pred10"
   ]
  },
  {
   "cell_type": "markdown",
   "metadata": {},
   "source": [
    "**DETERMINAMOS COEFICIENTES DE DETERMINACIÓN**"
   ]
  },
  {
   "cell_type": "code",
   "execution_count": 42,
   "metadata": {},
   "outputs": [
    {
     "data": {
      "text/plain": [
       "0.039118932483879876"
      ]
     },
     "execution_count": 42,
     "metadata": {},
     "output_type": "execute_result"
    }
   ],
   "source": [
    "#Corroboramos cual es el coeficiente de Determinación de nuestro modelo\n",
    "coef_Deter=model.score(X=Vars_Indep, y=Var_Dep)\n",
    "coef_Deter"
   ]
  },
  {
   "cell_type": "code",
   "execution_count": 43,
   "metadata": {},
   "outputs": [
    {
     "data": {
      "text/plain": [
       "1.0"
      ]
     },
     "execution_count": 43,
     "metadata": {},
     "output_type": "execute_result"
    }
   ],
   "source": [
    "#Corroboramos cual es el coeficiente de Determinación de nuestro modelo\n",
    "coef_Deter2=model2.score(X=Vars_Indep, y=Var_Dep2)\n",
    "coef_Deter2"
   ]
  },
  {
   "cell_type": "code",
   "execution_count": 44,
   "metadata": {},
   "outputs": [
    {
     "data": {
      "text/plain": [
       "1.0"
      ]
     },
     "execution_count": 44,
     "metadata": {},
     "output_type": "execute_result"
    }
   ],
   "source": [
    "#Corroboramos cual es el coeficiente de Determinación de nuestro modelo\n",
    "coef_Deter3=model3.score(X=Vars_Indep, y=Var_Dep3)\n",
    "coef_Deter3"
   ]
  },
  {
   "cell_type": "code",
   "execution_count": 45,
   "metadata": {},
   "outputs": [
    {
     "data": {
      "text/plain": [
       "0.11881620118897906"
      ]
     },
     "execution_count": 45,
     "metadata": {},
     "output_type": "execute_result"
    }
   ],
   "source": [
    "#Corroboramos cual es el coeficiente de Determinación de nuestro modelo\n",
    "coef_Deter4=model4.score(X=Vars_Indep, y=Var_Dep4)\n",
    "coef_Deter4"
   ]
  },
  {
   "cell_type": "code",
   "execution_count": 46,
   "metadata": {},
   "outputs": [
    {
     "data": {
      "text/plain": [
       "1.0"
      ]
     },
     "execution_count": 46,
     "metadata": {},
     "output_type": "execute_result"
    }
   ],
   "source": [
    "#Corroboramos cual es el coeficiente de Determinación de nuestro modelo\n",
    "coef_Deter5=model5.score(X=Vars_Indep, y=Var_Dep5)\n",
    "coef_Deter5"
   ]
  },
  {
   "cell_type": "code",
   "execution_count": 47,
   "metadata": {},
   "outputs": [
    {
     "data": {
      "text/plain": [
       "0.1166735566958097"
      ]
     },
     "execution_count": 47,
     "metadata": {},
     "output_type": "execute_result"
    }
   ],
   "source": [
    "#Corroboramos cual es el coeficiente de Determinación de nuestro modelo\n",
    "coef_Deter6=model6.score(X=Vars_Indep, y=Var_Dep6)\n",
    "coef_Deter6"
   ]
  },
  {
   "cell_type": "code",
   "execution_count": 48,
   "metadata": {},
   "outputs": [
    {
     "data": {
      "text/plain": [
       "0.05969235115591642"
      ]
     },
     "execution_count": 48,
     "metadata": {},
     "output_type": "execute_result"
    }
   ],
   "source": [
    "#Corroboramos cual es el coeficiente de Determinación de nuestro modelo\n",
    "coef_Deter7=model7.score(X=Vars_Indep, y=Var_Dep7)\n",
    "coef_Deter7"
   ]
  },
  {
   "cell_type": "code",
   "execution_count": 49,
   "metadata": {},
   "outputs": [
    {
     "data": {
      "text/plain": [
       "0.08098369541557104"
      ]
     },
     "execution_count": 49,
     "metadata": {},
     "output_type": "execute_result"
    }
   ],
   "source": [
    "#Corroboramos cual es el coeficiente de Determinación de nuestro modelo\n",
    "coef_Deter8=model8.score(X=Vars_Indep, y=Var_Dep8)\n",
    "coef_Deter8"
   ]
  },
  {
   "cell_type": "code",
   "execution_count": 50,
   "metadata": {},
   "outputs": [
    {
     "data": {
      "text/plain": [
       "0.036702722613694116"
      ]
     },
     "execution_count": 50,
     "metadata": {},
     "output_type": "execute_result"
    }
   ],
   "source": [
    "#Corroboramos cual es el coeficiente de Determinación de nuestro modelo\n",
    "coef_Deter9=model9.score(X=Vars_Indep, y=Var_Dep9)\n",
    "coef_Deter9"
   ]
  },
  {
   "cell_type": "code",
   "execution_count": 51,
   "metadata": {},
   "outputs": [
    {
     "data": {
      "text/plain": [
       "0.09110951437551351"
      ]
     },
     "execution_count": 51,
     "metadata": {},
     "output_type": "execute_result"
    }
   ],
   "source": [
    "#Corroboramos cual es el coeficiente de Determinación de nuestro modelo\n",
    "coef_Deter10=model10.score(X=Vars_Indep, y=Var_Dep10)\n",
    "coef_Deter10"
   ]
  },
  {
   "cell_type": "code",
   "execution_count": 52,
   "metadata": {},
   "outputs": [
    {
     "data": {
      "text/plain": [
       "np.float64(0.19778506638237345)"
      ]
     },
     "execution_count": 52,
     "metadata": {},
     "output_type": "execute_result"
    }
   ],
   "source": [
    "#Corroboramos cual es el coeficiente de Correlación de nuestro modelo\n",
    "coef_Correl=np.sqrt(coef_Deter)\n",
    "coef_Correl"
   ]
  },
  {
   "cell_type": "code",
   "execution_count": 53,
   "metadata": {},
   "outputs": [
    {
     "data": {
      "text/plain": [
       "np.float64(1.0)"
      ]
     },
     "execution_count": 53,
     "metadata": {},
     "output_type": "execute_result"
    }
   ],
   "source": [
    "#Corroboramos cual es el coeficiente de Correlación de nuestro modelo\n",
    "coef_Correl2=np.sqrt(coef_Deter2)\n",
    "coef_Correl2"
   ]
  },
  {
   "cell_type": "code",
   "execution_count": 54,
   "metadata": {},
   "outputs": [
    {
     "data": {
      "text/plain": [
       "np.float64(1.0)"
      ]
     },
     "execution_count": 54,
     "metadata": {},
     "output_type": "execute_result"
    }
   ],
   "source": [
    "#Corroboramos cual es el coeficiente de Correlación de nuestro modelo\n",
    "coef_Correl3=np.sqrt(coef_Deter3)\n",
    "coef_Correl3"
   ]
  },
  {
   "cell_type": "code",
   "execution_count": 55,
   "metadata": {},
   "outputs": [
    {
     "data": {
      "text/plain": [
       "np.float64(0.344697260199409)"
      ]
     },
     "execution_count": 55,
     "metadata": {},
     "output_type": "execute_result"
    }
   ],
   "source": [
    "#Corroboramos cual es el coeficiente de Correlación de nuestro modelo\n",
    "coef_Correl4=np.sqrt(coef_Deter4)\n",
    "coef_Correl4"
   ]
  },
  {
   "cell_type": "code",
   "execution_count": 56,
   "metadata": {},
   "outputs": [
    {
     "data": {
      "text/plain": [
       "np.float64(1.0)"
      ]
     },
     "execution_count": 56,
     "metadata": {},
     "output_type": "execute_result"
    }
   ],
   "source": [
    "#Corroboramos cual es el coeficiente de Correlación de nuestro modelo\n",
    "coef_Correl5=np.sqrt(coef_Deter5)\n",
    "coef_Correl5"
   ]
  },
  {
   "cell_type": "code",
   "execution_count": 57,
   "metadata": {},
   "outputs": [
    {
     "data": {
      "text/plain": [
       "np.float64(0.3415751113529932)"
      ]
     },
     "execution_count": 57,
     "metadata": {},
     "output_type": "execute_result"
    }
   ],
   "source": [
    "#Corroboramos cual es el coeficiente de Correlación de nuestro modelo\n",
    "coef_Correl6=np.sqrt(coef_Deter6)\n",
    "coef_Correl6"
   ]
  },
  {
   "cell_type": "code",
   "execution_count": 58,
   "metadata": {},
   "outputs": [
    {
     "data": {
      "text/plain": [
       "np.float64(0.24432018163859576)"
      ]
     },
     "execution_count": 58,
     "metadata": {},
     "output_type": "execute_result"
    }
   ],
   "source": [
    "#Corroboramos cual es el coeficiente de Correlación de nuestro modelo\n",
    "coef_Correl7=np.sqrt(coef_Deter7)\n",
    "coef_Correl7"
   ]
  },
  {
   "cell_type": "code",
   "execution_count": 59,
   "metadata": {},
   "outputs": [
    {
     "data": {
      "text/plain": [
       "np.float64(0.2845763437384967)"
      ]
     },
     "execution_count": 59,
     "metadata": {},
     "output_type": "execute_result"
    }
   ],
   "source": [
    "#Corroboramos cual es el coeficiente de Correlación de nuestro modelo\n",
    "coef_Correl8=np.sqrt(coef_Deter8)\n",
    "coef_Correl8"
   ]
  },
  {
   "cell_type": "code",
   "execution_count": 60,
   "metadata": {},
   "outputs": [
    {
     "data": {
      "text/plain": [
       "np.float64(0.19157954643879424)"
      ]
     },
     "execution_count": 60,
     "metadata": {},
     "output_type": "execute_result"
    }
   ],
   "source": [
    "#Corroboramos cual es el coeficiente de Correlación de nuestro modelo\n",
    "coef_Correl9=np.sqrt(coef_Deter9)\n",
    "coef_Correl9"
   ]
  },
  {
   "cell_type": "code",
   "execution_count": 61,
   "metadata": {},
   "outputs": [
    {
     "data": {
      "text/plain": [
       "np.float64(0.3018435263104271)"
      ]
     },
     "execution_count": 61,
     "metadata": {},
     "output_type": "execute_result"
    }
   ],
   "source": [
    "#Corroboramos cual es el coeficiente de Correlación de nuestro modelo\n",
    "coef_Correl10=np.sqrt(coef_Deter10)\n",
    "coef_Correl10"
   ]
  }
 ],
 "metadata": {
  "kernelspec": {
   "display_name": "Python 3",
   "language": "python",
   "name": "python3"
  },
  "language_info": {
   "codemirror_mode": {
    "name": "ipython",
    "version": 3
   },
   "file_extension": ".py",
   "mimetype": "text/x-python",
   "name": "python",
   "nbconvert_exporter": "python",
   "pygments_lexer": "ipython3",
   "version": "3.13.1"
  }
 },
 "nbformat": 4,
 "nbformat_minor": 2
}
