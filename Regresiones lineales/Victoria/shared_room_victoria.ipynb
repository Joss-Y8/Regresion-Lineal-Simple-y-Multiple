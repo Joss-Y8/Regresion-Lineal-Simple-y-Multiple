{
 "cells": [
  {
   "cell_type": "code",
   "execution_count": 76,
   "metadata": {},
   "outputs": [],
   "source": [
    "import pandas as pd \n",
    "import numpy as np \n",
    "import matplotlib.pyplot as plt \n",
    "import seaborn as sns"
   ]
  },
  {
   "cell_type": "code",
   "execution_count": 77,
   "metadata": {},
   "outputs": [
    {
     "data": {
      "text/html": [
       "<div>\n",
       "<style scoped>\n",
       "    .dataframe tbody tr th:only-of-type {\n",
       "        vertical-align: middle;\n",
       "    }\n",
       "\n",
       "    .dataframe tbody tr th {\n",
       "        vertical-align: top;\n",
       "    }\n",
       "\n",
       "    .dataframe thead th {\n",
       "        text-align: right;\n",
       "    }\n",
       "</style>\n",
       "<table border=\"1\" class=\"dataframe\">\n",
       "  <thead>\n",
       "    <tr style=\"text-align: right;\">\n",
       "      <th></th>\n",
       "      <th>listing_url</th>\n",
       "      <th>name</th>\n",
       "      <th>description</th>\n",
       "      <th>neighborhood_overview</th>\n",
       "      <th>picture_url</th>\n",
       "      <th>host_name</th>\n",
       "      <th>host_since</th>\n",
       "      <th>host_response_time</th>\n",
       "      <th>host_response_rate</th>\n",
       "      <th>host_is_superhost</th>\n",
       "      <th>...</th>\n",
       "      <th>review_scores_cleanliness</th>\n",
       "      <th>review_scores_checkin</th>\n",
       "      <th>review_scores_communication</th>\n",
       "      <th>review_scores_location</th>\n",
       "      <th>review_scores_value</th>\n",
       "      <th>calculated_host_listings_count</th>\n",
       "      <th>calculated_host_listings_count_entire_homes</th>\n",
       "      <th>calculated_host_listings_count_private_rooms</th>\n",
       "      <th>calculated_host_listings_count_shared_rooms</th>\n",
       "      <th>reviews_per_month</th>\n",
       "    </tr>\n",
       "  </thead>\n",
       "  <tbody>\n",
       "    <tr>\n",
       "      <th>0</th>\n",
       "      <td>https://www.airbnb.com/rooms/19898</td>\n",
       "      <td>Duchess Suite</td>\n",
       "      <td>No se proporciona descripción</td>\n",
       "      <td>No se proporcionan detalles</td>\n",
       "      <td>https://a0.muscache.com/pictures/101822/ae950f...</td>\n",
       "      <td>Ryan</td>\n",
       "      <td>2010-01-11</td>\n",
       "      <td>Desconocido</td>\n",
       "      <td>-%</td>\n",
       "      <td>f</td>\n",
       "      <td>...</td>\n",
       "      <td>5.00</td>\n",
       "      <td>5.00</td>\n",
       "      <td>5.00</td>\n",
       "      <td>4.90</td>\n",
       "      <td>4.80</td>\n",
       "      <td>1.0</td>\n",
       "      <td>0.0</td>\n",
       "      <td>0.0</td>\n",
       "      <td>0.0</td>\n",
       "      <td>1.90</td>\n",
       "    </tr>\n",
       "    <tr>\n",
       "      <th>1</th>\n",
       "      <td>https://www.airbnb.com/rooms/83515</td>\n",
       "      <td>GALLERY B&amp;B SUITE</td>\n",
       "      <td>A quiet and sunny suite with a private entranc...</td>\n",
       "      <td>Our property has gardens, an orchard, a pond a...</td>\n",
       "      <td>https://a0.muscache.com/pictures/6110737/930db...</td>\n",
       "      <td>Celia</td>\n",
       "      <td>2011-03-21</td>\n",
       "      <td>within an hour</td>\n",
       "      <td>100%</td>\n",
       "      <td>t</td>\n",
       "      <td>...</td>\n",
       "      <td>4.87</td>\n",
       "      <td>4.92</td>\n",
       "      <td>4.84</td>\n",
       "      <td>4.94</td>\n",
       "      <td>4.75</td>\n",
       "      <td>2.0</td>\n",
       "      <td>2.0</td>\n",
       "      <td>0.0</td>\n",
       "      <td>0.0</td>\n",
       "      <td>0.90</td>\n",
       "    </tr>\n",
       "    <tr>\n",
       "      <th>2</th>\n",
       "      <td>https://www.airbnb.com/rooms/168460</td>\n",
       "      <td>Perfectly located lovely home</td>\n",
       "      <td>Wonderful neighborhood, two blocks to inner ha...</td>\n",
       "      <td>Lovely neighborhood with friendly neighbors su...</td>\n",
       "      <td>https://a0.muscache.com/pictures/7a2bfc51-fd59...</td>\n",
       "      <td>Deborah</td>\n",
       "      <td>2011-07-10</td>\n",
       "      <td>Desconocido</td>\n",
       "      <td>-%</td>\n",
       "      <td>f</td>\n",
       "      <td>...</td>\n",
       "      <td>4.98</td>\n",
       "      <td>4.89</td>\n",
       "      <td>4.92</td>\n",
       "      <td>5.00</td>\n",
       "      <td>4.90</td>\n",
       "      <td>1.0</td>\n",
       "      <td>1.0</td>\n",
       "      <td>0.0</td>\n",
       "      <td>0.0</td>\n",
       "      <td>0.43</td>\n",
       "    </tr>\n",
       "    <tr>\n",
       "      <th>3</th>\n",
       "      <td>https://www.airbnb.com/rooms/185732</td>\n",
       "      <td>Romantic 2 bedroom private suite</td>\n",
       "      <td>The unit is a 2 bedroom suite sectioned off fr...</td>\n",
       "      <td>No se proporcionan detalles</td>\n",
       "      <td>https://a0.muscache.com/pictures/20829630/9356...</td>\n",
       "      <td>Peter</td>\n",
       "      <td>2011-07-27</td>\n",
       "      <td>a few days or more</td>\n",
       "      <td>10%</td>\n",
       "      <td>f</td>\n",
       "      <td>...</td>\n",
       "      <td>4.65</td>\n",
       "      <td>4.82</td>\n",
       "      <td>4.88</td>\n",
       "      <td>4.90</td>\n",
       "      <td>4.61</td>\n",
       "      <td>3.0</td>\n",
       "      <td>0.0</td>\n",
       "      <td>0.0</td>\n",
       "      <td>0.0</td>\n",
       "      <td>0.32</td>\n",
       "    </tr>\n",
       "    <tr>\n",
       "      <th>4</th>\n",
       "      <td>https://www.airbnb.com/rooms/193366</td>\n",
       "      <td>Tudor Cottage</td>\n",
       "      <td>In the historic Rockland area of Victoria, thi...</td>\n",
       "      <td>We are surrounded by heritage homes with lovel...</td>\n",
       "      <td>https://a0.muscache.com/pictures/6145514/1eb8d...</td>\n",
       "      <td>Sandra</td>\n",
       "      <td>2011-08-07</td>\n",
       "      <td>within a few hours</td>\n",
       "      <td>75%</td>\n",
       "      <td>f</td>\n",
       "      <td>...</td>\n",
       "      <td>4.78</td>\n",
       "      <td>4.92</td>\n",
       "      <td>4.89</td>\n",
       "      <td>4.88</td>\n",
       "      <td>4.76</td>\n",
       "      <td>1.0</td>\n",
       "      <td>1.0</td>\n",
       "      <td>0.0</td>\n",
       "      <td>0.0</td>\n",
       "      <td>1.01</td>\n",
       "    </tr>\n",
       "  </tbody>\n",
       "</table>\n",
       "<p>5 rows × 50 columns</p>\n",
       "</div>"
      ],
      "text/plain": [
       "                           listing_url                              name  \\\n",
       "0   https://www.airbnb.com/rooms/19898                     Duchess Suite   \n",
       "1   https://www.airbnb.com/rooms/83515                 GALLERY B&B SUITE   \n",
       "2  https://www.airbnb.com/rooms/168460     Perfectly located lovely home   \n",
       "3  https://www.airbnb.com/rooms/185732  Romantic 2 bedroom private suite   \n",
       "4  https://www.airbnb.com/rooms/193366                     Tudor Cottage   \n",
       "\n",
       "                                         description  \\\n",
       "0                      No se proporciona descripción   \n",
       "1  A quiet and sunny suite with a private entranc...   \n",
       "2  Wonderful neighborhood, two blocks to inner ha...   \n",
       "3  The unit is a 2 bedroom suite sectioned off fr...   \n",
       "4  In the historic Rockland area of Victoria, thi...   \n",
       "\n",
       "                               neighborhood_overview  \\\n",
       "0                        No se proporcionan detalles   \n",
       "1  Our property has gardens, an orchard, a pond a...   \n",
       "2  Lovely neighborhood with friendly neighbors su...   \n",
       "3                        No se proporcionan detalles   \n",
       "4  We are surrounded by heritage homes with lovel...   \n",
       "\n",
       "                                         picture_url host_name  host_since  \\\n",
       "0  https://a0.muscache.com/pictures/101822/ae950f...      Ryan  2010-01-11   \n",
       "1  https://a0.muscache.com/pictures/6110737/930db...     Celia  2011-03-21   \n",
       "2  https://a0.muscache.com/pictures/7a2bfc51-fd59...   Deborah  2011-07-10   \n",
       "3  https://a0.muscache.com/pictures/20829630/9356...     Peter  2011-07-27   \n",
       "4  https://a0.muscache.com/pictures/6145514/1eb8d...    Sandra  2011-08-07   \n",
       "\n",
       "   host_response_time host_response_rate host_is_superhost  ...  \\\n",
       "0         Desconocido                 -%                 f  ...   \n",
       "1      within an hour               100%                 t  ...   \n",
       "2         Desconocido                 -%                 f  ...   \n",
       "3  a few days or more                10%                 f  ...   \n",
       "4  within a few hours                75%                 f  ...   \n",
       "\n",
       "  review_scores_cleanliness review_scores_checkin review_scores_communication  \\\n",
       "0                      5.00                  5.00                        5.00   \n",
       "1                      4.87                  4.92                        4.84   \n",
       "2                      4.98                  4.89                        4.92   \n",
       "3                      4.65                  4.82                        4.88   \n",
       "4                      4.78                  4.92                        4.89   \n",
       "\n",
       "  review_scores_location review_scores_value calculated_host_listings_count  \\\n",
       "0                   4.90                4.80                            1.0   \n",
       "1                   4.94                4.75                            2.0   \n",
       "2                   5.00                4.90                            1.0   \n",
       "3                   4.90                4.61                            3.0   \n",
       "4                   4.88                4.76                            1.0   \n",
       "\n",
       "  calculated_host_listings_count_entire_homes  \\\n",
       "0                                         0.0   \n",
       "1                                         2.0   \n",
       "2                                         1.0   \n",
       "3                                         0.0   \n",
       "4                                         1.0   \n",
       "\n",
       "  calculated_host_listings_count_private_rooms  \\\n",
       "0                                          0.0   \n",
       "1                                          0.0   \n",
       "2                                          0.0   \n",
       "3                                          0.0   \n",
       "4                                          0.0   \n",
       "\n",
       "  calculated_host_listings_count_shared_rooms reviews_per_month  \n",
       "0                                         0.0              1.90  \n",
       "1                                         0.0              0.90  \n",
       "2                                         0.0              0.43  \n",
       "3                                         0.0              0.32  \n",
       "4                                         0.0              1.01  \n",
       "\n",
       "[5 rows x 50 columns]"
      ]
     },
     "execution_count": 77,
     "metadata": {},
     "output_type": "execute_result"
    }
   ],
   "source": [
    "#cargar archivo desde seaborn \n",
    "df=pd.read_csv('Victoria_limpio.csv')\n",
    "#eliminamos la columna unnamed \n",
    "df= df.drop(['Unnamed: 0'], axis=1)\n",
    "df.head(5)"
   ]
  },
  {
   "cell_type": "code",
   "execution_count": 78,
   "metadata": {},
   "outputs": [
    {
     "data": {
      "text/html": [
       "<div>\n",
       "<style scoped>\n",
       "    .dataframe tbody tr th:only-of-type {\n",
       "        vertical-align: middle;\n",
       "    }\n",
       "\n",
       "    .dataframe tbody tr th {\n",
       "        vertical-align: top;\n",
       "    }\n",
       "\n",
       "    .dataframe thead th {\n",
       "        text-align: right;\n",
       "    }\n",
       "</style>\n",
       "<table border=\"1\" class=\"dataframe\">\n",
       "  <thead>\n",
       "    <tr style=\"text-align: right;\">\n",
       "      <th></th>\n",
       "      <th>host_response_rate</th>\n",
       "      <th>host_is_superhost</th>\n",
       "      <th>host_identity_verified</th>\n",
       "      <th>property_type</th>\n",
       "      <th>room_type</th>\n",
       "      <th>instant_bookable</th>\n",
       "      <th>accommodates</th>\n",
       "      <th>bathrooms</th>\n",
       "      <th>price</th>\n",
       "      <th>review_scores_cleanliness</th>\n",
       "    </tr>\n",
       "  </thead>\n",
       "  <tbody>\n",
       "    <tr>\n",
       "      <th>0</th>\n",
       "      <td>-%</td>\n",
       "      <td>f</td>\n",
       "      <td>f</td>\n",
       "      <td>Private room in rental unit</td>\n",
       "      <td>Private room</td>\n",
       "      <td>f</td>\n",
       "      <td>1.0</td>\n",
       "      <td>1.0</td>\n",
       "      <td>188.5</td>\n",
       "      <td>5.00</td>\n",
       "    </tr>\n",
       "    <tr>\n",
       "      <th>1</th>\n",
       "      <td>100%</td>\n",
       "      <td>t</td>\n",
       "      <td>t</td>\n",
       "      <td>Entire guest suite</td>\n",
       "      <td>Entire home/apt</td>\n",
       "      <td>t</td>\n",
       "      <td>2.0</td>\n",
       "      <td>1.0</td>\n",
       "      <td>175.0</td>\n",
       "      <td>4.87</td>\n",
       "    </tr>\n",
       "    <tr>\n",
       "      <th>2</th>\n",
       "      <td>-%</td>\n",
       "      <td>f</td>\n",
       "      <td>f</td>\n",
       "      <td>Entire townhouse</td>\n",
       "      <td>Entire home/apt</td>\n",
       "      <td>f</td>\n",
       "      <td>3.0</td>\n",
       "      <td>1.0</td>\n",
       "      <td>200.0</td>\n",
       "      <td>4.98</td>\n",
       "    </tr>\n",
       "    <tr>\n",
       "      <th>3</th>\n",
       "      <td>10%</td>\n",
       "      <td>f</td>\n",
       "      <td>t</td>\n",
       "      <td>Private room in home</td>\n",
       "      <td>Private room</td>\n",
       "      <td>f</td>\n",
       "      <td>5.0</td>\n",
       "      <td>1.0</td>\n",
       "      <td>199.0</td>\n",
       "      <td>4.65</td>\n",
       "    </tr>\n",
       "    <tr>\n",
       "      <th>4</th>\n",
       "      <td>75%</td>\n",
       "      <td>f</td>\n",
       "      <td>t</td>\n",
       "      <td>Entire guest suite</td>\n",
       "      <td>Entire home/apt</td>\n",
       "      <td>t</td>\n",
       "      <td>6.0</td>\n",
       "      <td>1.0</td>\n",
       "      <td>135.0</td>\n",
       "      <td>4.78</td>\n",
       "    </tr>\n",
       "    <tr>\n",
       "      <th>...</th>\n",
       "      <td>...</td>\n",
       "      <td>...</td>\n",
       "      <td>...</td>\n",
       "      <td>...</td>\n",
       "      <td>...</td>\n",
       "      <td>...</td>\n",
       "      <td>...</td>\n",
       "      <td>...</td>\n",
       "      <td>...</td>\n",
       "      <td>...</td>\n",
       "    </tr>\n",
       "    <tr>\n",
       "      <th>3962</th>\n",
       "      <td>100%</td>\n",
       "      <td>f</td>\n",
       "      <td>t</td>\n",
       "      <td>Entire rental unit</td>\n",
       "      <td>Entire home/apt</td>\n",
       "      <td>t</td>\n",
       "      <td>4.0</td>\n",
       "      <td>1.0</td>\n",
       "      <td>178.0</td>\n",
       "      <td>5.00</td>\n",
       "    </tr>\n",
       "    <tr>\n",
       "      <th>3963</th>\n",
       "      <td>-%</td>\n",
       "      <td>f</td>\n",
       "      <td>t</td>\n",
       "      <td>Entire home</td>\n",
       "      <td>Entire home/apt</td>\n",
       "      <td>f</td>\n",
       "      <td>4.0</td>\n",
       "      <td>1.0</td>\n",
       "      <td>242.0</td>\n",
       "      <td>5.00</td>\n",
       "    </tr>\n",
       "    <tr>\n",
       "      <th>3964</th>\n",
       "      <td>-%</td>\n",
       "      <td>f</td>\n",
       "      <td>f</td>\n",
       "      <td>Entire guesthouse</td>\n",
       "      <td>Entire home/apt</td>\n",
       "      <td>f</td>\n",
       "      <td>4.0</td>\n",
       "      <td>1.0</td>\n",
       "      <td>155.5</td>\n",
       "      <td>5.00</td>\n",
       "    </tr>\n",
       "    <tr>\n",
       "      <th>3965</th>\n",
       "      <td>-%</td>\n",
       "      <td>f</td>\n",
       "      <td>t</td>\n",
       "      <td>Entire home</td>\n",
       "      <td>Entire home/apt</td>\n",
       "      <td>f</td>\n",
       "      <td>4.0</td>\n",
       "      <td>1.0</td>\n",
       "      <td>242.0</td>\n",
       "      <td>5.00</td>\n",
       "    </tr>\n",
       "    <tr>\n",
       "      <th>3966</th>\n",
       "      <td>-%</td>\n",
       "      <td>f</td>\n",
       "      <td>t</td>\n",
       "      <td>Entire rental unit</td>\n",
       "      <td>Entire home/apt</td>\n",
       "      <td>f</td>\n",
       "      <td>4.0</td>\n",
       "      <td>1.0</td>\n",
       "      <td>300.0</td>\n",
       "      <td>5.00</td>\n",
       "    </tr>\n",
       "  </tbody>\n",
       "</table>\n",
       "<p>3967 rows × 10 columns</p>\n",
       "</div>"
      ],
      "text/plain": [
       "     host_response_rate host_is_superhost host_identity_verified  \\\n",
       "0                    -%                 f                      f   \n",
       "1                  100%                 t                      t   \n",
       "2                    -%                 f                      f   \n",
       "3                   10%                 f                      t   \n",
       "4                   75%                 f                      t   \n",
       "...                 ...               ...                    ...   \n",
       "3962               100%                 f                      t   \n",
       "3963                 -%                 f                      t   \n",
       "3964                 -%                 f                      f   \n",
       "3965                 -%                 f                      t   \n",
       "3966                 -%                 f                      t   \n",
       "\n",
       "                    property_type        room_type instant_bookable  \\\n",
       "0     Private room in rental unit     Private room                f   \n",
       "1              Entire guest suite  Entire home/apt                t   \n",
       "2                Entire townhouse  Entire home/apt                f   \n",
       "3            Private room in home     Private room                f   \n",
       "4              Entire guest suite  Entire home/apt                t   \n",
       "...                           ...              ...              ...   \n",
       "3962           Entire rental unit  Entire home/apt                t   \n",
       "3963                  Entire home  Entire home/apt                f   \n",
       "3964            Entire guesthouse  Entire home/apt                f   \n",
       "3965                  Entire home  Entire home/apt                f   \n",
       "3966           Entire rental unit  Entire home/apt                f   \n",
       "\n",
       "      accommodates  bathrooms  price  review_scores_cleanliness  \n",
       "0              1.0        1.0  188.5                       5.00  \n",
       "1              2.0        1.0  175.0                       4.87  \n",
       "2              3.0        1.0  200.0                       4.98  \n",
       "3              5.0        1.0  199.0                       4.65  \n",
       "4              6.0        1.0  135.0                       4.78  \n",
       "...            ...        ...    ...                        ...  \n",
       "3962           4.0        1.0  178.0                       5.00  \n",
       "3963           4.0        1.0  242.0                       5.00  \n",
       "3964           4.0        1.0  155.5                       5.00  \n",
       "3965           4.0        1.0  242.0                       5.00  \n",
       "3966           4.0        1.0  300.0                       5.00  \n",
       "\n",
       "[3967 rows x 10 columns]"
      ]
     },
     "execution_count": 78,
     "metadata": {},
     "output_type": "execute_result"
    }
   ],
   "source": [
    "f1=df.iloc[ :  , [8,9,10,13,14,20,24,25,28,40] ]\n",
    "f1"
   ]
  },
  {
   "cell_type": "code",
   "execution_count": 79,
   "metadata": {},
   "outputs": [
    {
     "name": "stderr",
     "output_type": "stream",
     "text": [
      "C:\\Users\\josse\\AppData\\Local\\Temp\\ipykernel_7924\\1986825469.py:2: FutureWarning: Downcasting behavior in `replace` is deprecated and will be removed in a future version. To retain the old behavior, explicitly call `result.infer_objects(copy=False)`. To opt-in to the future behavior, set `pd.set_option('future.no_silent_downcasting', True)`\n",
      "  f1['host_is_superhost'] = f1['host_is_superhost'].replace({'f': 0, 't': 1})\n",
      "C:\\Users\\josse\\AppData\\Local\\Temp\\ipykernel_7924\\1986825469.py:2: SettingWithCopyWarning: \n",
      "A value is trying to be set on a copy of a slice from a DataFrame.\n",
      "Try using .loc[row_indexer,col_indexer] = value instead\n",
      "\n",
      "See the caveats in the documentation: https://pandas.pydata.org/pandas-docs/stable/user_guide/indexing.html#returning-a-view-versus-a-copy\n",
      "  f1['host_is_superhost'] = f1['host_is_superhost'].replace({'f': 0, 't': 1})\n",
      "C:\\Users\\josse\\AppData\\Local\\Temp\\ipykernel_7924\\1986825469.py:3: FutureWarning: Downcasting behavior in `replace` is deprecated and will be removed in a future version. To retain the old behavior, explicitly call `result.infer_objects(copy=False)`. To opt-in to the future behavior, set `pd.set_option('future.no_silent_downcasting', True)`\n",
      "  f1['host_identity_verified'] = f1['host_identity_verified'].replace({'f': 0, 't': 1})\n",
      "C:\\Users\\josse\\AppData\\Local\\Temp\\ipykernel_7924\\1986825469.py:3: SettingWithCopyWarning: \n",
      "A value is trying to be set on a copy of a slice from a DataFrame.\n",
      "Try using .loc[row_indexer,col_indexer] = value instead\n",
      "\n",
      "See the caveats in the documentation: https://pandas.pydata.org/pandas-docs/stable/user_guide/indexing.html#returning-a-view-versus-a-copy\n",
      "  f1['host_identity_verified'] = f1['host_identity_verified'].replace({'f': 0, 't': 1})\n",
      "C:\\Users\\josse\\AppData\\Local\\Temp\\ipykernel_7924\\1986825469.py:4: FutureWarning: Downcasting behavior in `replace` is deprecated and will be removed in a future version. To retain the old behavior, explicitly call `result.infer_objects(copy=False)`. To opt-in to the future behavior, set `pd.set_option('future.no_silent_downcasting', True)`\n",
      "  f1['instant_bookable'] = f1['instant_bookable'].replace({'f': 0, 't': 1})\n",
      "C:\\Users\\josse\\AppData\\Local\\Temp\\ipykernel_7924\\1986825469.py:4: SettingWithCopyWarning: \n",
      "A value is trying to be set on a copy of a slice from a DataFrame.\n",
      "Try using .loc[row_indexer,col_indexer] = value instead\n",
      "\n",
      "See the caveats in the documentation: https://pandas.pydata.org/pandas-docs/stable/user_guide/indexing.html#returning-a-view-versus-a-copy\n",
      "  f1['instant_bookable'] = f1['instant_bookable'].replace({'f': 0, 't': 1})\n",
      "C:\\Users\\josse\\AppData\\Local\\Temp\\ipykernel_7924\\1986825469.py:12: SettingWithCopyWarning: \n",
      "A value is trying to be set on a copy of a slice from a DataFrame.\n",
      "Try using .loc[row_indexer,col_indexer] = value instead\n",
      "\n",
      "See the caveats in the documentation: https://pandas.pydata.org/pandas-docs/stable/user_guide/indexing.html#returning-a-view-versus-a-copy\n",
      "  f1['property_type'] = f1['property_type'].map(frecuencias)\n",
      "C:\\Users\\josse\\AppData\\Local\\Temp\\ipykernel_7924\\1986825469.py:15: SettingWithCopyWarning: \n",
      "A value is trying to be set on a copy of a slice from a DataFrame.\n",
      "Try using .loc[row_indexer,col_indexer] = value instead\n",
      "\n",
      "See the caveats in the documentation: https://pandas.pydata.org/pandas-docs/stable/user_guide/indexing.html#returning-a-view-versus-a-copy\n",
      "  f1['host_response_rate'] = f1['host_response_rate'].astype(str).str.rstrip('%')\n",
      "C:\\Users\\josse\\AppData\\Local\\Temp\\ipykernel_7924\\1986825469.py:16: SettingWithCopyWarning: \n",
      "A value is trying to be set on a copy of a slice from a DataFrame.\n",
      "Try using .loc[row_indexer,col_indexer] = value instead\n",
      "\n",
      "See the caveats in the documentation: https://pandas.pydata.org/pandas-docs/stable/user_guide/indexing.html#returning-a-view-versus-a-copy\n",
      "  f1['host_response_rate'] = pd.to_numeric(f1['host_response_rate'], errors='coerce').fillna(0)\n",
      "C:\\Users\\josse\\AppData\\Local\\Temp\\ipykernel_7924\\1986825469.py:18: SettingWithCopyWarning: \n",
      "A value is trying to be set on a copy of a slice from a DataFrame.\n",
      "Try using .loc[row_indexer,col_indexer] = value instead\n",
      "\n",
      "See the caveats in the documentation: https://pandas.pydata.org/pandas-docs/stable/user_guide/indexing.html#returning-a-view-versus-a-copy\n",
      "  f1['room_type'] = f1['room_type'].map({\n",
      "C:\\Users\\josse\\AppData\\Local\\Temp\\ipykernel_7924\\1986825469.py:25: SettingWithCopyWarning: \n",
      "A value is trying to be set on a copy of a slice from a DataFrame.\n",
      "Try using .loc[row_indexer,col_indexer] = value instead\n",
      "\n",
      "See the caveats in the documentation: https://pandas.pydata.org/pandas-docs/stable/user_guide/indexing.html#returning-a-view-versus-a-copy\n",
      "  f1['price'] = f1['price'].astype(str).str.rstrip('$')\n",
      "C:\\Users\\josse\\AppData\\Local\\Temp\\ipykernel_7924\\1986825469.py:26: SettingWithCopyWarning: \n",
      "A value is trying to be set on a copy of a slice from a DataFrame.\n",
      "Try using .loc[row_indexer,col_indexer] = value instead\n",
      "\n",
      "See the caveats in the documentation: https://pandas.pydata.org/pandas-docs/stable/user_guide/indexing.html#returning-a-view-versus-a-copy\n",
      "  f1['price'] = pd.to_numeric(f1['price'], errors='coerce').fillna(0)\n"
     ]
    }
   ],
   "source": [
    "#convertimos string a tipos numéricos\n",
    "f1['host_is_superhost'] = f1['host_is_superhost'].replace({'f': 0, 't': 1})\n",
    "f1['host_identity_verified'] = f1['host_identity_verified'].replace({'f': 0, 't': 1})\n",
    "f1['instant_bookable'] = f1['instant_bookable'].replace({'f': 0, 't': 1})\n",
    "\n",
    "#from sklearn.preprocessing import LabelEncoder\n",
    "#encoder = LabelEncoder()\n",
    "#f1['property_type'] = encoder.fit_transform(f1['property_type'])\n",
    "#f1['property_type'] = f1['property_type'].astype(float)\n",
    "\n",
    "frecuencias = f1['property_type'].value_counts()\n",
    "f1['property_type'] = f1['property_type'].map(frecuencias)\n",
    "\n",
    "\n",
    "f1['host_response_rate'] = f1['host_response_rate'].astype(str).str.rstrip('%')\n",
    "f1['host_response_rate'] = pd.to_numeric(f1['host_response_rate'], errors='coerce').fillna(0)\n",
    "\n",
    "f1['room_type'] = f1['room_type'].map({\n",
    "    'Entire home/apt': 1,\n",
    "    'Private room': 2,\n",
    "    'Shared room': 3,\n",
    "    'Hotel room': 4\n",
    "})\n",
    "\n",
    "f1['price'] = f1['price'].astype(str).str.rstrip('$')\n",
    "f1['price'] = pd.to_numeric(f1['price'], errors='coerce').fillna(0)"
   ]
  },
  {
   "cell_type": "code",
   "execution_count": 80,
   "metadata": {},
   "outputs": [],
   "source": [
    "#f2 = Shared room\n",
    "f2= f1[(f1[\"room_type\"] == 4)]"
   ]
  },
  {
   "cell_type": "code",
   "execution_count": 81,
   "metadata": {},
   "outputs": [
    {
     "name": "stdout",
     "output_type": "stream",
     "text": [
      "<class 'pandas.core.frame.DataFrame'>\n",
      "Index: 1 entries, 883 to 883\n",
      "Data columns (total 10 columns):\n",
      " #   Column                     Non-Null Count  Dtype  \n",
      "---  ------                     --------------  -----  \n",
      " 0   host_response_rate         1 non-null      float64\n",
      " 1   host_is_superhost          1 non-null      int64  \n",
      " 2   host_identity_verified     1 non-null      int64  \n",
      " 3   property_type              1 non-null      int64  \n",
      " 4   room_type                  1 non-null      int64  \n",
      " 5   instant_bookable           1 non-null      int64  \n",
      " 6   accommodates               1 non-null      float64\n",
      " 7   bathrooms                  1 non-null      float64\n",
      " 8   price                      1 non-null      float64\n",
      " 9   review_scores_cleanliness  1 non-null      float64\n",
      "dtypes: float64(5), int64(5)\n",
      "memory usage: 88.0 bytes\n"
     ]
    }
   ],
   "source": [
    "f2.info()"
   ]
  },
  {
   "cell_type": "code",
   "execution_count": 82,
   "metadata": {},
   "outputs": [
    {
     "data": {
      "text/plain": [
       "<Axes: xlabel='room_type', ylabel='price'>"
      ]
     },
     "execution_count": 82,
     "metadata": {},
     "output_type": "execute_result"
    },
    {
     "data": {
      "image/png": "[encoded data removed]",
      "text/plain": [
       "<Figure size 640x480 with 1 Axes>"
      ]
     },
     "metadata": {},
     "output_type": "display_data"
    }
   ],
   "source": [
    "#imprimimos el scatter plot entre la variable dependiente total e independiente (a)\n",
    "#para observar el comportamiento en su dispersión \n",
    "\n",
    "from turtle import color \n",
    "\n",
    "sns.scatterplot(x='room_type', y='price', color='blue', data=f2)\n",
    "sns.scatterplot(x='host_response_rate', y='price', color='red', data=f2)"
   ]
  },
  {
   "cell_type": "code",
   "execution_count": 83,
   "metadata": {},
   "outputs": [
    {
     "data": {
      "text/plain": [
       "<Axes: xlabel='room_type', ylabel='price'>"
      ]
     },
     "execution_count": 83,
     "metadata": {},
     "output_type": "execute_result"
    },
    {
     "data": {
      "image/png": "[encoded data removed]",
      "text/plain": [
       "<Figure size 640x480 with 1 Axes>"
      ]
     },
     "metadata": {},
     "output_type": "display_data"
    }
   ],
   "source": [
    "from turtle import color \n",
    "\n",
    "sns.scatterplot(x='room_type', y='price', color='blue', data=f2)\n",
    "sns.scatterplot(x='host_is_superhost', y='price', color='red', data=f2)"
   ]
  },
  {
   "cell_type": "code",
   "execution_count": 84,
   "metadata": {},
   "outputs": [
    {
     "data": {
      "text/plain": [
       "<Axes: xlabel='room_type', ylabel='price'>"
      ]
     },
     "execution_count": 84,
     "metadata": {},
     "output_type": "execute_result"
    },
    {
     "data": {
      "image/png": "[encoded data removed]",
      "text/plain": [
       "<Figure size 640x480 with 1 Axes>"
      ]
     },
     "metadata": {},
     "output_type": "display_data"
    }
   ],
   "source": [
    "from turtle import color \n",
    "\n",
    "sns.scatterplot(x='room_type', y='price', color='blue', data=f2)\n",
    "sns.scatterplot(x='host_identity_verified', y='price', color='red', data=f2)"
   ]
  },
  {
   "cell_type": "code",
   "execution_count": 85,
   "metadata": {},
   "outputs": [
    {
     "data": {
      "text/plain": [
       "<Axes: xlabel='room_type', ylabel='price'>"
      ]
     },
     "execution_count": 85,
     "metadata": {},
     "output_type": "execute_result"
    },
    {
     "data": {
      "image/png": "[encoded data removed]",
      "text/plain": [
       "<Figure size 640x480 with 1 Axes>"
      ]
     },
     "metadata": {},
     "output_type": "display_data"
    }
   ],
   "source": [
    "from turtle import color \n",
    "\n",
    "sns.scatterplot(x='room_type', y='price', color='blue', data=f2)\n",
    "sns.scatterplot(x='property_type', y='price', color='red', data=f2)"
   ]
  },
  {
   "cell_type": "code",
   "execution_count": 86,
   "metadata": {},
   "outputs": [
    {
     "data": {
      "text/plain": [
       "<Axes: xlabel='room_type', ylabel='price'>"
      ]
     },
     "execution_count": 86,
     "metadata": {},
     "output_type": "execute_result"
    },
    {
     "data": {
      "image/png": "[encoded data removed]",
      "text/plain": [
       "<Figure size 640x480 with 1 Axes>"
      ]
     },
     "metadata": {},
     "output_type": "display_data"
    }
   ],
   "source": [
    "from turtle import color \n",
    "\n",
    "sns.scatterplot(x='room_type', y='price', color='blue', data=f2)\n",
    "sns.scatterplot(x='room_type', y='price', color='red', data=f2)"
   ]
  },
  {
   "cell_type": "code",
   "execution_count": 87,
   "metadata": {},
   "outputs": [
    {
     "data": {
      "text/plain": [
       "<Axes: xlabel='room_type', ylabel='price'>"
      ]
     },
     "execution_count": 87,
     "metadata": {},
     "output_type": "execute_result"
    },
    {
     "data": {
      "image/png": "[encoded data removed]",
      "text/plain": [
       "<Figure size 640x480 with 1 Axes>"
      ]
     },
     "metadata": {},
     "output_type": "display_data"
    }
   ],
   "source": [
    "from turtle import color \n",
    "\n",
    "sns.scatterplot(x='room_type', y='price', color='blue', data=f2)\n",
    "sns.scatterplot(x='instant_bookable', y='price', color='red', data=f2)"
   ]
  },
  {
   "cell_type": "code",
   "execution_count": 88,
   "metadata": {},
   "outputs": [
    {
     "data": {
      "text/plain": [
       "<Axes: xlabel='room_type', ylabel='price'>"
      ]
     },
     "execution_count": 88,
     "metadata": {},
     "output_type": "execute_result"
    },
    {
     "data": {
      "image/png": "[encoded data removed]",
      "text/plain": [
       "<Figure size 640x480 with 1 Axes>"
      ]
     },
     "metadata": {},
     "output_type": "display_data"
    }
   ],
   "source": [
    "from turtle import color \n",
    "\n",
    "sns.scatterplot(x='room_type', y='price', color='blue', data=f2)\n",
    "sns.scatterplot(x='review_scores_cleanliness', y='price', color='red', data=f2)"
   ]
  },
  {
   "cell_type": "code",
   "execution_count": 89,
   "metadata": {},
   "outputs": [
    {
     "data": {
      "text/plain": [
       "<Axes: xlabel='room_type', ylabel='accommodates'>"
      ]
     },
     "execution_count": 89,
     "metadata": {},
     "output_type": "execute_result"
    },
    {
     "data": {
      "image/png": "[encoded data removed]",
      "text/plain": [
       "<Figure size 640x480 with 1 Axes>"
      ]
     },
     "metadata": {},
     "output_type": "display_data"
    }
   ],
   "source": [
    "from turtle import color \n",
    "\n",
    "sns.scatterplot(x='room_type', y='accommodates', color='blue', data=f2)\n",
    "sns.scatterplot(x='bathrooms', y='accommodates', color='red', data=f2)"
   ]
  },
  {
   "cell_type": "markdown",
   "metadata": {},
   "source": [
    "**DECLARACIÓN DE VARIABLES INDEPENDIENTES Y DEPENDIENTES**"
   ]
  },
  {
   "cell_type": "code",
   "execution_count": 90,
   "metadata": {},
   "outputs": [],
   "source": [
    "#declaración de las variables independientes que se van a comparar con el precio \n",
    "Var_Indep= f2[['host_response_rate']]\n",
    "Var_Indep2=f2[['host_is_superhost']]\n",
    "Var_Indep3=f2[['room_type']]\n",
    "Var_Indep4=f2[['host_identity_verified']]\n",
    "Var_Indep5= f2[['property_type']]\n",
    "Var_Indep6= f2[['instant_bookable']]\n",
    "Var_Indep7= f2[['review_scores_cleanliness']]\n",
    "#declaración de variable independiente para accommodates \n",
    "Var_Indep8= f2[['bathrooms']]"
   ]
  },
  {
   "cell_type": "code",
   "execution_count": 91,
   "metadata": {},
   "outputs": [],
   "source": [
    "#variables independientes para la regresión lineal\n",
    "Var_Dep= f2['price']\n",
    "Var_Dep2= f2['accommodates']"
   ]
  },
  {
   "cell_type": "markdown",
   "metadata": {},
   "source": [
    "**DEFINICIÓN DEL MODELO**"
   ]
  },
  {
   "cell_type": "code",
   "execution_count": 92,
   "metadata": {},
   "outputs": [],
   "source": [
    "#se define model como función de regresión lineal \n",
    "from sklearn.linear_model import LinearRegression \n",
    "model=LinearRegression()\n",
    "model2=LinearRegression()\n",
    "model3=LinearRegression()\n",
    "model4=LinearRegression()\n",
    "model5=LinearRegression()\n",
    "model6=LinearRegression()\n",
    "model7=LinearRegression()\n",
    "model8=LinearRegression()"
   ]
  },
  {
   "cell_type": "code",
   "execution_count": 93,
   "metadata": {},
   "outputs": [
    {
     "data": {
      "text/plain": [
       "sklearn.linear_model._base.LinearRegression"
      ]
     },
     "execution_count": 93,
     "metadata": {},
     "output_type": "execute_result"
    }
   ],
   "source": [
    "#verficamos la función relacionada al modelo \n",
    "type(model)\n",
    "type(model2)\n",
    "type(model3)\n",
    "type(model4)\n",
    "type(model5)\n",
    "type(model6)\n",
    "type(model7)\n",
    "type(model8)"
   ]
  },
  {
   "cell_type": "code",
   "execution_count": 94,
   "metadata": {},
   "outputs": [
    {
     "data": {
      "text/html": [
       "<style>#sk-container-id-2 {\n",
       "  /* Definition of color scheme common for light and dark mode */\n",
       "  --sklearn-color-text: #000;\n",
       "  --sklearn-color-text-muted: #666;\n",
       "  --sklearn-color-line: gray;\n",
       "  /* Definition of color scheme for unfitted estimators */\n",
       "  --sklearn-color-unfitted-level-0: #fff5e6;\n",
       "  --sklearn-color-unfitted-level-1: #f6e4d2;\n",
       "  --sklearn-color-unfitted-level-2: #ffe0b3;\n",
       "  --sklearn-color-unfitted-level-3: chocolate;\n",
       "  /* Definition of color scheme for fitted estimators */\n",
       "  --sklearn-color-fitted-level-0: #f0f8ff;\n",
       "  --sklearn-color-fitted-level-1: #d4ebff;\n",
       "  --sklearn-color-fitted-level-2: #b3dbfd;\n",
       "  --sklearn-color-fitted-level-3: cornflowerblue;\n",
       "\n",
       "  /* Specific color for light theme */\n",
       "  --sklearn-color-text-on-default-background: var(--sg-text-color, var(--theme-code-foreground, var(--jp-content-font-color1, black)));\n",
       "  --sklearn-color-background: var(--sg-background-color, var(--theme-background, var(--jp-layout-color0, white)));\n",
       "  --sklearn-color-border-box: var(--sg-text-color, var(--theme-code-foreground, var(--jp-content-font-color1, black)));\n",
       "  --sklearn-color-icon: #696969;\n",
       "\n",
       "  @media (prefers-color-scheme: dark) {\n",
       "    /* Redefinition of color scheme for dark theme */\n",
       "    --sklearn-color-text-on-default-background: var(--sg-text-color, var(--theme-code-foreground, var(--jp-content-font-color1, white)));\n",
       "    --sklearn-color-background: var(--sg-background-color, var(--theme-background, var(--jp-layout-color0, #111)));\n",
       "    --sklearn-color-border-box: var(--sg-text-color, var(--theme-code-foreground, var(--jp-content-font-color1, white)));\n",
       "    --sklearn-color-icon: #878787;\n",
       "  }\n",
       "}\n",
       "\n",
       "#sk-container-id-2 {\n",
       "  color: var(--sklearn-color-text);\n",
       "}\n",
       "\n",
       "#sk-container-id-2 pre {\n",
       "  padding: 0;\n",
       "}\n",
       "\n",
       "#sk-container-id-2 input.sk-hidden--visually {\n",
       "  border: 0;\n",
       "  clip: rect(1px 1px 1px 1px);\n",
       "  clip: rect(1px, 1px, 1px, 1px);\n",
       "  height: 1px;\n",
       "  margin: -1px;\n",
       "  overflow: hidden;\n",
       "  padding: 0;\n",
       "  position: absolute;\n",
       "  width: 1px;\n",
       "}\n",
       "\n",
       "#sk-container-id-2 div.sk-dashed-wrapped {\n",
       "  border: 1px dashed var(--sklearn-color-line);\n",
       "  margin: 0 0.4em 0.5em 0.4em;\n",
       "  box-sizing: border-box;\n",
       "  padding-bottom: 0.4em;\n",
       "  background-color: var(--sklearn-color-background);\n",
       "}\n",
       "\n",
       "#sk-container-id-2 div.sk-container {\n",
       "  /* jupyter's `normalize.less` sets `[hidden] { display: none; }`\n",
       "     but bootstrap.min.css set `[hidden] { display: none !important; }`\n",
       "     so we also need the `!important` here to be able to override the\n",
       "     default hidden behavior on the sphinx rendered scikit-learn.org.\n",
       "     See: https://github.com/scikit-learn/scikit-learn/issues/21755 */\n",
       "  display: inline-block !important;\n",
       "  position: relative;\n",
       "}\n",
       "\n",
       "#sk-container-id-2 div.sk-text-repr-fallback {\n",
       "  display: none;\n",
       "}\n",
       "\n",
       "div.sk-parallel-item,\n",
       "div.sk-serial,\n",
       "div.sk-item {\n",
       "  /* draw centered vertical line to link estimators */\n",
       "  background-image: linear-gradient(var(--sklearn-color-text-on-default-background), var(--sklearn-color-text-on-default-background));\n",
       "  background-size: 2px 100%;\n",
       "  background-repeat: no-repeat;\n",
       "  background-position: center center;\n",
       "}\n",
       "\n",
       "/* Parallel-specific style estimator block */\n",
       "\n",
       "#sk-container-id-2 div.sk-parallel-item::after {\n",
       "  content: \"\";\n",
       "  width: 100%;\n",
       "  border-bottom: 2px solid var(--sklearn-color-text-on-default-background);\n",
       "  flex-grow: 1;\n",
       "}\n",
       "\n",
       "#sk-container-id-2 div.sk-parallel {\n",
       "  display: flex;\n",
       "  align-items: stretch;\n",
       "  justify-content: center;\n",
       "  background-color: var(--sklearn-color-background);\n",
       "  position: relative;\n",
       "}\n",
       "\n",
       "#sk-container-id-2 div.sk-parallel-item {\n",
       "  display: flex;\n",
       "  flex-direction: column;\n",
       "}\n",
       "\n",
       "#sk-container-id-2 div.sk-parallel-item:first-child::after {\n",
       "  align-self: flex-end;\n",
       "  width: 50%;\n",
       "}\n",
       "\n",
       "#sk-container-id-2 div.sk-parallel-item:last-child::after {\n",
       "  align-self: flex-start;\n",
       "  width: 50%;\n",
       "}\n",
       "\n",
       "#sk-container-id-2 div.sk-parallel-item:only-child::after {\n",
       "  width: 0;\n",
       "}\n",
       "\n",
       "/* Serial-specific style estimator block */\n",
       "\n",
       "#sk-container-id-2 div.sk-serial {\n",
       "  display: flex;\n",
       "  flex-direction: column;\n",
       "  align-items: center;\n",
       "  background-color: var(--sklearn-color-background);\n",
       "  padding-right: 1em;\n",
       "  padding-left: 1em;\n",
       "}\n",
       "\n",
       "\n",
       "/* Toggleable style: style used for estimator/Pipeline/ColumnTransformer box that is\n",
       "clickable and can be expanded/collapsed.\n",
       "- Pipeline and ColumnTransformer use this feature and define the default style\n",
       "- Estimators will overwrite some part of the style using the `sk-estimator` class\n",
       "*/\n",
       "\n",
       "/* Pipeline and ColumnTransformer style (default) */\n",
       "\n",
       "#sk-container-id-2 div.sk-toggleable {\n",
       "  /* Default theme specific background. It is overwritten whether we have a\n",
       "  specific estimator or a Pipeline/ColumnTransformer */\n",
       "  background-color: var(--sklearn-color-background);\n",
       "}\n",
       "\n",
       "/* Toggleable label */\n",
       "#sk-container-id-2 label.sk-toggleable__label {\n",
       "  cursor: pointer;\n",
       "  display: flex;\n",
       "  width: 100%;\n",
       "  margin-bottom: 0;\n",
       "  padding: 0.5em;\n",
       "  box-sizing: border-box;\n",
       "  text-align: center;\n",
       "  align-items: start;\n",
       "  justify-content: space-between;\n",
       "  gap: 0.5em;\n",
       "}\n",
       "\n",
       "#sk-container-id-2 label.sk-toggleable__label .caption {\n",
       "  font-size: 0.6rem;\n",
       "  font-weight: lighter;\n",
       "  color: var(--sklearn-color-text-muted);\n",
       "}\n",
       "\n",
       "#sk-container-id-2 label.sk-toggleable__label-arrow:before {\n",
       "  /* Arrow on the left of the label */\n",
       "  content: \"▸\";\n",
       "  float: left;\n",
       "  margin-right: 0.25em;\n",
       "  color: var(--sklearn-color-icon);\n",
       "}\n",
       "\n",
       "#sk-container-id-2 label.sk-toggleable__label-arrow:hover:before {\n",
       "  color: var(--sklearn-color-text);\n",
       "}\n",
       "\n",
       "/* Toggleable content - dropdown */\n",
       "\n",
       "#sk-container-id-2 div.sk-toggleable__content {\n",
       "  max-height: 0;\n",
       "  max-width: 0;\n",
       "  overflow: hidden;\n",
       "  text-align: left;\n",
       "  /* unfitted */\n",
       "  background-color: var(--sklearn-color-unfitted-level-0);\n",
       "}\n",
       "\n",
       "#sk-container-id-2 div.sk-toggleable__content.fitted {\n",
       "  /* fitted */\n",
       "  background-color: var(--sklearn-color-fitted-level-0);\n",
       "}\n",
       "\n",
       "#sk-container-id-2 div.sk-toggleable__content pre {\n",
       "  margin: 0.2em;\n",
       "  border-radius: 0.25em;\n",
       "  color: var(--sklearn-color-text);\n",
       "  /* unfitted */\n",
       "  background-color: var(--sklearn-color-unfitted-level-0);\n",
       "}\n",
       "\n",
       "#sk-container-id-2 div.sk-toggleable__content.fitted pre {\n",
       "  /* unfitted */\n",
       "  background-color: var(--sklearn-color-fitted-level-0);\n",
       "}\n",
       "\n",
       "#sk-container-id-2 input.sk-toggleable__control:checked~div.sk-toggleable__content {\n",
       "  /* Expand drop-down */\n",
       "  max-height: 200px;\n",
       "  max-width: 100%;\n",
       "  overflow: auto;\n",
       "}\n",
       "\n",
       "#sk-container-id-2 input.sk-toggleable__control:checked~label.sk-toggleable__label-arrow:before {\n",
       "  content: \"▾\";\n",
       "}\n",
       "\n",
       "/* Pipeline/ColumnTransformer-specific style */\n",
       "\n",
       "#sk-container-id-2 div.sk-label input.sk-toggleable__control:checked~label.sk-toggleable__label {\n",
       "  color: var(--sklearn-color-text);\n",
       "  background-color: var(--sklearn-color-unfitted-level-2);\n",
       "}\n",
       "\n",
       "#sk-container-id-2 div.sk-label.fitted input.sk-toggleable__control:checked~label.sk-toggleable__label {\n",
       "  background-color: var(--sklearn-color-fitted-level-2);\n",
       "}\n",
       "\n",
       "/* Estimator-specific style */\n",
       "\n",
       "/* Colorize estimator box */\n",
       "#sk-container-id-2 div.sk-estimator input.sk-toggleable__control:checked~label.sk-toggleable__label {\n",
       "  /* unfitted */\n",
       "  background-color: var(--sklearn-color-unfitted-level-2);\n",
       "}\n",
       "\n",
       "#sk-container-id-2 div.sk-estimator.fitted input.sk-toggleable__control:checked~label.sk-toggleable__label {\n",
       "  /* fitted */\n",
       "  background-color: var(--sklearn-color-fitted-level-2);\n",
       "}\n",
       "\n",
       "#sk-container-id-2 div.sk-label label.sk-toggleable__label,\n",
       "#sk-container-id-2 div.sk-label label {\n",
       "  /* The background is the default theme color */\n",
       "  color: var(--sklearn-color-text-on-default-background);\n",
       "}\n",
       "\n",
       "/* On hover, darken the color of the background */\n",
       "#sk-container-id-2 div.sk-label:hover label.sk-toggleable__label {\n",
       "  color: var(--sklearn-color-text);\n",
       "  background-color: var(--sklearn-color-unfitted-level-2);\n",
       "}\n",
       "\n",
       "/* Label box, darken color on hover, fitted */\n",
       "#sk-container-id-2 div.sk-label.fitted:hover label.sk-toggleable__label.fitted {\n",
       "  color: var(--sklearn-color-text);\n",
       "  background-color: var(--sklearn-color-fitted-level-2);\n",
       "}\n",
       "\n",
       "/* Estimator label */\n",
       "\n",
       "#sk-container-id-2 div.sk-label label {\n",
       "  font-family: monospace;\n",
       "  font-weight: bold;\n",
       "  display: inline-block;\n",
       "  line-height: 1.2em;\n",
       "}\n",
       "\n",
       "#sk-container-id-2 div.sk-label-container {\n",
       "  text-align: center;\n",
       "}\n",
       "\n",
       "/* Estimator-specific */\n",
       "#sk-container-id-2 div.sk-estimator {\n",
       "  font-family: monospace;\n",
       "  border: 1px dotted var(--sklearn-color-border-box);\n",
       "  border-radius: 0.25em;\n",
       "  box-sizing: border-box;\n",
       "  margin-bottom: 0.5em;\n",
       "  /* unfitted */\n",
       "  background-color: var(--sklearn-color-unfitted-level-0);\n",
       "}\n",
       "\n",
       "#sk-container-id-2 div.sk-estimator.fitted {\n",
       "  /* fitted */\n",
       "  background-color: var(--sklearn-color-fitted-level-0);\n",
       "}\n",
       "\n",
       "/* on hover */\n",
       "#sk-container-id-2 div.sk-estimator:hover {\n",
       "  /* unfitted */\n",
       "  background-color: var(--sklearn-color-unfitted-level-2);\n",
       "}\n",
       "\n",
       "#sk-container-id-2 div.sk-estimator.fitted:hover {\n",
       "  /* fitted */\n",
       "  background-color: var(--sklearn-color-fitted-level-2);\n",
       "}\n",
       "\n",
       "/* Specification for estimator info (e.g. \"i\" and \"?\") */\n",
       "\n",
       "/* Common style for \"i\" and \"?\" */\n",
       "\n",
       ".sk-estimator-doc-link,\n",
       "a:link.sk-estimator-doc-link,\n",
       "a:visited.sk-estimator-doc-link {\n",
       "  float: right;\n",
       "  font-size: smaller;\n",
       "  line-height: 1em;\n",
       "  font-family: monospace;\n",
       "  background-color: var(--sklearn-color-background);\n",
       "  border-radius: 1em;\n",
       "  height: 1em;\n",
       "  width: 1em;\n",
       "  text-decoration: none !important;\n",
       "  margin-left: 0.5em;\n",
       "  text-align: center;\n",
       "  /* unfitted */\n",
       "  border: var(--sklearn-color-unfitted-level-1) 1pt solid;\n",
       "  color: var(--sklearn-color-unfitted-level-1);\n",
       "}\n",
       "\n",
       ".sk-estimator-doc-link.fitted,\n",
       "a:link.sk-estimator-doc-link.fitted,\n",
       "a:visited.sk-estimator-doc-link.fitted {\n",
       "  /* fitted */\n",
       "  border: var(--sklearn-color-fitted-level-1) 1pt solid;\n",
       "  color: var(--sklearn-color-fitted-level-1);\n",
       "}\n",
       "\n",
       "/* On hover */\n",
       "div.sk-estimator:hover .sk-estimator-doc-link:hover,\n",
       ".sk-estimator-doc-link:hover,\n",
       "div.sk-label-container:hover .sk-estimator-doc-link:hover,\n",
       ".sk-estimator-doc-link:hover {\n",
       "  /* unfitted */\n",
       "  background-color: var(--sklearn-color-unfitted-level-3);\n",
       "  color: var(--sklearn-color-background);\n",
       "  text-decoration: none;\n",
       "}\n",
       "\n",
       "div.sk-estimator.fitted:hover .sk-estimator-doc-link.fitted:hover,\n",
       ".sk-estimator-doc-link.fitted:hover,\n",
       "div.sk-label-container:hover .sk-estimator-doc-link.fitted:hover,\n",
       ".sk-estimator-doc-link.fitted:hover {\n",
       "  /* fitted */\n",
       "  background-color: var(--sklearn-color-fitted-level-3);\n",
       "  color: var(--sklearn-color-background);\n",
       "  text-decoration: none;\n",
       "}\n",
       "\n",
       "/* Span, style for the box shown on hovering the info icon */\n",
       ".sk-estimator-doc-link span {\n",
       "  display: none;\n",
       "  z-index: 9999;\n",
       "  position: relative;\n",
       "  font-weight: normal;\n",
       "  right: .2ex;\n",
       "  padding: .5ex;\n",
       "  margin: .5ex;\n",
       "  width: min-content;\n",
       "  min-width: 20ex;\n",
       "  max-width: 50ex;\n",
       "  color: var(--sklearn-color-text);\n",
       "  box-shadow: 2pt 2pt 4pt #999;\n",
       "  /* unfitted */\n",
       "  background: var(--sklearn-color-unfitted-level-0);\n",
       "  border: .5pt solid var(--sklearn-color-unfitted-level-3);\n",
       "}\n",
       "\n",
       ".sk-estimator-doc-link.fitted span {\n",
       "  /* fitted */\n",
       "  background: var(--sklearn-color-fitted-level-0);\n",
       "  border: var(--sklearn-color-fitted-level-3);\n",
       "}\n",
       "\n",
       ".sk-estimator-doc-link:hover span {\n",
       "  display: block;\n",
       "}\n",
       "\n",
       "/* \"?\"-specific style due to the `<a>` HTML tag */\n",
       "\n",
       "#sk-container-id-2 a.estimator_doc_link {\n",
       "  float: right;\n",
       "  font-size: 1rem;\n",
       "  line-height: 1em;\n",
       "  font-family: monospace;\n",
       "  background-color: var(--sklearn-color-background);\n",
       "  border-radius: 1rem;\n",
       "  height: 1rem;\n",
       "  width: 1rem;\n",
       "  text-decoration: none;\n",
       "  /* unfitted */\n",
       "  color: var(--sklearn-color-unfitted-level-1);\n",
       "  border: var(--sklearn-color-unfitted-level-1) 1pt solid;\n",
       "}\n",
       "\n",
       "#sk-container-id-2 a.estimator_doc_link.fitted {\n",
       "  /* fitted */\n",
       "  border: var(--sklearn-color-fitted-level-1) 1pt solid;\n",
       "  color: var(--sklearn-color-fitted-level-1);\n",
       "}\n",
       "\n",
       "/* On hover */\n",
       "#sk-container-id-2 a.estimator_doc_link:hover {\n",
       "  /* unfitted */\n",
       "  background-color: var(--sklearn-color-unfitted-level-3);\n",
       "  color: var(--sklearn-color-background);\n",
       "  text-decoration: none;\n",
       "}\n",
       "\n",
       "#sk-container-id-2 a.estimator_doc_link.fitted:hover {\n",
       "  /* fitted */\n",
       "  background-color: var(--sklearn-color-fitted-level-3);\n",
       "}\n",
       "</style><div id=\"sk-container-id-2\" class=\"sk-top-container\"><div class=\"sk-text-repr-fallback\"><pre>LinearRegression()</pre><b>In a Jupyter environment, please rerun this cell to show the HTML representation or trust the notebook. <br />On GitHub, the HTML representation is unable to render, please try loading this page with nbviewer.org.</b></div><div class=\"sk-container\" hidden><div class=\"sk-item\"><div class=\"sk-estimator fitted sk-toggleable\"><input class=\"sk-toggleable__control sk-hidden--visually\" id=\"sk-estimator-id-2\" type=\"checkbox\" checked><label for=\"sk-estimator-id-2\" class=\"sk-toggleable__label fitted sk-toggleable__label-arrow\"><div><div>LinearRegression</div></div><div><a class=\"sk-estimator-doc-link fitted\" rel=\"noreferrer\" target=\"_blank\" href=\"https://scikit-learn.org/1.6/modules/generated/sklearn.linear_model.LinearRegression.html\">?<span>Documentation for LinearRegression</span></a><span class=\"sk-estimator-doc-link fitted\">i<span>Fitted</span></span></div></label><div class=\"sk-toggleable__content fitted\"><pre>LinearRegression()</pre></div> </div></div></div></div>"
      ],
      "text/plain": [
       "LinearRegression()"
      ]
     },
     "execution_count": 94,
     "metadata": {},
     "output_type": "execute_result"
    }
   ],
   "source": [
    "#ajustamos el modelo con las variables antes declaradas\n",
    "model.fit(X=Var_Indep, y=Var_Dep)\n",
    "model2.fit(X=Var_Indep2, y=Var_Dep)\n",
    "model3.fit(X=Var_Indep3, y=Var_Dep)\n",
    "model4.fit(X=Var_Indep4, y=Var_Dep)\n",
    "model5.fit(X=Var_Indep5, y=Var_Dep)\n",
    "model6.fit(X=Var_Indep6, y=Var_Dep)\n",
    "model7.fit(X=Var_Indep7, y=Var_Dep)\n",
    "model8.fit(X=Var_Indep8, y=Var_Dep2)"
   ]
  },
  {
   "cell_type": "markdown",
   "metadata": {},
   "source": [
    "**COEFICIENTES OBTENIDOS PARA NUESTROS MODELOS**"
   ]
  },
  {
   "cell_type": "code",
   "execution_count": 95,
   "metadata": {},
   "outputs": [
    {
     "data": {
      "text/plain": [
       "{'fit_intercept': True,\n",
       " 'copy_X': True,\n",
       " 'n_jobs': None,\n",
       " 'positive': False,\n",
       " 'feature_names_in_': array(['host_response_rate'], dtype=object),\n",
       " 'n_features_in_': 1,\n",
       " 'coef_': array([0.]),\n",
       " 'rank_': 0,\n",
       " 'singular_': array([0.]),\n",
       " 'intercept_': np.float64(259.0)}"
      ]
     },
     "execution_count": 95,
     "metadata": {},
     "output_type": "execute_result"
    }
   ],
   "source": [
    "#verificamos los coeficientes obtenidos para el modelo ajustado \n",
    "model.__dict__"
   ]
  },
  {
   "cell_type": "code",
   "execution_count": 96,
   "metadata": {},
   "outputs": [
    {
     "data": {
      "text/plain": [
       "{'fit_intercept': True,\n",
       " 'copy_X': True,\n",
       " 'n_jobs': None,\n",
       " 'positive': False,\n",
       " 'feature_names_in_': array(['host_is_superhost'], dtype=object),\n",
       " 'n_features_in_': 1,\n",
       " 'coef_': array([0.]),\n",
       " 'rank_': 0,\n",
       " 'singular_': array([0.]),\n",
       " 'intercept_': np.float64(259.0)}"
      ]
     },
     "execution_count": 96,
     "metadata": {},
     "output_type": "execute_result"
    }
   ],
   "source": [
    "#verificamos los coeficientes obtenidos para el modelo ajustado \n",
    "model2.__dict__"
   ]
  },
  {
   "cell_type": "code",
   "execution_count": 97,
   "metadata": {},
   "outputs": [
    {
     "data": {
      "text/plain": [
       "{'fit_intercept': True,\n",
       " 'copy_X': True,\n",
       " 'n_jobs': None,\n",
       " 'positive': False,\n",
       " 'feature_names_in_': array(['room_type'], dtype=object),\n",
       " 'n_features_in_': 1,\n",
       " 'coef_': array([0.]),\n",
       " 'rank_': 0,\n",
       " 'singular_': array([0.]),\n",
       " 'intercept_': np.float64(259.0)}"
      ]
     },
     "execution_count": 97,
     "metadata": {},
     "output_type": "execute_result"
    }
   ],
   "source": [
    "#verificamos los coeficientes obtenidos para el modelo ajustado \n",
    "model3.__dict__"
   ]
  },
  {
   "cell_type": "code",
   "execution_count": 98,
   "metadata": {},
   "outputs": [
    {
     "data": {
      "text/plain": [
       "{'fit_intercept': True,\n",
       " 'copy_X': True,\n",
       " 'n_jobs': None,\n",
       " 'positive': False,\n",
       " 'feature_names_in_': array(['host_identity_verified'], dtype=object),\n",
       " 'n_features_in_': 1,\n",
       " 'coef_': array([0.]),\n",
       " 'rank_': 0,\n",
       " 'singular_': array([0.]),\n",
       " 'intercept_': np.float64(259.0)}"
      ]
     },
     "execution_count": 98,
     "metadata": {},
     "output_type": "execute_result"
    }
   ],
   "source": [
    "#verificamos los coeficientes obtenidos para el modelo ajustado \n",
    "model4.__dict__"
   ]
  },
  {
   "cell_type": "code",
   "execution_count": 99,
   "metadata": {},
   "outputs": [
    {
     "data": {
      "text/plain": [
       "{'fit_intercept': True,\n",
       " 'copy_X': True,\n",
       " 'n_jobs': None,\n",
       " 'positive': False,\n",
       " 'feature_names_in_': array(['property_type'], dtype=object),\n",
       " 'n_features_in_': 1,\n",
       " 'coef_': array([0.]),\n",
       " 'rank_': 0,\n",
       " 'singular_': array([0.]),\n",
       " 'intercept_': np.float64(259.0)}"
      ]
     },
     "execution_count": 99,
     "metadata": {},
     "output_type": "execute_result"
    }
   ],
   "source": [
    "#verificamos los coeficientes obtenidos para el modelo ajustado \n",
    "model5.__dict__"
   ]
  },
  {
   "cell_type": "code",
   "execution_count": 100,
   "metadata": {},
   "outputs": [
    {
     "data": {
      "text/plain": [
       "{'fit_intercept': True,\n",
       " 'copy_X': True,\n",
       " 'n_jobs': None,\n",
       " 'positive': False,\n",
       " 'feature_names_in_': array(['instant_bookable'], dtype=object),\n",
       " 'n_features_in_': 1,\n",
       " 'coef_': array([0.]),\n",
       " 'rank_': 0,\n",
       " 'singular_': array([0.]),\n",
       " 'intercept_': np.float64(259.0)}"
      ]
     },
     "execution_count": 100,
     "metadata": {},
     "output_type": "execute_result"
    }
   ],
   "source": [
    "#verificamos los coeficientes obtenidos para el modelo ajustado \n",
    "model6.__dict__"
   ]
  },
  {
   "cell_type": "code",
   "execution_count": 101,
   "metadata": {},
   "outputs": [
    {
     "data": {
      "text/plain": [
       "{'fit_intercept': True,\n",
       " 'copy_X': True,\n",
       " 'n_jobs': None,\n",
       " 'positive': False,\n",
       " 'feature_names_in_': array(['review_scores_cleanliness'], dtype=object),\n",
       " 'n_features_in_': 1,\n",
       " 'coef_': array([0.]),\n",
       " 'rank_': 0,\n",
       " 'singular_': array([0.]),\n",
       " 'intercept_': np.float64(259.0)}"
      ]
     },
     "execution_count": 101,
     "metadata": {},
     "output_type": "execute_result"
    }
   ],
   "source": [
    "#verificamos los coeficientes obtenidos para el modelo ajustado \n",
    "model7.__dict__"
   ]
  },
  {
   "cell_type": "code",
   "execution_count": 102,
   "metadata": {},
   "outputs": [
    {
     "data": {
      "text/plain": [
       "{'fit_intercept': True,\n",
       " 'copy_X': True,\n",
       " 'n_jobs': None,\n",
       " 'positive': False,\n",
       " 'feature_names_in_': array(['bathrooms'], dtype=object),\n",
       " 'n_features_in_': 1,\n",
       " 'coef_': array([0.]),\n",
       " 'rank_': 0,\n",
       " 'singular_': array([0.]),\n",
       " 'intercept_': np.float64(2.0)}"
      ]
     },
     "execution_count": 102,
     "metadata": {},
     "output_type": "execute_result"
    }
   ],
   "source": [
    "#verificamos los coeficientes obtenidos para el modelo ajustado \n",
    "model8.__dict__"
   ]
  },
  {
   "cell_type": "markdown",
   "metadata": {},
   "source": [
    "**A PARTIR DE AQUÍ PREDECIMOS VALORES DE ACUERDO AL MODELO MATEMÁTICO**"
   ]
  },
  {
   "cell_type": "markdown",
   "metadata": {},
   "source": [
    "**Modelo matemático y=-0.94114872x + 1327.7330443080114**"
   ]
  },
  {
   "cell_type": "code",
   "execution_count": 103,
   "metadata": {},
   "outputs": [
    {
     "data": {
      "text/plain": [
       "array([259.])"
      ]
     },
     "execution_count": 103,
     "metadata": {},
     "output_type": "execute_result"
    }
   ],
   "source": [
    "#predecimos valores\n",
    "y_pred= model.predict(X=f2[['host_response_rate']])\n",
    "y_pred"
   ]
  },
  {
   "cell_type": "markdown",
   "metadata": {},
   "source": [
    "**Modelo matemático y=21.00986237x + 1237.7516553524084**"
   ]
  },
  {
   "cell_type": "code",
   "execution_count": 104,
   "metadata": {},
   "outputs": [
    {
     "data": {
      "text/plain": [
       "array([259.])"
      ]
     },
     "execution_count": 104,
     "metadata": {},
     "output_type": "execute_result"
    }
   ],
   "source": [
    "#predecimos valores\n",
    "y_pred2= model2.predict(X=f2[['host_is_superhost']])\n",
    "y_pred2"
   ]
  },
  {
   "cell_type": "markdown",
   "metadata": {},
   "source": [
    "**Modelo matemático y=0x + 11247.1754189944133**"
   ]
  },
  {
   "cell_type": "code",
   "execution_count": 105,
   "metadata": {},
   "outputs": [
    {
     "data": {
      "text/plain": [
       "array([259.])"
      ]
     },
     "execution_count": 105,
     "metadata": {},
     "output_type": "execute_result"
    }
   ],
   "source": [
    "#predecimos valores\n",
    "y_pred3= model3.predict(X=f2[['room_type']])\n",
    "y_pred3"
   ]
  },
  {
   "cell_type": "markdown",
   "metadata": {},
   "source": [
    "**Modelo matemático y=-112.80942578x + 1357.171593533486**"
   ]
  },
  {
   "cell_type": "code",
   "execution_count": 106,
   "metadata": {},
   "outputs": [
    {
     "data": {
      "text/plain": [
       "array([259.])"
      ]
     },
     "execution_count": 106,
     "metadata": {},
     "output_type": "execute_result"
    }
   ],
   "source": [
    "#predecimos valores\n",
    "y_pred4= model4.predict(X=f2[['host_identity_verified']])\n",
    "y_pred4"
   ]
  },
  {
   "cell_type": "markdown",
   "metadata": {},
   "source": [
    "**Modelo matemático y=-4.56100445x + 1325.0492572068565**"
   ]
  },
  {
   "cell_type": "code",
   "execution_count": 107,
   "metadata": {},
   "outputs": [
    {
     "data": {
      "text/plain": [
       "array([259.])"
      ]
     },
     "execution_count": 107,
     "metadata": {},
     "output_type": "execute_result"
    }
   ],
   "source": [
    "#predecimos valores\n",
    "y_pred5= model5.predict(X=f2[['property_type']])\n",
    "y_pred5"
   ]
  },
  {
   "cell_type": "markdown",
   "metadata": {},
   "source": [
    "**Modelo matemático y=71.48464608x + 1217.0755372065255**"
   ]
  },
  {
   "cell_type": "code",
   "execution_count": 108,
   "metadata": {},
   "outputs": [
    {
     "data": {
      "text/plain": [
       "array([259.])"
      ]
     },
     "execution_count": 108,
     "metadata": {},
     "output_type": "execute_result"
    }
   ],
   "source": [
    "#predecimos valores\n",
    "y_pred6= model6.predict(X=f2[['instant_bookable']])\n",
    "y_pred6"
   ]
  },
  {
   "cell_type": "markdown",
   "metadata": {},
   "source": [
    "**Modelo matemático y=381.28956491x + -604.4218714343112**"
   ]
  },
  {
   "cell_type": "code",
   "execution_count": 109,
   "metadata": {},
   "outputs": [
    {
     "data": {
      "text/plain": [
       "array([259.])"
      ]
     },
     "execution_count": 109,
     "metadata": {},
     "output_type": "execute_result"
    }
   ],
   "source": [
    "y_pred7= model7.predict(X=f2[['review_scores_cleanliness']])\n",
    "y_pred7"
   ]
  },
  {
   "cell_type": "markdown",
   "metadata": {},
   "source": [
    "**Modelo matemático y=0.97488088x + 2.1063441944025767**"
   ]
  },
  {
   "cell_type": "code",
   "execution_count": 110,
   "metadata": {},
   "outputs": [
    {
     "data": {
      "text/plain": [
       "array([2.])"
      ]
     },
     "execution_count": 110,
     "metadata": {},
     "output_type": "execute_result"
    }
   ],
   "source": [
    "y_pred8= model8.predict(X=f2[['bathrooms']])\n",
    "y_pred8"
   ]
  },
  {
   "cell_type": "markdown",
   "metadata": {},
   "source": [
    "**INSERTAMOS LA COLUMNA DE PREDICCIONES A NUESTRO DATAFRAME**"
   ]
  },
  {
   "cell_type": "code",
   "execution_count": 111,
   "metadata": {},
   "outputs": [
    {
     "data": {
      "text/html": [
       "<div>\n",
       "<style scoped>\n",
       "    .dataframe tbody tr th:only-of-type {\n",
       "        vertical-align: middle;\n",
       "    }\n",
       "\n",
       "    .dataframe tbody tr th {\n",
       "        vertical-align: top;\n",
       "    }\n",
       "\n",
       "    .dataframe thead th {\n",
       "        text-align: right;\n",
       "    }\n",
       "</style>\n",
       "<table border=\"1\" class=\"dataframe\">\n",
       "  <thead>\n",
       "    <tr style=\"text-align: right;\">\n",
       "      <th></th>\n",
       "      <th>Prediccion_host_response_rate</th>\n",
       "      <th>host_response_rate</th>\n",
       "      <th>host_is_superhost</th>\n",
       "      <th>host_identity_verified</th>\n",
       "      <th>property_type</th>\n",
       "      <th>room_type</th>\n",
       "      <th>instant_bookable</th>\n",
       "      <th>accommodates</th>\n",
       "      <th>bathrooms</th>\n",
       "      <th>price</th>\n",
       "      <th>review_scores_cleanliness</th>\n",
       "    </tr>\n",
       "  </thead>\n",
       "  <tbody>\n",
       "    <tr>\n",
       "      <th>883</th>\n",
       "      <td>259.0</td>\n",
       "      <td>100.0</td>\n",
       "      <td>0</td>\n",
       "      <td>1</td>\n",
       "      <td>1</td>\n",
       "      <td>4</td>\n",
       "      <td>0</td>\n",
       "      <td>2.0</td>\n",
       "      <td>1.0</td>\n",
       "      <td>259.0</td>\n",
       "      <td>4.98</td>\n",
       "    </tr>\n",
       "  </tbody>\n",
       "</table>\n",
       "</div>"
      ],
      "text/plain": [
       "     Prediccion_host_response_rate  host_response_rate  host_is_superhost  \\\n",
       "883                          259.0               100.0                  0   \n",
       "\n",
       "     host_identity_verified  property_type  room_type  instant_bookable  \\\n",
       "883                       1              1          4                 0   \n",
       "\n",
       "     accommodates  bathrooms  price  review_scores_cleanliness  \n",
       "883           2.0        1.0  259.0                       4.98  "
      ]
     },
     "execution_count": 111,
     "metadata": {},
     "output_type": "execute_result"
    }
   ],
   "source": [
    "#insertamos la columna de predicciones en el DataFrame \n",
    "f2.insert(0, 'Prediccion_host_response_rate', y_pred)\n",
    "f2"
   ]
  },
  {
   "cell_type": "code",
   "execution_count": 112,
   "metadata": {},
   "outputs": [
    {
     "data": {
      "text/html": [
       "<div>\n",
       "<style scoped>\n",
       "    .dataframe tbody tr th:only-of-type {\n",
       "        vertical-align: middle;\n",
       "    }\n",
       "\n",
       "    .dataframe tbody tr th {\n",
       "        vertical-align: top;\n",
       "    }\n",
       "\n",
       "    .dataframe thead th {\n",
       "        text-align: right;\n",
       "    }\n",
       "</style>\n",
       "<table border=\"1\" class=\"dataframe\">\n",
       "  <thead>\n",
       "    <tr style=\"text-align: right;\">\n",
       "      <th></th>\n",
       "      <th>Prediccion_host_response_rate</th>\n",
       "      <th>Prediccion_host_is_superhost</th>\n",
       "      <th>host_response_rate</th>\n",
       "      <th>host_is_superhost</th>\n",
       "      <th>host_identity_verified</th>\n",
       "      <th>property_type</th>\n",
       "      <th>room_type</th>\n",
       "      <th>instant_bookable</th>\n",
       "      <th>accommodates</th>\n",
       "      <th>bathrooms</th>\n",
       "      <th>price</th>\n",
       "      <th>review_scores_cleanliness</th>\n",
       "    </tr>\n",
       "  </thead>\n",
       "  <tbody>\n",
       "    <tr>\n",
       "      <th>883</th>\n",
       "      <td>259.0</td>\n",
       "      <td>259.0</td>\n",
       "      <td>100.0</td>\n",
       "      <td>0</td>\n",
       "      <td>1</td>\n",
       "      <td>1</td>\n",
       "      <td>4</td>\n",
       "      <td>0</td>\n",
       "      <td>2.0</td>\n",
       "      <td>1.0</td>\n",
       "      <td>259.0</td>\n",
       "      <td>4.98</td>\n",
       "    </tr>\n",
       "  </tbody>\n",
       "</table>\n",
       "</div>"
      ],
      "text/plain": [
       "     Prediccion_host_response_rate  Prediccion_host_is_superhost  \\\n",
       "883                          259.0                         259.0   \n",
       "\n",
       "     host_response_rate  host_is_superhost  host_identity_verified  \\\n",
       "883               100.0                  0                       1   \n",
       "\n",
       "     property_type  room_type  instant_bookable  accommodates  bathrooms  \\\n",
       "883              1          4                 0           2.0        1.0   \n",
       "\n",
       "     price  review_scores_cleanliness  \n",
       "883  259.0                       4.98  "
      ]
     },
     "execution_count": 112,
     "metadata": {},
     "output_type": "execute_result"
    }
   ],
   "source": [
    "#insertamos la columna de predicciones en el DataFrame \n",
    "f2.insert(1, 'Prediccion_host_is_superhost', y_pred2)\n",
    "f2"
   ]
  },
  {
   "cell_type": "code",
   "execution_count": 113,
   "metadata": {},
   "outputs": [
    {
     "data": {
      "text/html": [
       "<div>\n",
       "<style scoped>\n",
       "    .dataframe tbody tr th:only-of-type {\n",
       "        vertical-align: middle;\n",
       "    }\n",
       "\n",
       "    .dataframe tbody tr th {\n",
       "        vertical-align: top;\n",
       "    }\n",
       "\n",
       "    .dataframe thead th {\n",
       "        text-align: right;\n",
       "    }\n",
       "</style>\n",
       "<table border=\"1\" class=\"dataframe\">\n",
       "  <thead>\n",
       "    <tr style=\"text-align: right;\">\n",
       "      <th></th>\n",
       "      <th>Prediccion_host_response_rate</th>\n",
       "      <th>Prediccion_host_is_superhost</th>\n",
       "      <th>Prediccion_room_type</th>\n",
       "      <th>host_response_rate</th>\n",
       "      <th>host_is_superhost</th>\n",
       "      <th>host_identity_verified</th>\n",
       "      <th>property_type</th>\n",
       "      <th>room_type</th>\n",
       "      <th>instant_bookable</th>\n",
       "      <th>accommodates</th>\n",
       "      <th>bathrooms</th>\n",
       "      <th>price</th>\n",
       "      <th>review_scores_cleanliness</th>\n",
       "    </tr>\n",
       "  </thead>\n",
       "  <tbody>\n",
       "    <tr>\n",
       "      <th>883</th>\n",
       "      <td>259.0</td>\n",
       "      <td>259.0</td>\n",
       "      <td>259.0</td>\n",
       "      <td>100.0</td>\n",
       "      <td>0</td>\n",
       "      <td>1</td>\n",
       "      <td>1</td>\n",
       "      <td>4</td>\n",
       "      <td>0</td>\n",
       "      <td>2.0</td>\n",
       "      <td>1.0</td>\n",
       "      <td>259.0</td>\n",
       "      <td>4.98</td>\n",
       "    </tr>\n",
       "  </tbody>\n",
       "</table>\n",
       "</div>"
      ],
      "text/plain": [
       "     Prediccion_host_response_rate  Prediccion_host_is_superhost  \\\n",
       "883                          259.0                         259.0   \n",
       "\n",
       "     Prediccion_room_type  host_response_rate  host_is_superhost  \\\n",
       "883                 259.0               100.0                  0   \n",
       "\n",
       "     host_identity_verified  property_type  room_type  instant_bookable  \\\n",
       "883                       1              1          4                 0   \n",
       "\n",
       "     accommodates  bathrooms  price  review_scores_cleanliness  \n",
       "883           2.0        1.0  259.0                       4.98  "
      ]
     },
     "execution_count": 113,
     "metadata": {},
     "output_type": "execute_result"
    }
   ],
   "source": [
    "#insertamos la columna de predicciones en el DataFrame \n",
    "f2.insert(2, 'Prediccion_room_type', y_pred3)\n",
    "f2"
   ]
  },
  {
   "cell_type": "code",
   "execution_count": 114,
   "metadata": {},
   "outputs": [
    {
     "data": {
      "text/html": [
       "<div>\n",
       "<style scoped>\n",
       "    .dataframe tbody tr th:only-of-type {\n",
       "        vertical-align: middle;\n",
       "    }\n",
       "\n",
       "    .dataframe tbody tr th {\n",
       "        vertical-align: top;\n",
       "    }\n",
       "\n",
       "    .dataframe thead th {\n",
       "        text-align: right;\n",
       "    }\n",
       "</style>\n",
       "<table border=\"1\" class=\"dataframe\">\n",
       "  <thead>\n",
       "    <tr style=\"text-align: right;\">\n",
       "      <th></th>\n",
       "      <th>Prediccion_host_response_rate</th>\n",
       "      <th>Prediccion_host_is_superhost</th>\n",
       "      <th>Prediccion_room_type</th>\n",
       "      <th>Prediccion_host_identity_verified</th>\n",
       "      <th>host_response_rate</th>\n",
       "      <th>host_is_superhost</th>\n",
       "      <th>host_identity_verified</th>\n",
       "      <th>property_type</th>\n",
       "      <th>room_type</th>\n",
       "      <th>instant_bookable</th>\n",
       "      <th>accommodates</th>\n",
       "      <th>bathrooms</th>\n",
       "      <th>price</th>\n",
       "      <th>review_scores_cleanliness</th>\n",
       "    </tr>\n",
       "  </thead>\n",
       "  <tbody>\n",
       "    <tr>\n",
       "      <th>883</th>\n",
       "      <td>259.0</td>\n",
       "      <td>259.0</td>\n",
       "      <td>259.0</td>\n",
       "      <td>259.0</td>\n",
       "      <td>100.0</td>\n",
       "      <td>0</td>\n",
       "      <td>1</td>\n",
       "      <td>1</td>\n",
       "      <td>4</td>\n",
       "      <td>0</td>\n",
       "      <td>2.0</td>\n",
       "      <td>1.0</td>\n",
       "      <td>259.0</td>\n",
       "      <td>4.98</td>\n",
       "    </tr>\n",
       "  </tbody>\n",
       "</table>\n",
       "</div>"
      ],
      "text/plain": [
       "     Prediccion_host_response_rate  Prediccion_host_is_superhost  \\\n",
       "883                          259.0                         259.0   \n",
       "\n",
       "     Prediccion_room_type  Prediccion_host_identity_verified  \\\n",
       "883                 259.0                              259.0   \n",
       "\n",
       "     host_response_rate  host_is_superhost  host_identity_verified  \\\n",
       "883               100.0                  0                       1   \n",
       "\n",
       "     property_type  room_type  instant_bookable  accommodates  bathrooms  \\\n",
       "883              1          4                 0           2.0        1.0   \n",
       "\n",
       "     price  review_scores_cleanliness  \n",
       "883  259.0                       4.98  "
      ]
     },
     "execution_count": 114,
     "metadata": {},
     "output_type": "execute_result"
    }
   ],
   "source": [
    "#insertamos la columna de predicciones en el DataFrame \n",
    "f2.insert(3, 'Prediccion_host_identity_verified', y_pred4)\n",
    "f2"
   ]
  },
  {
   "cell_type": "code",
   "execution_count": 115,
   "metadata": {},
   "outputs": [
    {
     "data": {
      "text/html": [
       "<div>\n",
       "<style scoped>\n",
       "    .dataframe tbody tr th:only-of-type {\n",
       "        vertical-align: middle;\n",
       "    }\n",
       "\n",
       "    .dataframe tbody tr th {\n",
       "        vertical-align: top;\n",
       "    }\n",
       "\n",
       "    .dataframe thead th {\n",
       "        text-align: right;\n",
       "    }\n",
       "</style>\n",
       "<table border=\"1\" class=\"dataframe\">\n",
       "  <thead>\n",
       "    <tr style=\"text-align: right;\">\n",
       "      <th></th>\n",
       "      <th>Prediccion_host_response_rate</th>\n",
       "      <th>Prediccion_host_is_superhost</th>\n",
       "      <th>Prediccion_room_type</th>\n",
       "      <th>Prediccion_host_identity_verified</th>\n",
       "      <th>Prediccion_property_type</th>\n",
       "      <th>host_response_rate</th>\n",
       "      <th>host_is_superhost</th>\n",
       "      <th>host_identity_verified</th>\n",
       "      <th>property_type</th>\n",
       "      <th>room_type</th>\n",
       "      <th>instant_bookable</th>\n",
       "      <th>accommodates</th>\n",
       "      <th>bathrooms</th>\n",
       "      <th>price</th>\n",
       "      <th>review_scores_cleanliness</th>\n",
       "    </tr>\n",
       "  </thead>\n",
       "  <tbody>\n",
       "    <tr>\n",
       "      <th>883</th>\n",
       "      <td>259.0</td>\n",
       "      <td>259.0</td>\n",
       "      <td>259.0</td>\n",
       "      <td>259.0</td>\n",
       "      <td>259.0</td>\n",
       "      <td>100.0</td>\n",
       "      <td>0</td>\n",
       "      <td>1</td>\n",
       "      <td>1</td>\n",
       "      <td>4</td>\n",
       "      <td>0</td>\n",
       "      <td>2.0</td>\n",
       "      <td>1.0</td>\n",
       "      <td>259.0</td>\n",
       "      <td>4.98</td>\n",
       "    </tr>\n",
       "  </tbody>\n",
       "</table>\n",
       "</div>"
      ],
      "text/plain": [
       "     Prediccion_host_response_rate  Prediccion_host_is_superhost  \\\n",
       "883                          259.0                         259.0   \n",
       "\n",
       "     Prediccion_room_type  Prediccion_host_identity_verified  \\\n",
       "883                 259.0                              259.0   \n",
       "\n",
       "     Prediccion_property_type  host_response_rate  host_is_superhost  \\\n",
       "883                     259.0               100.0                  0   \n",
       "\n",
       "     host_identity_verified  property_type  room_type  instant_bookable  \\\n",
       "883                       1              1          4                 0   \n",
       "\n",
       "     accommodates  bathrooms  price  review_scores_cleanliness  \n",
       "883           2.0        1.0  259.0                       4.98  "
      ]
     },
     "execution_count": 115,
     "metadata": {},
     "output_type": "execute_result"
    }
   ],
   "source": [
    "#insertamos la columna de predicciones en el DataFrame \n",
    "f2.insert(4, 'Prediccion_property_type', y_pred5)\n",
    "f2"
   ]
  },
  {
   "cell_type": "code",
   "execution_count": 116,
   "metadata": {},
   "outputs": [
    {
     "data": {
      "text/html": [
       "<div>\n",
       "<style scoped>\n",
       "    .dataframe tbody tr th:only-of-type {\n",
       "        vertical-align: middle;\n",
       "    }\n",
       "\n",
       "    .dataframe tbody tr th {\n",
       "        vertical-align: top;\n",
       "    }\n",
       "\n",
       "    .dataframe thead th {\n",
       "        text-align: right;\n",
       "    }\n",
       "</style>\n",
       "<table border=\"1\" class=\"dataframe\">\n",
       "  <thead>\n",
       "    <tr style=\"text-align: right;\">\n",
       "      <th></th>\n",
       "      <th>Prediccion_host_response_rate</th>\n",
       "      <th>Prediccion_host_is_superhost</th>\n",
       "      <th>Prediccion_room_type</th>\n",
       "      <th>Prediccion_host_identity_verified</th>\n",
       "      <th>Prediccion_property_type</th>\n",
       "      <th>Prediccion_instant_bookable</th>\n",
       "      <th>host_response_rate</th>\n",
       "      <th>host_is_superhost</th>\n",
       "      <th>host_identity_verified</th>\n",
       "      <th>property_type</th>\n",
       "      <th>room_type</th>\n",
       "      <th>instant_bookable</th>\n",
       "      <th>accommodates</th>\n",
       "      <th>bathrooms</th>\n",
       "      <th>price</th>\n",
       "      <th>review_scores_cleanliness</th>\n",
       "    </tr>\n",
       "  </thead>\n",
       "  <tbody>\n",
       "    <tr>\n",
       "      <th>883</th>\n",
       "      <td>259.0</td>\n",
       "      <td>259.0</td>\n",
       "      <td>259.0</td>\n",
       "      <td>259.0</td>\n",
       "      <td>259.0</td>\n",
       "      <td>259.0</td>\n",
       "      <td>100.0</td>\n",
       "      <td>0</td>\n",
       "      <td>1</td>\n",
       "      <td>1</td>\n",
       "      <td>4</td>\n",
       "      <td>0</td>\n",
       "      <td>2.0</td>\n",
       "      <td>1.0</td>\n",
       "      <td>259.0</td>\n",
       "      <td>4.98</td>\n",
       "    </tr>\n",
       "  </tbody>\n",
       "</table>\n",
       "</div>"
      ],
      "text/plain": [
       "     Prediccion_host_response_rate  Prediccion_host_is_superhost  \\\n",
       "883                          259.0                         259.0   \n",
       "\n",
       "     Prediccion_room_type  Prediccion_host_identity_verified  \\\n",
       "883                 259.0                              259.0   \n",
       "\n",
       "     Prediccion_property_type  Prediccion_instant_bookable  \\\n",
       "883                     259.0                        259.0   \n",
       "\n",
       "     host_response_rate  host_is_superhost  host_identity_verified  \\\n",
       "883               100.0                  0                       1   \n",
       "\n",
       "     property_type  room_type  instant_bookable  accommodates  bathrooms  \\\n",
       "883              1          4                 0           2.0        1.0   \n",
       "\n",
       "     price  review_scores_cleanliness  \n",
       "883  259.0                       4.98  "
      ]
     },
     "execution_count": 116,
     "metadata": {},
     "output_type": "execute_result"
    }
   ],
   "source": [
    "#insertamos la columna de predicciones en el DataFrame \n",
    "f2.insert(5, 'Prediccion_instant_bookable', y_pred6)\n",
    "f2"
   ]
  },
  {
   "cell_type": "code",
   "execution_count": 117,
   "metadata": {},
   "outputs": [
    {
     "data": {
      "text/html": [
       "<div>\n",
       "<style scoped>\n",
       "    .dataframe tbody tr th:only-of-type {\n",
       "        vertical-align: middle;\n",
       "    }\n",
       "\n",
       "    .dataframe tbody tr th {\n",
       "        vertical-align: top;\n",
       "    }\n",
       "\n",
       "    .dataframe thead th {\n",
       "        text-align: right;\n",
       "    }\n",
       "</style>\n",
       "<table border=\"1\" class=\"dataframe\">\n",
       "  <thead>\n",
       "    <tr style=\"text-align: right;\">\n",
       "      <th></th>\n",
       "      <th>Prediccion_host_response_rate</th>\n",
       "      <th>Prediccion_host_is_superhost</th>\n",
       "      <th>Prediccion_room_type</th>\n",
       "      <th>Prediccion_host_identity_verified</th>\n",
       "      <th>Prediccion_property_type</th>\n",
       "      <th>Prediccion_instant_bookable</th>\n",
       "      <th>Prediccion_review_scores_cleanliness</th>\n",
       "      <th>host_response_rate</th>\n",
       "      <th>host_is_superhost</th>\n",
       "      <th>host_identity_verified</th>\n",
       "      <th>property_type</th>\n",
       "      <th>room_type</th>\n",
       "      <th>instant_bookable</th>\n",
       "      <th>accommodates</th>\n",
       "      <th>bathrooms</th>\n",
       "      <th>price</th>\n",
       "      <th>review_scores_cleanliness</th>\n",
       "    </tr>\n",
       "  </thead>\n",
       "  <tbody>\n",
       "    <tr>\n",
       "      <th>883</th>\n",
       "      <td>259.0</td>\n",
       "      <td>259.0</td>\n",
       "      <td>259.0</td>\n",
       "      <td>259.0</td>\n",
       "      <td>259.0</td>\n",
       "      <td>259.0</td>\n",
       "      <td>259.0</td>\n",
       "      <td>100.0</td>\n",
       "      <td>0</td>\n",
       "      <td>1</td>\n",
       "      <td>1</td>\n",
       "      <td>4</td>\n",
       "      <td>0</td>\n",
       "      <td>2.0</td>\n",
       "      <td>1.0</td>\n",
       "      <td>259.0</td>\n",
       "      <td>4.98</td>\n",
       "    </tr>\n",
       "  </tbody>\n",
       "</table>\n",
       "</div>"
      ],
      "text/plain": [
       "     Prediccion_host_response_rate  Prediccion_host_is_superhost  \\\n",
       "883                          259.0                         259.0   \n",
       "\n",
       "     Prediccion_room_type  Prediccion_host_identity_verified  \\\n",
       "883                 259.0                              259.0   \n",
       "\n",
       "     Prediccion_property_type  Prediccion_instant_bookable  \\\n",
       "883                     259.0                        259.0   \n",
       "\n",
       "     Prediccion_review_scores_cleanliness  host_response_rate  \\\n",
       "883                                 259.0               100.0   \n",
       "\n",
       "     host_is_superhost  host_identity_verified  property_type  room_type  \\\n",
       "883                  0                       1              1          4   \n",
       "\n",
       "     instant_bookable  accommodates  bathrooms  price  \\\n",
       "883                 0           2.0        1.0  259.0   \n",
       "\n",
       "     review_scores_cleanliness  \n",
       "883                       4.98  "
      ]
     },
     "execution_count": 117,
     "metadata": {},
     "output_type": "execute_result"
    }
   ],
   "source": [
    "#insertamos la columna de predicciones en el DataFrame \n",
    "f2.insert(6, 'Prediccion_review_scores_cleanliness', y_pred7)\n",
    "f2"
   ]
  },
  {
   "cell_type": "code",
   "execution_count": 118,
   "metadata": {},
   "outputs": [
    {
     "data": {
      "text/html": [
       "<div>\n",
       "<style scoped>\n",
       "    .dataframe tbody tr th:only-of-type {\n",
       "        vertical-align: middle;\n",
       "    }\n",
       "\n",
       "    .dataframe tbody tr th {\n",
       "        vertical-align: top;\n",
       "    }\n",
       "\n",
       "    .dataframe thead th {\n",
       "        text-align: right;\n",
       "    }\n",
       "</style>\n",
       "<table border=\"1\" class=\"dataframe\">\n",
       "  <thead>\n",
       "    <tr style=\"text-align: right;\">\n",
       "      <th></th>\n",
       "      <th>Prediccion_host_response_rate</th>\n",
       "      <th>Prediccion_host_is_superhost</th>\n",
       "      <th>Prediccion_room_type</th>\n",
       "      <th>Prediccion_host_identity_verified</th>\n",
       "      <th>Prediccion_property_type</th>\n",
       "      <th>Prediccion_instant_bookable</th>\n",
       "      <th>Prediccion_review_scores_cleanliness</th>\n",
       "      <th>Prediccion_bathrooms</th>\n",
       "      <th>host_response_rate</th>\n",
       "      <th>host_is_superhost</th>\n",
       "      <th>host_identity_verified</th>\n",
       "      <th>property_type</th>\n",
       "      <th>room_type</th>\n",
       "      <th>instant_bookable</th>\n",
       "      <th>accommodates</th>\n",
       "      <th>bathrooms</th>\n",
       "      <th>price</th>\n",
       "      <th>review_scores_cleanliness</th>\n",
       "    </tr>\n",
       "  </thead>\n",
       "  <tbody>\n",
       "    <tr>\n",
       "      <th>883</th>\n",
       "      <td>259.0</td>\n",
       "      <td>259.0</td>\n",
       "      <td>259.0</td>\n",
       "      <td>259.0</td>\n",
       "      <td>259.0</td>\n",
       "      <td>259.0</td>\n",
       "      <td>259.0</td>\n",
       "      <td>2.0</td>\n",
       "      <td>100.0</td>\n",
       "      <td>0</td>\n",
       "      <td>1</td>\n",
       "      <td>1</td>\n",
       "      <td>4</td>\n",
       "      <td>0</td>\n",
       "      <td>2.0</td>\n",
       "      <td>1.0</td>\n",
       "      <td>259.0</td>\n",
       "      <td>4.98</td>\n",
       "    </tr>\n",
       "  </tbody>\n",
       "</table>\n",
       "</div>"
      ],
      "text/plain": [
       "     Prediccion_host_response_rate  Prediccion_host_is_superhost  \\\n",
       "883                          259.0                         259.0   \n",
       "\n",
       "     Prediccion_room_type  Prediccion_host_identity_verified  \\\n",
       "883                 259.0                              259.0   \n",
       "\n",
       "     Prediccion_property_type  Prediccion_instant_bookable  \\\n",
       "883                     259.0                        259.0   \n",
       "\n",
       "     Prediccion_review_scores_cleanliness  Prediccion_bathrooms  \\\n",
       "883                                 259.0                   2.0   \n",
       "\n",
       "     host_response_rate  host_is_superhost  host_identity_verified  \\\n",
       "883               100.0                  0                       1   \n",
       "\n",
       "     property_type  room_type  instant_bookable  accommodates  bathrooms  \\\n",
       "883              1          4                 0           2.0        1.0   \n",
       "\n",
       "     price  review_scores_cleanliness  \n",
       "883  259.0                       4.98  "
      ]
     },
     "execution_count": 118,
     "metadata": {},
     "output_type": "execute_result"
    }
   ],
   "source": [
    "#insertamos la columna de predicciones en el DataFrame \n",
    "f2.insert(7, 'Prediccion_bathrooms', y_pred8)\n",
    "f2"
   ]
  },
  {
   "cell_type": "markdown",
   "metadata": {},
   "source": [
    "**GRÁFICAS COMPARATIVAS**"
   ]
  },
  {
   "cell_type": "code",
   "execution_count": 119,
   "metadata": {},
   "outputs": [
    {
     "data": {
      "text/plain": [
       "<Axes: xlabel='host_response_rate', ylabel='price'>"
      ]
     },
     "execution_count": 119,
     "metadata": {},
     "output_type": "execute_result"
    },
    {
     "data": {
      "image/png": "[encoded data removed]",
      "text/plain": [
       "<Figure size 640x480 with 1 Axes>"
      ]
     },
     "metadata": {},
     "output_type": "display_data"
    }
   ],
   "source": [
    "#Visualizamos la gráfica comparativa entre el total real y el total predecido \n",
    "\n",
    "sns.scatterplot(x='host_response_rate', y='price', color='blue', data=f2)\n",
    "sns.scatterplot(x='host_response_rate', y='Prediccion_host_response_rate', color='red', data=f2)\n",
    "#sns.lineplot(x='host_response_rate', y='Predicciones1', color='red', data=f2)"
   ]
  },
  {
   "cell_type": "code",
   "execution_count": 120,
   "metadata": {},
   "outputs": [
    {
     "data": {
      "text/plain": [
       "<Axes: xlabel='host_is_superhost', ylabel='price'>"
      ]
     },
     "execution_count": 120,
     "metadata": {},
     "output_type": "execute_result"
    },
    {
     "data": {
      "image/png": "[encoded data removed]",
      "text/plain": [
       "<Figure size 640x480 with 1 Axes>"
      ]
     },
     "metadata": {},
     "output_type": "display_data"
    }
   ],
   "source": [
    "#Visualizamos la gráfica comparativa entre el total real y el total predecido \n",
    "\n",
    "sns.scatterplot(x='host_is_superhost', y='price', color='blue', data=f2)\n",
    "sns.scatterplot(x='host_is_superhost', y='Prediccion_host_is_superhost', color='red', data=f2)\n",
    "#sns.lineplot(x='host_is_superhost', y='Predicciones2', color='red', data=f2)"
   ]
  },
  {
   "cell_type": "code",
   "execution_count": 121,
   "metadata": {},
   "outputs": [
    {
     "data": {
      "text/plain": [
       "<Axes: xlabel='room_type', ylabel='price'>"
      ]
     },
     "execution_count": 121,
     "metadata": {},
     "output_type": "execute_result"
    },
    {
     "data": {
      "image/png": "[encoded data removed]",
      "text/plain": [
       "<Figure size 640x480 with 1 Axes>"
      ]
     },
     "metadata": {},
     "output_type": "display_data"
    }
   ],
   "source": [
    "#Visualizamos la gráfica comparativa entre el total real y el total predecido \n",
    "\n",
    "sns.scatterplot(x='room_type', y='price', color='blue', data=f2)\n",
    "sns.scatterplot(x='room_type', y='Prediccion_room_type', color='red', data=f2)\n",
    "#sns.lineplot(x='host_response_rate', y='Predicciones1', color='red', data=f2)"
   ]
  },
  {
   "cell_type": "code",
   "execution_count": 122,
   "metadata": {},
   "outputs": [
    {
     "data": {
      "text/plain": [
       "<Axes: xlabel='host_identity_verified', ylabel='price'>"
      ]
     },
     "execution_count": 122,
     "metadata": {},
     "output_type": "execute_result"
    },
    {
     "data": {
      "image/png": "[encoded data removed]",
      "text/plain": [
       "<Figure size 640x480 with 1 Axes>"
      ]
     },
     "metadata": {},
     "output_type": "display_data"
    }
   ],
   "source": [
    "#Visualizamos la gráfica comparativa entre el total real y el total predecido \n",
    "\n",
    "sns.scatterplot(x='host_identity_verified', y='price', color='blue', data=f2)\n",
    "sns.scatterplot(x='host_identity_verified', y='Prediccion_host_identity_verified', color='red', data=f2)\n",
    "#sns.lineplot(x='host_response_rate', y='Predicciones1', color='red', data=f2)"
   ]
  },
  {
   "cell_type": "code",
   "execution_count": 123,
   "metadata": {},
   "outputs": [
    {
     "data": {
      "text/plain": [
       "<Axes: xlabel='property_type', ylabel='price'>"
      ]
     },
     "execution_count": 123,
     "metadata": {},
     "output_type": "execute_result"
    },
    {
     "data": {
      "image/png": "[encoded data removed]",
      "text/plain": [
       "<Figure size 640x480 with 1 Axes>"
      ]
     },
     "metadata": {},
     "output_type": "display_data"
    }
   ],
   "source": [
    "#Visualizamos la gráfica comparativa entre el total real y el total predecido \n",
    "\n",
    "sns.scatterplot(x='property_type', y='price', color='blue', data=f2)\n",
    "sns.scatterplot(x='property_type', y='Prediccion_property_type', color='red', data=f2)\n",
    "#sns.lineplot(x='host_response_rate', y='Predicciones1', color='red', data=f2)"
   ]
  },
  {
   "cell_type": "code",
   "execution_count": 124,
   "metadata": {},
   "outputs": [
    {
     "data": {
      "text/plain": [
       "<Axes: xlabel='instant_bookable', ylabel='price'>"
      ]
     },
     "execution_count": 124,
     "metadata": {},
     "output_type": "execute_result"
    },
    {
     "data": {
      "image/png": "[encoded data removed]",
      "text/plain": [
       "<Figure size 640x480 with 1 Axes>"
      ]
     },
     "metadata": {},
     "output_type": "display_data"
    }
   ],
   "source": [
    "#Visualizamos la gráfica comparativa entre el total real y el total predecido \n",
    "\n",
    "sns.scatterplot(x='instant_bookable', y='price', color='blue', data=f2)\n",
    "sns.scatterplot(x='instant_bookable', y='Prediccion_instant_bookable', color='red', data=f2)\n",
    "#sns.lineplot(x='host_response_rate', y='Predicciones1', color='red', data=f2)"
   ]
  },
  {
   "cell_type": "code",
   "execution_count": 125,
   "metadata": {},
   "outputs": [
    {
     "data": {
      "text/plain": [
       "<Axes: xlabel='review_scores_cleanliness', ylabel='price'>"
      ]
     },
     "execution_count": 125,
     "metadata": {},
     "output_type": "execute_result"
    },
    {
     "data": {
      "image/png": "[encoded data removed]",
      "text/plain": [
       "<Figure size 640x480 with 1 Axes>"
      ]
     },
     "metadata": {},
     "output_type": "display_data"
    }
   ],
   "source": [
    "#Visualizamos la gráfica comparativa entre el total real y el total predecido \n",
    "\n",
    "sns.scatterplot(x='review_scores_cleanliness', y='price', color='blue', data=f2)\n",
    "sns.scatterplot(x='review_scores_cleanliness', y='Prediccion_review_scores_cleanliness', color='red', data=f2)\n",
    "#sns.lineplot(x='host_response_rate', y='Predicciones1', color='red', data=f2)"
   ]
  },
  {
   "cell_type": "code",
   "execution_count": 126,
   "metadata": {},
   "outputs": [
    {
     "data": {
      "text/plain": [
       "<Axes: xlabel='bathrooms', ylabel='accommodates'>"
      ]
     },
     "execution_count": 126,
     "metadata": {},
     "output_type": "execute_result"
    },
    {
     "data": {
      "image/png": "[encoded data removed]",
      "text/plain": [
       "<Figure size 640x480 with 1 Axes>"
      ]
     },
     "metadata": {},
     "output_type": "display_data"
    }
   ],
   "source": [
    "#Visualizamos la gráfica comparativa entre el total real y el total predecido \n",
    "\n",
    "sns.scatterplot(x='bathrooms', y='accommodates', color='blue', data=f2)\n",
    "sns.scatterplot(x='bathrooms', y='Prediccion_bathrooms', color='red', data=f2)\n",
    "#sns.lineplot(x='host_response_rate', y='Predicciones1', color='red', data=f2)"
   ]
  },
  {
   "cell_type": "markdown",
   "metadata": {},
   "source": [
    "**COEFICIENTES DE DETERMINACIÓN**"
   ]
  },
  {
   "cell_type": "code",
   "execution_count": 127,
   "metadata": {},
   "outputs": [
    {
     "name": "stderr",
     "output_type": "stream",
     "text": [
      "c:\\Users\\josse\\AppData\\Local\\Programs\\Python\\Python313\\Lib\\site-packages\\sklearn\\metrics\\_regression.py:1266: UndefinedMetricWarning: R^2 score is not well-defined with less than two samples.\n",
      "  warnings.warn(msg, UndefinedMetricWarning)\n"
     ]
    },
    {
     "data": {
      "text/plain": [
       "nan"
      ]
     },
     "execution_count": 127,
     "metadata": {},
     "output_type": "execute_result"
    }
   ],
   "source": [
    "#Corroboramos cual es el coeficiente de Determinación de nuestro modelo\n",
    "coef_Deter= model.score(X=Var_Indep, y=Var_Dep)\n",
    "coef_Deter"
   ]
  },
  {
   "cell_type": "code",
   "execution_count": 128,
   "metadata": {},
   "outputs": [
    {
     "name": "stderr",
     "output_type": "stream",
     "text": [
      "c:\\Users\\josse\\AppData\\Local\\Programs\\Python\\Python313\\Lib\\site-packages\\sklearn\\metrics\\_regression.py:1266: UndefinedMetricWarning: R^2 score is not well-defined with less than two samples.\n",
      "  warnings.warn(msg, UndefinedMetricWarning)\n"
     ]
    },
    {
     "data": {
      "text/plain": [
       "nan"
      ]
     },
     "execution_count": 128,
     "metadata": {},
     "output_type": "execute_result"
    }
   ],
   "source": [
    "#Corroboramos cual es el coeficiente de Determinación de nuestro modelo\n",
    "coef_Deter2= model2.score(X=Var_Indep2, y=Var_Dep)\n",
    "coef_Deter2"
   ]
  },
  {
   "cell_type": "code",
   "execution_count": 129,
   "metadata": {},
   "outputs": [
    {
     "name": "stderr",
     "output_type": "stream",
     "text": [
      "c:\\Users\\josse\\AppData\\Local\\Programs\\Python\\Python313\\Lib\\site-packages\\sklearn\\metrics\\_regression.py:1266: UndefinedMetricWarning: R^2 score is not well-defined with less than two samples.\n",
      "  warnings.warn(msg, UndefinedMetricWarning)\n"
     ]
    },
    {
     "data": {
      "text/plain": [
       "nan"
      ]
     },
     "execution_count": 129,
     "metadata": {},
     "output_type": "execute_result"
    }
   ],
   "source": [
    "#Corroboramos cual es el coeficiente de Determinación de nuestro modelo\n",
    "coef_Deter3= model3.score(X=Var_Indep3, y=Var_Dep)\n",
    "coef_Deter3"
   ]
  },
  {
   "cell_type": "code",
   "execution_count": 130,
   "metadata": {},
   "outputs": [
    {
     "name": "stderr",
     "output_type": "stream",
     "text": [
      "c:\\Users\\josse\\AppData\\Local\\Programs\\Python\\Python313\\Lib\\site-packages\\sklearn\\metrics\\_regression.py:1266: UndefinedMetricWarning: R^2 score is not well-defined with less than two samples.\n",
      "  warnings.warn(msg, UndefinedMetricWarning)\n"
     ]
    },
    {
     "data": {
      "text/plain": [
       "nan"
      ]
     },
     "execution_count": 130,
     "metadata": {},
     "output_type": "execute_result"
    }
   ],
   "source": [
    "#Corroboramos cual es el coeficiente de Determinación de nuestro modelo\n",
    "coef_Deter4= model4.score(X=Var_Indep4, y=Var_Dep)\n",
    "coef_Deter4"
   ]
  },
  {
   "cell_type": "code",
   "execution_count": 131,
   "metadata": {},
   "outputs": [
    {
     "name": "stderr",
     "output_type": "stream",
     "text": [
      "c:\\Users\\josse\\AppData\\Local\\Programs\\Python\\Python313\\Lib\\site-packages\\sklearn\\metrics\\_regression.py:1266: UndefinedMetricWarning: R^2 score is not well-defined with less than two samples.\n",
      "  warnings.warn(msg, UndefinedMetricWarning)\n"
     ]
    },
    {
     "data": {
      "text/plain": [
       "nan"
      ]
     },
     "execution_count": 131,
     "metadata": {},
     "output_type": "execute_result"
    }
   ],
   "source": [
    "#Corroboramos cual es el coeficiente de Determinación de nuestro modelo\n",
    "coef_Deter5= model5.score(X=Var_Indep5, y=Var_Dep)\n",
    "coef_Deter5"
   ]
  },
  {
   "cell_type": "code",
   "execution_count": 132,
   "metadata": {},
   "outputs": [
    {
     "name": "stderr",
     "output_type": "stream",
     "text": [
      "c:\\Users\\josse\\AppData\\Local\\Programs\\Python\\Python313\\Lib\\site-packages\\sklearn\\metrics\\_regression.py:1266: UndefinedMetricWarning: R^2 score is not well-defined with less than two samples.\n",
      "  warnings.warn(msg, UndefinedMetricWarning)\n"
     ]
    },
    {
     "data": {
      "text/plain": [
       "nan"
      ]
     },
     "execution_count": 132,
     "metadata": {},
     "output_type": "execute_result"
    }
   ],
   "source": [
    "#Corroboramos cual es el coeficiente de Determinación de nuestro modelo\n",
    "coef_Deter6= model6.score(X=Var_Indep6, y=Var_Dep)\n",
    "coef_Deter6"
   ]
  },
  {
   "cell_type": "code",
   "execution_count": 133,
   "metadata": {},
   "outputs": [
    {
     "name": "stderr",
     "output_type": "stream",
     "text": [
      "c:\\Users\\josse\\AppData\\Local\\Programs\\Python\\Python313\\Lib\\site-packages\\sklearn\\metrics\\_regression.py:1266: UndefinedMetricWarning: R^2 score is not well-defined with less than two samples.\n",
      "  warnings.warn(msg, UndefinedMetricWarning)\n"
     ]
    },
    {
     "data": {
      "text/plain": [
       "nan"
      ]
     },
     "execution_count": 133,
     "metadata": {},
     "output_type": "execute_result"
    }
   ],
   "source": [
    "#Corroboramos cual es el coeficiente de Determinación de nuestro modelo\n",
    "coef_Deter7= model7.score(X=Var_Indep7, y=Var_Dep)\n",
    "coef_Deter7"
   ]
  },
  {
   "cell_type": "code",
   "execution_count": 134,
   "metadata": {},
   "outputs": [
    {
     "name": "stderr",
     "output_type": "stream",
     "text": [
      "c:\\Users\\josse\\AppData\\Local\\Programs\\Python\\Python313\\Lib\\site-packages\\sklearn\\metrics\\_regression.py:1266: UndefinedMetricWarning: R^2 score is not well-defined with less than two samples.\n",
      "  warnings.warn(msg, UndefinedMetricWarning)\n"
     ]
    },
    {
     "data": {
      "text/plain": [
       "nan"
      ]
     },
     "execution_count": 134,
     "metadata": {},
     "output_type": "execute_result"
    }
   ],
   "source": [
    "#Corroboramos cual es el coeficiente de Determinación de nuestro modelo\n",
    "coef_Deter8= model8.score(X=Var_Indep8, y=Var_Dep2)\n",
    "coef_Deter8"
   ]
  },
  {
   "cell_type": "markdown",
   "metadata": {},
   "source": [
    "**COEFICIENTES DE CORRELACIÓN**"
   ]
  },
  {
   "cell_type": "code",
   "execution_count": 135,
   "metadata": {},
   "outputs": [
    {
     "data": {
      "text/plain": [
       "np.float64(nan)"
      ]
     },
     "execution_count": 135,
     "metadata": {},
     "output_type": "execute_result"
    }
   ],
   "source": [
    "#Corroboramos cual es el coeficiente de Correlación de nuestro modelo\n",
    "coef_Correl=np.sqrt(coef_Deter)\n",
    "coef_Correl"
   ]
  },
  {
   "cell_type": "code",
   "execution_count": 136,
   "metadata": {},
   "outputs": [
    {
     "data": {
      "text/plain": [
       "np.float64(nan)"
      ]
     },
     "execution_count": 136,
     "metadata": {},
     "output_type": "execute_result"
    }
   ],
   "source": [
    "#Corroboramos cual es el coeficiente de Correlación de nuestro modelo\n",
    "coef_Correl2=np.sqrt(coef_Deter2)\n",
    "coef_Correl2"
   ]
  },
  {
   "cell_type": "code",
   "execution_count": 137,
   "metadata": {},
   "outputs": [
    {
     "data": {
      "text/plain": [
       "np.float64(nan)"
      ]
     },
     "execution_count": 137,
     "metadata": {},
     "output_type": "execute_result"
    }
   ],
   "source": [
    "#Corroboramos cual es el coeficiente de Correlación de nuestro modelo\n",
    "coef_Correl3=np.sqrt(coef_Deter2)\n",
    "coef_Correl3"
   ]
  },
  {
   "cell_type": "code",
   "execution_count": 138,
   "metadata": {},
   "outputs": [
    {
     "data": {
      "text/plain": [
       "np.float64(nan)"
      ]
     },
     "execution_count": 138,
     "metadata": {},
     "output_type": "execute_result"
    }
   ],
   "source": [
    "#Corroboramos cual es el coeficiente de Correlación de nuestro modelo\n",
    "coef_Correl4=np.sqrt(coef_Deter4)\n",
    "coef_Correl4"
   ]
  },
  {
   "cell_type": "code",
   "execution_count": 139,
   "metadata": {},
   "outputs": [
    {
     "data": {
      "text/plain": [
       "np.float64(nan)"
      ]
     },
     "execution_count": 139,
     "metadata": {},
     "output_type": "execute_result"
    }
   ],
   "source": [
    "#Corroboramos cual es el coeficiente de Correlación de nuestro modelo\n",
    "coef_Correl5=np.sqrt(coef_Deter5)\n",
    "coef_Correl5"
   ]
  },
  {
   "cell_type": "code",
   "execution_count": 140,
   "metadata": {},
   "outputs": [
    {
     "data": {
      "text/plain": [
       "np.float64(nan)"
      ]
     },
     "execution_count": 140,
     "metadata": {},
     "output_type": "execute_result"
    }
   ],
   "source": [
    "#Corroboramos cual es el coeficiente de Correlación de nuestro modelo\n",
    "coef_Correl6=np.sqrt(coef_Deter6)\n",
    "coef_Correl6"
   ]
  },
  {
   "cell_type": "code",
   "execution_count": 141,
   "metadata": {},
   "outputs": [
    {
     "data": {
      "text/plain": [
       "np.float64(nan)"
      ]
     },
     "execution_count": 141,
     "metadata": {},
     "output_type": "execute_result"
    }
   ],
   "source": [
    "#Corroboramos cual es el coeficiente de Correlación de nuestro modelo\n",
    "coef_Correl7=np.sqrt(coef_Deter7)\n",
    "coef_Correl7"
   ]
  },
  {
   "cell_type": "code",
   "execution_count": 142,
   "metadata": {},
   "outputs": [
    {
     "data": {
      "text/plain": [
       "np.float64(nan)"
      ]
     },
     "execution_count": 142,
     "metadata": {},
     "output_type": "execute_result"
    }
   ],
   "source": [
    "#Corroboramos cual es el coeficiente de Correlación de nuestro modelo\n",
    "coef_Correl8=np.sqrt(coef_Deter8)\n",
    "coef_Correl8"
   ]
  },
  {
   "cell_type": "code",
   "execution_count": 143,
   "metadata": {},
   "outputs": [],
   "source": [
    "#eliminamos room_type y su prediccion \n",
    "\n",
    "f2= f2.drop(['room_type', 'Prediccion_room_type' ], axis=1)"
   ]
  },
  {
   "cell_type": "code",
   "execution_count": 144,
   "metadata": {},
   "outputs": [
    {
     "data": {
      "text/plain": [
       "<seaborn.axisgrid.PairGrid at 0x263290a5e50>"
      ]
     },
     "execution_count": 144,
     "metadata": {},
     "output_type": "execute_result"
    },
    {
     "data": {
      "image/png": "[encoded data removed]",
      "text/plain": [
       "<Figure size 4000x4000 with 272 Axes>"
      ]
     },
     "metadata": {},
     "output_type": "display_data"
    }
   ],
   "source": [
    "#Graficamos todas las dispersiones entre todas las variables\n",
    "sns.pairplot(f2)"
   ]
  },
  {
   "cell_type": "code",
   "execution_count": 145,
   "metadata": {},
   "outputs": [
    {
     "data": {
      "text/plain": [
       "host_response_rate\n",
       "100.0    1\n",
       "Name: host_response_rate, dtype: int64"
      ]
     },
     "execution_count": 145,
     "metadata": {},
     "output_type": "execute_result"
    }
   ],
   "source": [
    "#Analizar categorias de una columna\n",
    "df6 = f2.groupby(['host_response_rate'])['host_response_rate'].count()\n",
    "df6"
   ]
  },
  {
   "cell_type": "code",
   "execution_count": 146,
   "metadata": {},
   "outputs": [
    {
     "data": {
      "text/html": [
       "<div>\n",
       "<style scoped>\n",
       "    .dataframe tbody tr th:only-of-type {\n",
       "        vertical-align: middle;\n",
       "    }\n",
       "\n",
       "    .dataframe tbody tr th {\n",
       "        vertical-align: top;\n",
       "    }\n",
       "\n",
       "    .dataframe thead th {\n",
       "        text-align: right;\n",
       "    }\n",
       "</style>\n",
       "<table border=\"1\" class=\"dataframe\">\n",
       "  <thead>\n",
       "    <tr style=\"text-align: right;\">\n",
       "      <th></th>\n",
       "      <th>Prediccion_host_response_rate</th>\n",
       "      <th>Prediccion_host_is_superhost</th>\n",
       "      <th>Prediccion_host_identity_verified</th>\n",
       "      <th>Prediccion_property_type</th>\n",
       "      <th>Prediccion_instant_bookable</th>\n",
       "      <th>Prediccion_review_scores_cleanliness</th>\n",
       "      <th>Prediccion_bathrooms</th>\n",
       "      <th>host_response_rate</th>\n",
       "      <th>host_is_superhost</th>\n",
       "      <th>host_identity_verified</th>\n",
       "      <th>property_type</th>\n",
       "      <th>instant_bookable</th>\n",
       "      <th>accommodates</th>\n",
       "      <th>bathrooms</th>\n",
       "      <th>price</th>\n",
       "      <th>review_scores_cleanliness</th>\n",
       "    </tr>\n",
       "  </thead>\n",
       "  <tbody>\n",
       "    <tr>\n",
       "      <th>Prediccion_host_response_rate</th>\n",
       "      <td>NaN</td>\n",
       "      <td>NaN</td>\n",
       "      <td>NaN</td>\n",
       "      <td>NaN</td>\n",
       "      <td>NaN</td>\n",
       "      <td>NaN</td>\n",
       "      <td>NaN</td>\n",
       "      <td>NaN</td>\n",
       "      <td>NaN</td>\n",
       "      <td>NaN</td>\n",
       "      <td>NaN</td>\n",
       "      <td>NaN</td>\n",
       "      <td>NaN</td>\n",
       "      <td>NaN</td>\n",
       "      <td>NaN</td>\n",
       "      <td>NaN</td>\n",
       "    </tr>\n",
       "    <tr>\n",
       "      <th>Prediccion_host_is_superhost</th>\n",
       "      <td>NaN</td>\n",
       "      <td>NaN</td>\n",
       "      <td>NaN</td>\n",
       "      <td>NaN</td>\n",
       "      <td>NaN</td>\n",
       "      <td>NaN</td>\n",
       "      <td>NaN</td>\n",
       "      <td>NaN</td>\n",
       "      <td>NaN</td>\n",
       "      <td>NaN</td>\n",
       "      <td>NaN</td>\n",
       "      <td>NaN</td>\n",
       "      <td>NaN</td>\n",
       "      <td>NaN</td>\n",
       "      <td>NaN</td>\n",
       "      <td>NaN</td>\n",
       "    </tr>\n",
       "    <tr>\n",
       "      <th>Prediccion_host_identity_verified</th>\n",
       "      <td>NaN</td>\n",
       "      <td>NaN</td>\n",
       "      <td>NaN</td>\n",
       "      <td>NaN</td>\n",
       "      <td>NaN</td>\n",
       "      <td>NaN</td>\n",
       "      <td>NaN</td>\n",
       "      <td>NaN</td>\n",
       "      <td>NaN</td>\n",
       "      <td>NaN</td>\n",
       "      <td>NaN</td>\n",
       "      <td>NaN</td>\n",
       "      <td>NaN</td>\n",
       "      <td>NaN</td>\n",
       "      <td>NaN</td>\n",
       "      <td>NaN</td>\n",
       "    </tr>\n",
       "    <tr>\n",
       "      <th>Prediccion_property_type</th>\n",
       "      <td>NaN</td>\n",
       "      <td>NaN</td>\n",
       "      <td>NaN</td>\n",
       "      <td>NaN</td>\n",
       "      <td>NaN</td>\n",
       "      <td>NaN</td>\n",
       "      <td>NaN</td>\n",
       "      <td>NaN</td>\n",
       "      <td>NaN</td>\n",
       "      <td>NaN</td>\n",
       "      <td>NaN</td>\n",
       "      <td>NaN</td>\n",
       "      <td>NaN</td>\n",
       "      <td>NaN</td>\n",
       "      <td>NaN</td>\n",
       "      <td>NaN</td>\n",
       "    </tr>\n",
       "    <tr>\n",
       "      <th>Prediccion_instant_bookable</th>\n",
       "      <td>NaN</td>\n",
       "      <td>NaN</td>\n",
       "      <td>NaN</td>\n",
       "      <td>NaN</td>\n",
       "      <td>NaN</td>\n",
       "      <td>NaN</td>\n",
       "      <td>NaN</td>\n",
       "      <td>NaN</td>\n",
       "      <td>NaN</td>\n",
       "      <td>NaN</td>\n",
       "      <td>NaN</td>\n",
       "      <td>NaN</td>\n",
       "      <td>NaN</td>\n",
       "      <td>NaN</td>\n",
       "      <td>NaN</td>\n",
       "      <td>NaN</td>\n",
       "    </tr>\n",
       "    <tr>\n",
       "      <th>Prediccion_review_scores_cleanliness</th>\n",
       "      <td>NaN</td>\n",
       "      <td>NaN</td>\n",
       "      <td>NaN</td>\n",
       "      <td>NaN</td>\n",
       "      <td>NaN</td>\n",
       "      <td>NaN</td>\n",
       "      <td>NaN</td>\n",
       "      <td>NaN</td>\n",
       "      <td>NaN</td>\n",
       "      <td>NaN</td>\n",
       "      <td>NaN</td>\n",
       "      <td>NaN</td>\n",
       "      <td>NaN</td>\n",
       "      <td>NaN</td>\n",
       "      <td>NaN</td>\n",
       "      <td>NaN</td>\n",
       "    </tr>\n",
       "    <tr>\n",
       "      <th>Prediccion_bathrooms</th>\n",
       "      <td>NaN</td>\n",
       "      <td>NaN</td>\n",
       "      <td>NaN</td>\n",
       "      <td>NaN</td>\n",
       "      <td>NaN</td>\n",
       "      <td>NaN</td>\n",
       "      <td>NaN</td>\n",
       "      <td>NaN</td>\n",
       "      <td>NaN</td>\n",
       "      <td>NaN</td>\n",
       "      <td>NaN</td>\n",
       "      <td>NaN</td>\n",
       "      <td>NaN</td>\n",
       "      <td>NaN</td>\n",
       "      <td>NaN</td>\n",
       "      <td>NaN</td>\n",
       "    </tr>\n",
       "    <tr>\n",
       "      <th>host_response_rate</th>\n",
       "      <td>NaN</td>\n",
       "      <td>NaN</td>\n",
       "      <td>NaN</td>\n",
       "      <td>NaN</td>\n",
       "      <td>NaN</td>\n",
       "      <td>NaN</td>\n",
       "      <td>NaN</td>\n",
       "      <td>NaN</td>\n",
       "      <td>NaN</td>\n",
       "      <td>NaN</td>\n",
       "      <td>NaN</td>\n",
       "      <td>NaN</td>\n",
       "      <td>NaN</td>\n",
       "      <td>NaN</td>\n",
       "      <td>NaN</td>\n",
       "      <td>NaN</td>\n",
       "    </tr>\n",
       "    <tr>\n",
       "      <th>host_is_superhost</th>\n",
       "      <td>NaN</td>\n",
       "      <td>NaN</td>\n",
       "      <td>NaN</td>\n",
       "      <td>NaN</td>\n",
       "      <td>NaN</td>\n",
       "      <td>NaN</td>\n",
       "      <td>NaN</td>\n",
       "      <td>NaN</td>\n",
       "      <td>NaN</td>\n",
       "      <td>NaN</td>\n",
       "      <td>NaN</td>\n",
       "      <td>NaN</td>\n",
       "      <td>NaN</td>\n",
       "      <td>NaN</td>\n",
       "      <td>NaN</td>\n",
       "      <td>NaN</td>\n",
       "    </tr>\n",
       "    <tr>\n",
       "      <th>host_identity_verified</th>\n",
       "      <td>NaN</td>\n",
       "      <td>NaN</td>\n",
       "      <td>NaN</td>\n",
       "      <td>NaN</td>\n",
       "      <td>NaN</td>\n",
       "      <td>NaN</td>\n",
       "      <td>NaN</td>\n",
       "      <td>NaN</td>\n",
       "      <td>NaN</td>\n",
       "      <td>NaN</td>\n",
       "      <td>NaN</td>\n",
       "      <td>NaN</td>\n",
       "      <td>NaN</td>\n",
       "      <td>NaN</td>\n",
       "      <td>NaN</td>\n",
       "      <td>NaN</td>\n",
       "    </tr>\n",
       "    <tr>\n",
       "      <th>property_type</th>\n",
       "      <td>NaN</td>\n",
       "      <td>NaN</td>\n",
       "      <td>NaN</td>\n",
       "      <td>NaN</td>\n",
       "      <td>NaN</td>\n",
       "      <td>NaN</td>\n",
       "      <td>NaN</td>\n",
       "      <td>NaN</td>\n",
       "      <td>NaN</td>\n",
       "      <td>NaN</td>\n",
       "      <td>NaN</td>\n",
       "      <td>NaN</td>\n",
       "      <td>NaN</td>\n",
       "      <td>NaN</td>\n",
       "      <td>NaN</td>\n",
       "      <td>NaN</td>\n",
       "    </tr>\n",
       "    <tr>\n",
       "      <th>instant_bookable</th>\n",
       "      <td>NaN</td>\n",
       "      <td>NaN</td>\n",
       "      <td>NaN</td>\n",
       "      <td>NaN</td>\n",
       "      <td>NaN</td>\n",
       "      <td>NaN</td>\n",
       "      <td>NaN</td>\n",
       "      <td>NaN</td>\n",
       "      <td>NaN</td>\n",
       "      <td>NaN</td>\n",
       "      <td>NaN</td>\n",
       "      <td>NaN</td>\n",
       "      <td>NaN</td>\n",
       "      <td>NaN</td>\n",
       "      <td>NaN</td>\n",
       "      <td>NaN</td>\n",
       "    </tr>\n",
       "    <tr>\n",
       "      <th>accommodates</th>\n",
       "      <td>NaN</td>\n",
       "      <td>NaN</td>\n",
       "      <td>NaN</td>\n",
       "      <td>NaN</td>\n",
       "      <td>NaN</td>\n",
       "      <td>NaN</td>\n",
       "      <td>NaN</td>\n",
       "      <td>NaN</td>\n",
       "      <td>NaN</td>\n",
       "      <td>NaN</td>\n",
       "      <td>NaN</td>\n",
       "      <td>NaN</td>\n",
       "      <td>NaN</td>\n",
       "      <td>NaN</td>\n",
       "      <td>NaN</td>\n",
       "      <td>NaN</td>\n",
       "    </tr>\n",
       "    <tr>\n",
       "      <th>bathrooms</th>\n",
       "      <td>NaN</td>\n",
       "      <td>NaN</td>\n",
       "      <td>NaN</td>\n",
       "      <td>NaN</td>\n",
       "      <td>NaN</td>\n",
       "      <td>NaN</td>\n",
       "      <td>NaN</td>\n",
       "      <td>NaN</td>\n",
       "      <td>NaN</td>\n",
       "      <td>NaN</td>\n",
       "      <td>NaN</td>\n",
       "      <td>NaN</td>\n",
       "      <td>NaN</td>\n",
       "      <td>NaN</td>\n",
       "      <td>NaN</td>\n",
       "      <td>NaN</td>\n",
       "    </tr>\n",
       "    <tr>\n",
       "      <th>price</th>\n",
       "      <td>NaN</td>\n",
       "      <td>NaN</td>\n",
       "      <td>NaN</td>\n",
       "      <td>NaN</td>\n",
       "      <td>NaN</td>\n",
       "      <td>NaN</td>\n",
       "      <td>NaN</td>\n",
       "      <td>NaN</td>\n",
       "      <td>NaN</td>\n",
       "      <td>NaN</td>\n",
       "      <td>NaN</td>\n",
       "      <td>NaN</td>\n",
       "      <td>NaN</td>\n",
       "      <td>NaN</td>\n",
       "      <td>NaN</td>\n",
       "      <td>NaN</td>\n",
       "    </tr>\n",
       "    <tr>\n",
       "      <th>review_scores_cleanliness</th>\n",
       "      <td>NaN</td>\n",
       "      <td>NaN</td>\n",
       "      <td>NaN</td>\n",
       "      <td>NaN</td>\n",
       "      <td>NaN</td>\n",
       "      <td>NaN</td>\n",
       "      <td>NaN</td>\n",
       "      <td>NaN</td>\n",
       "      <td>NaN</td>\n",
       "      <td>NaN</td>\n",
       "      <td>NaN</td>\n",
       "      <td>NaN</td>\n",
       "      <td>NaN</td>\n",
       "      <td>NaN</td>\n",
       "      <td>NaN</td>\n",
       "      <td>NaN</td>\n",
       "    </tr>\n",
       "  </tbody>\n",
       "</table>\n",
       "</div>"
      ],
      "text/plain": [
       "                                      Prediccion_host_response_rate  \\\n",
       "Prediccion_host_response_rate                                   NaN   \n",
       "Prediccion_host_is_superhost                                    NaN   \n",
       "Prediccion_host_identity_verified                               NaN   \n",
       "Prediccion_property_type                                        NaN   \n",
       "Prediccion_instant_bookable                                     NaN   \n",
       "Prediccion_review_scores_cleanliness                            NaN   \n",
       "Prediccion_bathrooms                                            NaN   \n",
       "host_response_rate                                              NaN   \n",
       "host_is_superhost                                               NaN   \n",
       "host_identity_verified                                          NaN   \n",
       "property_type                                                   NaN   \n",
       "instant_bookable                                                NaN   \n",
       "accommodates                                                    NaN   \n",
       "bathrooms                                                       NaN   \n",
       "price                                                           NaN   \n",
       "review_scores_cleanliness                                       NaN   \n",
       "\n",
       "                                      Prediccion_host_is_superhost  \\\n",
       "Prediccion_host_response_rate                                  NaN   \n",
       "Prediccion_host_is_superhost                                   NaN   \n",
       "Prediccion_host_identity_verified                              NaN   \n",
       "Prediccion_property_type                                       NaN   \n",
       "Prediccion_instant_bookable                                    NaN   \n",
       "Prediccion_review_scores_cleanliness                           NaN   \n",
       "Prediccion_bathrooms                                           NaN   \n",
       "host_response_rate                                             NaN   \n",
       "host_is_superhost                                              NaN   \n",
       "host_identity_verified                                         NaN   \n",
       "property_type                                                  NaN   \n",
       "instant_bookable                                               NaN   \n",
       "accommodates                                                   NaN   \n",
       "bathrooms                                                      NaN   \n",
       "price                                                          NaN   \n",
       "review_scores_cleanliness                                      NaN   \n",
       "\n",
       "                                      Prediccion_host_identity_verified  \\\n",
       "Prediccion_host_response_rate                                       NaN   \n",
       "Prediccion_host_is_superhost                                        NaN   \n",
       "Prediccion_host_identity_verified                                   NaN   \n",
       "Prediccion_property_type                                            NaN   \n",
       "Prediccion_instant_bookable                                         NaN   \n",
       "Prediccion_review_scores_cleanliness                                NaN   \n",
       "Prediccion_bathrooms                                                NaN   \n",
       "host_response_rate                                                  NaN   \n",
       "host_is_superhost                                                   NaN   \n",
       "host_identity_verified                                              NaN   \n",
       "property_type                                                       NaN   \n",
       "instant_bookable                                                    NaN   \n",
       "accommodates                                                        NaN   \n",
       "bathrooms                                                           NaN   \n",
       "price                                                               NaN   \n",
       "review_scores_cleanliness                                           NaN   \n",
       "\n",
       "                                      Prediccion_property_type  \\\n",
       "Prediccion_host_response_rate                              NaN   \n",
       "Prediccion_host_is_superhost                               NaN   \n",
       "Prediccion_host_identity_verified                          NaN   \n",
       "Prediccion_property_type                                   NaN   \n",
       "Prediccion_instant_bookable                                NaN   \n",
       "Prediccion_review_scores_cleanliness                       NaN   \n",
       "Prediccion_bathrooms                                       NaN   \n",
       "host_response_rate                                         NaN   \n",
       "host_is_superhost                                          NaN   \n",
       "host_identity_verified                                     NaN   \n",
       "property_type                                              NaN   \n",
       "instant_bookable                                           NaN   \n",
       "accommodates                                               NaN   \n",
       "bathrooms                                                  NaN   \n",
       "price                                                      NaN   \n",
       "review_scores_cleanliness                                  NaN   \n",
       "\n",
       "                                      Prediccion_instant_bookable  \\\n",
       "Prediccion_host_response_rate                                 NaN   \n",
       "Prediccion_host_is_superhost                                  NaN   \n",
       "Prediccion_host_identity_verified                             NaN   \n",
       "Prediccion_property_type                                      NaN   \n",
       "Prediccion_instant_bookable                                   NaN   \n",
       "Prediccion_review_scores_cleanliness                          NaN   \n",
       "Prediccion_bathrooms                                          NaN   \n",
       "host_response_rate                                            NaN   \n",
       "host_is_superhost                                             NaN   \n",
       "host_identity_verified                                        NaN   \n",
       "property_type                                                 NaN   \n",
       "instant_bookable                                              NaN   \n",
       "accommodates                                                  NaN   \n",
       "bathrooms                                                     NaN   \n",
       "price                                                         NaN   \n",
       "review_scores_cleanliness                                     NaN   \n",
       "\n",
       "                                      Prediccion_review_scores_cleanliness  \\\n",
       "Prediccion_host_response_rate                                          NaN   \n",
       "Prediccion_host_is_superhost                                           NaN   \n",
       "Prediccion_host_identity_verified                                      NaN   \n",
       "Prediccion_property_type                                               NaN   \n",
       "Prediccion_instant_bookable                                            NaN   \n",
       "Prediccion_review_scores_cleanliness                                   NaN   \n",
       "Prediccion_bathrooms                                                   NaN   \n",
       "host_response_rate                                                     NaN   \n",
       "host_is_superhost                                                      NaN   \n",
       "host_identity_verified                                                 NaN   \n",
       "property_type                                                          NaN   \n",
       "instant_bookable                                                       NaN   \n",
       "accommodates                                                           NaN   \n",
       "bathrooms                                                              NaN   \n",
       "price                                                                  NaN   \n",
       "review_scores_cleanliness                                              NaN   \n",
       "\n",
       "                                      Prediccion_bathrooms  \\\n",
       "Prediccion_host_response_rate                          NaN   \n",
       "Prediccion_host_is_superhost                           NaN   \n",
       "Prediccion_host_identity_verified                      NaN   \n",
       "Prediccion_property_type                               NaN   \n",
       "Prediccion_instant_bookable                            NaN   \n",
       "Prediccion_review_scores_cleanliness                   NaN   \n",
       "Prediccion_bathrooms                                   NaN   \n",
       "host_response_rate                                     NaN   \n",
       "host_is_superhost                                      NaN   \n",
       "host_identity_verified                                 NaN   \n",
       "property_type                                          NaN   \n",
       "instant_bookable                                       NaN   \n",
       "accommodates                                           NaN   \n",
       "bathrooms                                              NaN   \n",
       "price                                                  NaN   \n",
       "review_scores_cleanliness                              NaN   \n",
       "\n",
       "                                      host_response_rate  host_is_superhost  \\\n",
       "Prediccion_host_response_rate                        NaN                NaN   \n",
       "Prediccion_host_is_superhost                         NaN                NaN   \n",
       "Prediccion_host_identity_verified                    NaN                NaN   \n",
       "Prediccion_property_type                             NaN                NaN   \n",
       "Prediccion_instant_bookable                          NaN                NaN   \n",
       "Prediccion_review_scores_cleanliness                 NaN                NaN   \n",
       "Prediccion_bathrooms                                 NaN                NaN   \n",
       "host_response_rate                                   NaN                NaN   \n",
       "host_is_superhost                                    NaN                NaN   \n",
       "host_identity_verified                               NaN                NaN   \n",
       "property_type                                        NaN                NaN   \n",
       "instant_bookable                                     NaN                NaN   \n",
       "accommodates                                         NaN                NaN   \n",
       "bathrooms                                            NaN                NaN   \n",
       "price                                                NaN                NaN   \n",
       "review_scores_cleanliness                            NaN                NaN   \n",
       "\n",
       "                                      host_identity_verified  property_type  \\\n",
       "Prediccion_host_response_rate                            NaN            NaN   \n",
       "Prediccion_host_is_superhost                             NaN            NaN   \n",
       "Prediccion_host_identity_verified                        NaN            NaN   \n",
       "Prediccion_property_type                                 NaN            NaN   \n",
       "Prediccion_instant_bookable                              NaN            NaN   \n",
       "Prediccion_review_scores_cleanliness                     NaN            NaN   \n",
       "Prediccion_bathrooms                                     NaN            NaN   \n",
       "host_response_rate                                       NaN            NaN   \n",
       "host_is_superhost                                        NaN            NaN   \n",
       "host_identity_verified                                   NaN            NaN   \n",
       "property_type                                            NaN            NaN   \n",
       "instant_bookable                                         NaN            NaN   \n",
       "accommodates                                             NaN            NaN   \n",
       "bathrooms                                                NaN            NaN   \n",
       "price                                                    NaN            NaN   \n",
       "review_scores_cleanliness                                NaN            NaN   \n",
       "\n",
       "                                      instant_bookable  accommodates  \\\n",
       "Prediccion_host_response_rate                      NaN           NaN   \n",
       "Prediccion_host_is_superhost                       NaN           NaN   \n",
       "Prediccion_host_identity_verified                  NaN           NaN   \n",
       "Prediccion_property_type                           NaN           NaN   \n",
       "Prediccion_instant_bookable                        NaN           NaN   \n",
       "Prediccion_review_scores_cleanliness               NaN           NaN   \n",
       "Prediccion_bathrooms                               NaN           NaN   \n",
       "host_response_rate                                 NaN           NaN   \n",
       "host_is_superhost                                  NaN           NaN   \n",
       "host_identity_verified                             NaN           NaN   \n",
       "property_type                                      NaN           NaN   \n",
       "instant_bookable                                   NaN           NaN   \n",
       "accommodates                                       NaN           NaN   \n",
       "bathrooms                                          NaN           NaN   \n",
       "price                                              NaN           NaN   \n",
       "review_scores_cleanliness                          NaN           NaN   \n",
       "\n",
       "                                      bathrooms  price  \\\n",
       "Prediccion_host_response_rate               NaN    NaN   \n",
       "Prediccion_host_is_superhost                NaN    NaN   \n",
       "Prediccion_host_identity_verified           NaN    NaN   \n",
       "Prediccion_property_type                    NaN    NaN   \n",
       "Prediccion_instant_bookable                 NaN    NaN   \n",
       "Prediccion_review_scores_cleanliness        NaN    NaN   \n",
       "Prediccion_bathrooms                        NaN    NaN   \n",
       "host_response_rate                          NaN    NaN   \n",
       "host_is_superhost                           NaN    NaN   \n",
       "host_identity_verified                      NaN    NaN   \n",
       "property_type                               NaN    NaN   \n",
       "instant_bookable                            NaN    NaN   \n",
       "accommodates                                NaN    NaN   \n",
       "bathrooms                                   NaN    NaN   \n",
       "price                                       NaN    NaN   \n",
       "review_scores_cleanliness                   NaN    NaN   \n",
       "\n",
       "                                      review_scores_cleanliness  \n",
       "Prediccion_host_response_rate                               NaN  \n",
       "Prediccion_host_is_superhost                                NaN  \n",
       "Prediccion_host_identity_verified                           NaN  \n",
       "Prediccion_property_type                                    NaN  \n",
       "Prediccion_instant_bookable                                 NaN  \n",
       "Prediccion_review_scores_cleanliness                        NaN  \n",
       "Prediccion_bathrooms                                        NaN  \n",
       "host_response_rate                                          NaN  \n",
       "host_is_superhost                                           NaN  \n",
       "host_identity_verified                                      NaN  \n",
       "property_type                                               NaN  \n",
       "instant_bookable                                            NaN  \n",
       "accommodates                                                NaN  \n",
       "bathrooms                                                   NaN  \n",
       "price                                                       NaN  \n",
       "review_scores_cleanliness                                   NaN  "
      ]
     },
     "execution_count": 146,
     "metadata": {},
     "output_type": "execute_result"
    }
   ],
   "source": [
    "#Encontramos todas las correlaciones entre las variables \n",
    "Corr_Factors= f2.corr()\n",
    "Corr_Factors"
   ]
  },
  {
   "cell_type": "code",
   "execution_count": 147,
   "metadata": {},
   "outputs": [
    {
     "data": {
      "text/html": [
       "<div>\n",
       "<style scoped>\n",
       "    .dataframe tbody tr th:only-of-type {\n",
       "        vertical-align: middle;\n",
       "    }\n",
       "\n",
       "    .dataframe tbody tr th {\n",
       "        vertical-align: top;\n",
       "    }\n",
       "\n",
       "    .dataframe thead th {\n",
       "        text-align: right;\n",
       "    }\n",
       "</style>\n",
       "<table border=\"1\" class=\"dataframe\">\n",
       "  <thead>\n",
       "    <tr style=\"text-align: right;\">\n",
       "      <th></th>\n",
       "      <th>Prediccion_host_response_rate</th>\n",
       "      <th>Prediccion_host_is_superhost</th>\n",
       "      <th>Prediccion_host_identity_verified</th>\n",
       "      <th>Prediccion_property_type</th>\n",
       "      <th>Prediccion_instant_bookable</th>\n",
       "      <th>Prediccion_review_scores_cleanliness</th>\n",
       "      <th>Prediccion_bathrooms</th>\n",
       "      <th>host_response_rate</th>\n",
       "      <th>host_is_superhost</th>\n",
       "      <th>host_identity_verified</th>\n",
       "      <th>property_type</th>\n",
       "      <th>instant_bookable</th>\n",
       "      <th>accommodates</th>\n",
       "      <th>bathrooms</th>\n",
       "      <th>price</th>\n",
       "      <th>review_scores_cleanliness</th>\n",
       "    </tr>\n",
       "  </thead>\n",
       "  <tbody>\n",
       "    <tr>\n",
       "      <th>Prediccion_host_response_rate</th>\n",
       "      <td>NaN</td>\n",
       "      <td>NaN</td>\n",
       "      <td>NaN</td>\n",
       "      <td>NaN</td>\n",
       "      <td>NaN</td>\n",
       "      <td>NaN</td>\n",
       "      <td>NaN</td>\n",
       "      <td>NaN</td>\n",
       "      <td>NaN</td>\n",
       "      <td>NaN</td>\n",
       "      <td>NaN</td>\n",
       "      <td>NaN</td>\n",
       "      <td>NaN</td>\n",
       "      <td>NaN</td>\n",
       "      <td>NaN</td>\n",
       "      <td>NaN</td>\n",
       "    </tr>\n",
       "    <tr>\n",
       "      <th>Prediccion_host_is_superhost</th>\n",
       "      <td>NaN</td>\n",
       "      <td>NaN</td>\n",
       "      <td>NaN</td>\n",
       "      <td>NaN</td>\n",
       "      <td>NaN</td>\n",
       "      <td>NaN</td>\n",
       "      <td>NaN</td>\n",
       "      <td>NaN</td>\n",
       "      <td>NaN</td>\n",
       "      <td>NaN</td>\n",
       "      <td>NaN</td>\n",
       "      <td>NaN</td>\n",
       "      <td>NaN</td>\n",
       "      <td>NaN</td>\n",
       "      <td>NaN</td>\n",
       "      <td>NaN</td>\n",
       "    </tr>\n",
       "    <tr>\n",
       "      <th>Prediccion_host_identity_verified</th>\n",
       "      <td>NaN</td>\n",
       "      <td>NaN</td>\n",
       "      <td>NaN</td>\n",
       "      <td>NaN</td>\n",
       "      <td>NaN</td>\n",
       "      <td>NaN</td>\n",
       "      <td>NaN</td>\n",
       "      <td>NaN</td>\n",
       "      <td>NaN</td>\n",
       "      <td>NaN</td>\n",
       "      <td>NaN</td>\n",
       "      <td>NaN</td>\n",
       "      <td>NaN</td>\n",
       "      <td>NaN</td>\n",
       "      <td>NaN</td>\n",
       "      <td>NaN</td>\n",
       "    </tr>\n",
       "    <tr>\n",
       "      <th>Prediccion_property_type</th>\n",
       "      <td>NaN</td>\n",
       "      <td>NaN</td>\n",
       "      <td>NaN</td>\n",
       "      <td>NaN</td>\n",
       "      <td>NaN</td>\n",
       "      <td>NaN</td>\n",
       "      <td>NaN</td>\n",
       "      <td>NaN</td>\n",
       "      <td>NaN</td>\n",
       "      <td>NaN</td>\n",
       "      <td>NaN</td>\n",
       "      <td>NaN</td>\n",
       "      <td>NaN</td>\n",
       "      <td>NaN</td>\n",
       "      <td>NaN</td>\n",
       "      <td>NaN</td>\n",
       "    </tr>\n",
       "    <tr>\n",
       "      <th>Prediccion_instant_bookable</th>\n",
       "      <td>NaN</td>\n",
       "      <td>NaN</td>\n",
       "      <td>NaN</td>\n",
       "      <td>NaN</td>\n",
       "      <td>NaN</td>\n",
       "      <td>NaN</td>\n",
       "      <td>NaN</td>\n",
       "      <td>NaN</td>\n",
       "      <td>NaN</td>\n",
       "      <td>NaN</td>\n",
       "      <td>NaN</td>\n",
       "      <td>NaN</td>\n",
       "      <td>NaN</td>\n",
       "      <td>NaN</td>\n",
       "      <td>NaN</td>\n",
       "      <td>NaN</td>\n",
       "    </tr>\n",
       "    <tr>\n",
       "      <th>Prediccion_review_scores_cleanliness</th>\n",
       "      <td>NaN</td>\n",
       "      <td>NaN</td>\n",
       "      <td>NaN</td>\n",
       "      <td>NaN</td>\n",
       "      <td>NaN</td>\n",
       "      <td>NaN</td>\n",
       "      <td>NaN</td>\n",
       "      <td>NaN</td>\n",
       "      <td>NaN</td>\n",
       "      <td>NaN</td>\n",
       "      <td>NaN</td>\n",
       "      <td>NaN</td>\n",
       "      <td>NaN</td>\n",
       "      <td>NaN</td>\n",
       "      <td>NaN</td>\n",
       "      <td>NaN</td>\n",
       "    </tr>\n",
       "    <tr>\n",
       "      <th>Prediccion_bathrooms</th>\n",
       "      <td>NaN</td>\n",
       "      <td>NaN</td>\n",
       "      <td>NaN</td>\n",
       "      <td>NaN</td>\n",
       "      <td>NaN</td>\n",
       "      <td>NaN</td>\n",
       "      <td>NaN</td>\n",
       "      <td>NaN</td>\n",
       "      <td>NaN</td>\n",
       "      <td>NaN</td>\n",
       "      <td>NaN</td>\n",
       "      <td>NaN</td>\n",
       "      <td>NaN</td>\n",
       "      <td>NaN</td>\n",
       "      <td>NaN</td>\n",
       "      <td>NaN</td>\n",
       "    </tr>\n",
       "    <tr>\n",
       "      <th>host_response_rate</th>\n",
       "      <td>NaN</td>\n",
       "      <td>NaN</td>\n",
       "      <td>NaN</td>\n",
       "      <td>NaN</td>\n",
       "      <td>NaN</td>\n",
       "      <td>NaN</td>\n",
       "      <td>NaN</td>\n",
       "      <td>NaN</td>\n",
       "      <td>NaN</td>\n",
       "      <td>NaN</td>\n",
       "      <td>NaN</td>\n",
       "      <td>NaN</td>\n",
       "      <td>NaN</td>\n",
       "      <td>NaN</td>\n",
       "      <td>NaN</td>\n",
       "      <td>NaN</td>\n",
       "    </tr>\n",
       "    <tr>\n",
       "      <th>host_is_superhost</th>\n",
       "      <td>NaN</td>\n",
       "      <td>NaN</td>\n",
       "      <td>NaN</td>\n",
       "      <td>NaN</td>\n",
       "      <td>NaN</td>\n",
       "      <td>NaN</td>\n",
       "      <td>NaN</td>\n",
       "      <td>NaN</td>\n",
       "      <td>NaN</td>\n",
       "      <td>NaN</td>\n",
       "      <td>NaN</td>\n",
       "      <td>NaN</td>\n",
       "      <td>NaN</td>\n",
       "      <td>NaN</td>\n",
       "      <td>NaN</td>\n",
       "      <td>NaN</td>\n",
       "    </tr>\n",
       "    <tr>\n",
       "      <th>host_identity_verified</th>\n",
       "      <td>NaN</td>\n",
       "      <td>NaN</td>\n",
       "      <td>NaN</td>\n",
       "      <td>NaN</td>\n",
       "      <td>NaN</td>\n",
       "      <td>NaN</td>\n",
       "      <td>NaN</td>\n",
       "      <td>NaN</td>\n",
       "      <td>NaN</td>\n",
       "      <td>NaN</td>\n",
       "      <td>NaN</td>\n",
       "      <td>NaN</td>\n",
       "      <td>NaN</td>\n",
       "      <td>NaN</td>\n",
       "      <td>NaN</td>\n",
       "      <td>NaN</td>\n",
       "    </tr>\n",
       "    <tr>\n",
       "      <th>property_type</th>\n",
       "      <td>NaN</td>\n",
       "      <td>NaN</td>\n",
       "      <td>NaN</td>\n",
       "      <td>NaN</td>\n",
       "      <td>NaN</td>\n",
       "      <td>NaN</td>\n",
       "      <td>NaN</td>\n",
       "      <td>NaN</td>\n",
       "      <td>NaN</td>\n",
       "      <td>NaN</td>\n",
       "      <td>NaN</td>\n",
       "      <td>NaN</td>\n",
       "      <td>NaN</td>\n",
       "      <td>NaN</td>\n",
       "      <td>NaN</td>\n",
       "      <td>NaN</td>\n",
       "    </tr>\n",
       "    <tr>\n",
       "      <th>instant_bookable</th>\n",
       "      <td>NaN</td>\n",
       "      <td>NaN</td>\n",
       "      <td>NaN</td>\n",
       "      <td>NaN</td>\n",
       "      <td>NaN</td>\n",
       "      <td>NaN</td>\n",
       "      <td>NaN</td>\n",
       "      <td>NaN</td>\n",
       "      <td>NaN</td>\n",
       "      <td>NaN</td>\n",
       "      <td>NaN</td>\n",
       "      <td>NaN</td>\n",
       "      <td>NaN</td>\n",
       "      <td>NaN</td>\n",
       "      <td>NaN</td>\n",
       "      <td>NaN</td>\n",
       "    </tr>\n",
       "    <tr>\n",
       "      <th>accommodates</th>\n",
       "      <td>NaN</td>\n",
       "      <td>NaN</td>\n",
       "      <td>NaN</td>\n",
       "      <td>NaN</td>\n",
       "      <td>NaN</td>\n",
       "      <td>NaN</td>\n",
       "      <td>NaN</td>\n",
       "      <td>NaN</td>\n",
       "      <td>NaN</td>\n",
       "      <td>NaN</td>\n",
       "      <td>NaN</td>\n",
       "      <td>NaN</td>\n",
       "      <td>NaN</td>\n",
       "      <td>NaN</td>\n",
       "      <td>NaN</td>\n",
       "      <td>NaN</td>\n",
       "    </tr>\n",
       "    <tr>\n",
       "      <th>bathrooms</th>\n",
       "      <td>NaN</td>\n",
       "      <td>NaN</td>\n",
       "      <td>NaN</td>\n",
       "      <td>NaN</td>\n",
       "      <td>NaN</td>\n",
       "      <td>NaN</td>\n",
       "      <td>NaN</td>\n",
       "      <td>NaN</td>\n",
       "      <td>NaN</td>\n",
       "      <td>NaN</td>\n",
       "      <td>NaN</td>\n",
       "      <td>NaN</td>\n",
       "      <td>NaN</td>\n",
       "      <td>NaN</td>\n",
       "      <td>NaN</td>\n",
       "      <td>NaN</td>\n",
       "    </tr>\n",
       "    <tr>\n",
       "      <th>price</th>\n",
       "      <td>NaN</td>\n",
       "      <td>NaN</td>\n",
       "      <td>NaN</td>\n",
       "      <td>NaN</td>\n",
       "      <td>NaN</td>\n",
       "      <td>NaN</td>\n",
       "      <td>NaN</td>\n",
       "      <td>NaN</td>\n",
       "      <td>NaN</td>\n",
       "      <td>NaN</td>\n",
       "      <td>NaN</td>\n",
       "      <td>NaN</td>\n",
       "      <td>NaN</td>\n",
       "      <td>NaN</td>\n",
       "      <td>NaN</td>\n",
       "      <td>NaN</td>\n",
       "    </tr>\n",
       "    <tr>\n",
       "      <th>review_scores_cleanliness</th>\n",
       "      <td>NaN</td>\n",
       "      <td>NaN</td>\n",
       "      <td>NaN</td>\n",
       "      <td>NaN</td>\n",
       "      <td>NaN</td>\n",
       "      <td>NaN</td>\n",
       "      <td>NaN</td>\n",
       "      <td>NaN</td>\n",
       "      <td>NaN</td>\n",
       "      <td>NaN</td>\n",
       "      <td>NaN</td>\n",
       "      <td>NaN</td>\n",
       "      <td>NaN</td>\n",
       "      <td>NaN</td>\n",
       "      <td>NaN</td>\n",
       "      <td>NaN</td>\n",
       "    </tr>\n",
       "  </tbody>\n",
       "</table>\n",
       "</div>"
      ],
      "text/plain": [
       "                                      Prediccion_host_response_rate  \\\n",
       "Prediccion_host_response_rate                                   NaN   \n",
       "Prediccion_host_is_superhost                                    NaN   \n",
       "Prediccion_host_identity_verified                               NaN   \n",
       "Prediccion_property_type                                        NaN   \n",
       "Prediccion_instant_bookable                                     NaN   \n",
       "Prediccion_review_scores_cleanliness                            NaN   \n",
       "Prediccion_bathrooms                                            NaN   \n",
       "host_response_rate                                              NaN   \n",
       "host_is_superhost                                               NaN   \n",
       "host_identity_verified                                          NaN   \n",
       "property_type                                                   NaN   \n",
       "instant_bookable                                                NaN   \n",
       "accommodates                                                    NaN   \n",
       "bathrooms                                                       NaN   \n",
       "price                                                           NaN   \n",
       "review_scores_cleanliness                                       NaN   \n",
       "\n",
       "                                      Prediccion_host_is_superhost  \\\n",
       "Prediccion_host_response_rate                                  NaN   \n",
       "Prediccion_host_is_superhost                                   NaN   \n",
       "Prediccion_host_identity_verified                              NaN   \n",
       "Prediccion_property_type                                       NaN   \n",
       "Prediccion_instant_bookable                                    NaN   \n",
       "Prediccion_review_scores_cleanliness                           NaN   \n",
       "Prediccion_bathrooms                                           NaN   \n",
       "host_response_rate                                             NaN   \n",
       "host_is_superhost                                              NaN   \n",
       "host_identity_verified                                         NaN   \n",
       "property_type                                                  NaN   \n",
       "instant_bookable                                               NaN   \n",
       "accommodates                                                   NaN   \n",
       "bathrooms                                                      NaN   \n",
       "price                                                          NaN   \n",
       "review_scores_cleanliness                                      NaN   \n",
       "\n",
       "                                      Prediccion_host_identity_verified  \\\n",
       "Prediccion_host_response_rate                                       NaN   \n",
       "Prediccion_host_is_superhost                                        NaN   \n",
       "Prediccion_host_identity_verified                                   NaN   \n",
       "Prediccion_property_type                                            NaN   \n",
       "Prediccion_instant_bookable                                         NaN   \n",
       "Prediccion_review_scores_cleanliness                                NaN   \n",
       "Prediccion_bathrooms                                                NaN   \n",
       "host_response_rate                                                  NaN   \n",
       "host_is_superhost                                                   NaN   \n",
       "host_identity_verified                                              NaN   \n",
       "property_type                                                       NaN   \n",
       "instant_bookable                                                    NaN   \n",
       "accommodates                                                        NaN   \n",
       "bathrooms                                                           NaN   \n",
       "price                                                               NaN   \n",
       "review_scores_cleanliness                                           NaN   \n",
       "\n",
       "                                      Prediccion_property_type  \\\n",
       "Prediccion_host_response_rate                              NaN   \n",
       "Prediccion_host_is_superhost                               NaN   \n",
       "Prediccion_host_identity_verified                          NaN   \n",
       "Prediccion_property_type                                   NaN   \n",
       "Prediccion_instant_bookable                                NaN   \n",
       "Prediccion_review_scores_cleanliness                       NaN   \n",
       "Prediccion_bathrooms                                       NaN   \n",
       "host_response_rate                                         NaN   \n",
       "host_is_superhost                                          NaN   \n",
       "host_identity_verified                                     NaN   \n",
       "property_type                                              NaN   \n",
       "instant_bookable                                           NaN   \n",
       "accommodates                                               NaN   \n",
       "bathrooms                                                  NaN   \n",
       "price                                                      NaN   \n",
       "review_scores_cleanliness                                  NaN   \n",
       "\n",
       "                                      Prediccion_instant_bookable  \\\n",
       "Prediccion_host_response_rate                                 NaN   \n",
       "Prediccion_host_is_superhost                                  NaN   \n",
       "Prediccion_host_identity_verified                             NaN   \n",
       "Prediccion_property_type                                      NaN   \n",
       "Prediccion_instant_bookable                                   NaN   \n",
       "Prediccion_review_scores_cleanliness                          NaN   \n",
       "Prediccion_bathrooms                                          NaN   \n",
       "host_response_rate                                            NaN   \n",
       "host_is_superhost                                             NaN   \n",
       "host_identity_verified                                        NaN   \n",
       "property_type                                                 NaN   \n",
       "instant_bookable                                              NaN   \n",
       "accommodates                                                  NaN   \n",
       "bathrooms                                                     NaN   \n",
       "price                                                         NaN   \n",
       "review_scores_cleanliness                                     NaN   \n",
       "\n",
       "                                      Prediccion_review_scores_cleanliness  \\\n",
       "Prediccion_host_response_rate                                          NaN   \n",
       "Prediccion_host_is_superhost                                           NaN   \n",
       "Prediccion_host_identity_verified                                      NaN   \n",
       "Prediccion_property_type                                               NaN   \n",
       "Prediccion_instant_bookable                                            NaN   \n",
       "Prediccion_review_scores_cleanliness                                   NaN   \n",
       "Prediccion_bathrooms                                                   NaN   \n",
       "host_response_rate                                                     NaN   \n",
       "host_is_superhost                                                      NaN   \n",
       "host_identity_verified                                                 NaN   \n",
       "property_type                                                          NaN   \n",
       "instant_bookable                                                       NaN   \n",
       "accommodates                                                           NaN   \n",
       "bathrooms                                                              NaN   \n",
       "price                                                                  NaN   \n",
       "review_scores_cleanliness                                              NaN   \n",
       "\n",
       "                                      Prediccion_bathrooms  \\\n",
       "Prediccion_host_response_rate                          NaN   \n",
       "Prediccion_host_is_superhost                           NaN   \n",
       "Prediccion_host_identity_verified                      NaN   \n",
       "Prediccion_property_type                               NaN   \n",
       "Prediccion_instant_bookable                            NaN   \n",
       "Prediccion_review_scores_cleanliness                   NaN   \n",
       "Prediccion_bathrooms                                   NaN   \n",
       "host_response_rate                                     NaN   \n",
       "host_is_superhost                                      NaN   \n",
       "host_identity_verified                                 NaN   \n",
       "property_type                                          NaN   \n",
       "instant_bookable                                       NaN   \n",
       "accommodates                                           NaN   \n",
       "bathrooms                                              NaN   \n",
       "price                                                  NaN   \n",
       "review_scores_cleanliness                              NaN   \n",
       "\n",
       "                                      host_response_rate  host_is_superhost  \\\n",
       "Prediccion_host_response_rate                        NaN                NaN   \n",
       "Prediccion_host_is_superhost                         NaN                NaN   \n",
       "Prediccion_host_identity_verified                    NaN                NaN   \n",
       "Prediccion_property_type                             NaN                NaN   \n",
       "Prediccion_instant_bookable                          NaN                NaN   \n",
       "Prediccion_review_scores_cleanliness                 NaN                NaN   \n",
       "Prediccion_bathrooms                                 NaN                NaN   \n",
       "host_response_rate                                   NaN                NaN   \n",
       "host_is_superhost                                    NaN                NaN   \n",
       "host_identity_verified                               NaN                NaN   \n",
       "property_type                                        NaN                NaN   \n",
       "instant_bookable                                     NaN                NaN   \n",
       "accommodates                                         NaN                NaN   \n",
       "bathrooms                                            NaN                NaN   \n",
       "price                                                NaN                NaN   \n",
       "review_scores_cleanliness                            NaN                NaN   \n",
       "\n",
       "                                      host_identity_verified  property_type  \\\n",
       "Prediccion_host_response_rate                            NaN            NaN   \n",
       "Prediccion_host_is_superhost                             NaN            NaN   \n",
       "Prediccion_host_identity_verified                        NaN            NaN   \n",
       "Prediccion_property_type                                 NaN            NaN   \n",
       "Prediccion_instant_bookable                              NaN            NaN   \n",
       "Prediccion_review_scores_cleanliness                     NaN            NaN   \n",
       "Prediccion_bathrooms                                     NaN            NaN   \n",
       "host_response_rate                                       NaN            NaN   \n",
       "host_is_superhost                                        NaN            NaN   \n",
       "host_identity_verified                                   NaN            NaN   \n",
       "property_type                                            NaN            NaN   \n",
       "instant_bookable                                         NaN            NaN   \n",
       "accommodates                                             NaN            NaN   \n",
       "bathrooms                                                NaN            NaN   \n",
       "price                                                    NaN            NaN   \n",
       "review_scores_cleanliness                                NaN            NaN   \n",
       "\n",
       "                                      instant_bookable  accommodates  \\\n",
       "Prediccion_host_response_rate                      NaN           NaN   \n",
       "Prediccion_host_is_superhost                       NaN           NaN   \n",
       "Prediccion_host_identity_verified                  NaN           NaN   \n",
       "Prediccion_property_type                           NaN           NaN   \n",
       "Prediccion_instant_bookable                        NaN           NaN   \n",
       "Prediccion_review_scores_cleanliness               NaN           NaN   \n",
       "Prediccion_bathrooms                               NaN           NaN   \n",
       "host_response_rate                                 NaN           NaN   \n",
       "host_is_superhost                                  NaN           NaN   \n",
       "host_identity_verified                             NaN           NaN   \n",
       "property_type                                      NaN           NaN   \n",
       "instant_bookable                                   NaN           NaN   \n",
       "accommodates                                       NaN           NaN   \n",
       "bathrooms                                          NaN           NaN   \n",
       "price                                              NaN           NaN   \n",
       "review_scores_cleanliness                          NaN           NaN   \n",
       "\n",
       "                                      bathrooms  price  \\\n",
       "Prediccion_host_response_rate               NaN    NaN   \n",
       "Prediccion_host_is_superhost                NaN    NaN   \n",
       "Prediccion_host_identity_verified           NaN    NaN   \n",
       "Prediccion_property_type                    NaN    NaN   \n",
       "Prediccion_instant_bookable                 NaN    NaN   \n",
       "Prediccion_review_scores_cleanliness        NaN    NaN   \n",
       "Prediccion_bathrooms                        NaN    NaN   \n",
       "host_response_rate                          NaN    NaN   \n",
       "host_is_superhost                           NaN    NaN   \n",
       "host_identity_verified                      NaN    NaN   \n",
       "property_type                               NaN    NaN   \n",
       "instant_bookable                            NaN    NaN   \n",
       "accommodates                                NaN    NaN   \n",
       "bathrooms                                   NaN    NaN   \n",
       "price                                       NaN    NaN   \n",
       "review_scores_cleanliness                   NaN    NaN   \n",
       "\n",
       "                                      review_scores_cleanliness  \n",
       "Prediccion_host_response_rate                               NaN  \n",
       "Prediccion_host_is_superhost                                NaN  \n",
       "Prediccion_host_identity_verified                           NaN  \n",
       "Prediccion_property_type                                    NaN  \n",
       "Prediccion_instant_bookable                                 NaN  \n",
       "Prediccion_review_scores_cleanliness                        NaN  \n",
       "Prediccion_bathrooms                                        NaN  \n",
       "host_response_rate                                          NaN  \n",
       "host_is_superhost                                           NaN  \n",
       "host_identity_verified                                      NaN  \n",
       "property_type                                               NaN  \n",
       "instant_bookable                                            NaN  \n",
       "accommodates                                                NaN  \n",
       "bathrooms                                                   NaN  \n",
       "price                                                       NaN  \n",
       "review_scores_cleanliness                                   NaN  "
      ]
     },
     "execution_count": 147,
     "metadata": {},
     "output_type": "execute_result"
    }
   ],
   "source": [
    "#Encontramos el valor absoluto de todas las correlaciones entre las variables \n",
    "Corr_Factors1= abs(Corr_Factors)\n",
    "Corr_Factors1"
   ]
  },
  {
   "cell_type": "code",
   "execution_count": 148,
   "metadata": {},
   "outputs": [
    {
     "name": "stderr",
     "output_type": "stream",
     "text": [
      "c:\\Users\\josse\\AppData\\Local\\Programs\\Python\\Python313\\Lib\\site-packages\\seaborn\\matrix.py:202: RuntimeWarning: All-NaN slice encountered\n",
      "  vmin = np.nanmin(calc_data)\n",
      "c:\\Users\\josse\\AppData\\Local\\Programs\\Python\\Python313\\Lib\\site-packages\\seaborn\\matrix.py:207: RuntimeWarning: All-NaN slice encountered\n",
      "  vmax = np.nanmax(calc_data)\n"
     ]
    },
    {
     "data": {
      "text/plain": [
       "<Axes: >"
      ]
     },
     "execution_count": 148,
     "metadata": {},
     "output_type": "execute_result"
    },
    {
     "data": {
      "image/png": "[encoded data removed]",
      "text/plain": [
       "<Figure size 640x480 with 2 Axes>"
      ]
     },
     "metadata": {},
     "output_type": "display_data"
    }
   ],
   "source": [
    "#Graficamos el mapa de calor de las coeficientes de correlación \n",
    "Heart_Nap = sns.heatmap(Corr_Factors1, cmap= 'coolwarm')\n",
    "Heart_Nap"
   ]
  },
  {
   "cell_type": "code",
   "execution_count": 149,
   "metadata": {},
   "outputs": [
    {
     "name": "stderr",
     "output_type": "stream",
     "text": [
      "c:\\Users\\josse\\AppData\\Local\\Programs\\Python\\Python313\\Lib\\site-packages\\seaborn\\matrix.py:202: RuntimeWarning: All-NaN slice encountered\n",
      "  vmin = np.nanmin(calc_data)\n",
      "c:\\Users\\josse\\AppData\\Local\\Programs\\Python\\Python313\\Lib\\site-packages\\seaborn\\matrix.py:207: RuntimeWarning: All-NaN slice encountered\n",
      "  vmax = np.nanmax(calc_data)\n"
     ]
    },
    {
     "data": {
      "text/plain": [
       "<Axes: >"
      ]
     },
     "execution_count": 149,
     "metadata": {},
     "output_type": "execute_result"
    },
    {
     "data": {
      "image/png": "[encoded data removed]",
      "text/plain": [
       "<Figure size 1200x800 with 2 Axes>"
      ]
     },
     "metadata": {},
     "output_type": "display_data"
    }
   ],
   "source": [
    "#Ajustamos el mapa de calor de las coeficientes de correlación \n",
    "plt.figure(figsize=(12,8))\n",
    "Heart_Nap = sns.heatmap(Corr_Factors1, cmap= 'Purples', annot=True, fmt=\".2f\")\n",
    "Heart_Nap"
   ]
  },
  {
   "cell_type": "code",
   "execution_count": 150,
   "metadata": {},
   "outputs": [
    {
     "name": "stdout",
     "output_type": "stream",
     "text": [
      "Las 3 variables con mayor correlación son:\n",
      "host_response_rate: R² = nan\n",
      "host_is_superhost: R² = nan\n",
      "room_type: R² = nan\n"
     ]
    },
    {
     "name": "stderr",
     "output_type": "stream",
     "text": [
      "c:\\Users\\josse\\AppData\\Local\\Programs\\Python\\Python313\\Lib\\site-packages\\sklearn\\metrics\\_regression.py:1266: UndefinedMetricWarning: R^2 score is not well-defined with less than two samples.\n",
      "  warnings.warn(msg, UndefinedMetricWarning)\n",
      "c:\\Users\\josse\\AppData\\Local\\Programs\\Python\\Python313\\Lib\\site-packages\\sklearn\\metrics\\_regression.py:1266: UndefinedMetricWarning: R^2 score is not well-defined with less than two samples.\n",
      "  warnings.warn(msg, UndefinedMetricWarning)\n",
      "c:\\Users\\josse\\AppData\\Local\\Programs\\Python\\Python313\\Lib\\site-packages\\sklearn\\metrics\\_regression.py:1266: UndefinedMetricWarning: R^2 score is not well-defined with less than two samples.\n",
      "  warnings.warn(msg, UndefinedMetricWarning)\n",
      "c:\\Users\\josse\\AppData\\Local\\Programs\\Python\\Python313\\Lib\\site-packages\\sklearn\\metrics\\_regression.py:1266: UndefinedMetricWarning: R^2 score is not well-defined with less than two samples.\n",
      "  warnings.warn(msg, UndefinedMetricWarning)\n",
      "c:\\Users\\josse\\AppData\\Local\\Programs\\Python\\Python313\\Lib\\site-packages\\sklearn\\metrics\\_regression.py:1266: UndefinedMetricWarning: R^2 score is not well-defined with less than two samples.\n",
      "  warnings.warn(msg, UndefinedMetricWarning)\n",
      "c:\\Users\\josse\\AppData\\Local\\Programs\\Python\\Python313\\Lib\\site-packages\\sklearn\\metrics\\_regression.py:1266: UndefinedMetricWarning: R^2 score is not well-defined with less than two samples.\n",
      "  warnings.warn(msg, UndefinedMetricWarning)\n",
      "c:\\Users\\josse\\AppData\\Local\\Programs\\Python\\Python313\\Lib\\site-packages\\sklearn\\metrics\\_regression.py:1266: UndefinedMetricWarning: R^2 score is not well-defined with less than two samples.\n",
      "  warnings.warn(msg, UndefinedMetricWarning)\n",
      "c:\\Users\\josse\\AppData\\Local\\Programs\\Python\\Python313\\Lib\\site-packages\\sklearn\\metrics\\_regression.py:1266: UndefinedMetricWarning: R^2 score is not well-defined with less than two samples.\n",
      "  warnings.warn(msg, UndefinedMetricWarning)\n"
     ]
    }
   ],
   "source": [
    "# Obtener R² de cada modelo\n",
    "r2_1 = model.score(Var_Indep, Var_Dep)\n",
    "r2_2 = model2.score(Var_Indep2, Var_Dep)\n",
    "r2_3 = model3.score(Var_Indep3, Var_Dep)\n",
    "r2_4 = model4.score(Var_Indep4, Var_Dep)\n",
    "r2_5 = model5.score(Var_Indep5, Var_Dep)\n",
    "r2_6 = model6.score(Var_Indep6, Var_Dep)\n",
    "r2_7 = model7.score(Var_Indep7, Var_Dep)\n",
    "r2_8 = model8.score(Var_Indep8, Var_Dep2)\n",
    "\n",
    "# Guardar los resultados en un diccionario\n",
    "r2_values = {\n",
    "    \"host_response_rate\": r2_1,\n",
    "    \"host_is_superhost\": r2_2,\n",
    "    \"room_type\": r2_3,\n",
    "    \"host_identity_verified\": r2_4,\n",
    "    \"property_type\": r2_5,\n",
    "    \"instant_bookable\": r2_6,\n",
    "    \"review_scores_cleanliness\": r2_7,\n",
    "    \"bathrooms\": r2_8\n",
    "}\n",
    "\n",
    "# Ordenar y mostrar las 3 mejores variables\n",
    "top_3 = sorted(r2_values.items(), key=lambda x: x[1], reverse=True)[:3]\n",
    "print(\"Las 3 variables con mayor correlación son:\")\n",
    "for variable, r2 in top_3:\n",
    "    print(f\"{variable}: R² = {r2:.4f}\")"
   ]
  }
 ],
 "metadata": {
  "kernelspec": {
   "display_name": "Python 3",
   "language": "python",
   "name": "python3"
  },
  "language_info": {
   "codemirror_mode": {
    "name": "ipython",
    "version": 3
   },
   "file_extension": ".py",
   "mimetype": "text/x-python",
   "name": "python",
   "nbconvert_exporter": "python",
   "pygments_lexer": "ipython3",
   "version": "3.13.1"
  }
 },
 "nbformat": 4,
 "nbformat_minor": 2
}
